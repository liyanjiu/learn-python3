{
 "cells": [
  {
   "cell_type": "code",
   "execution_count": 1,
   "metadata": {
    "collapsed": true
   },
   "outputs": [],
   "source": [
    "import os\n",
    "import os.path\n",
    "import nbformat\n",
    "import glob"
   ]
  },
  {
   "cell_type": "code",
   "execution_count": 2,
   "metadata": {
    "collapsed": true
   },
   "outputs": [],
   "source": [
    "folders = [\n",
    "    '01-start-python',\n",
    "    '02-basic-python',\n",
    "    '03-advanced-python',\n",
    "    '04-object-oriented-programming',\n",
    "    '05-python-standard-library',\n",
    "    '06-python-scenario-guide',\n",
    "    '07-python-project',\n",
    "    '08-extending-and-embedding',\n",
    "    '09-pythonic-code'\n",
    "]\n"
   ]
  },
  {
   "cell_type": "code",
   "execution_count": 3,
   "metadata": {
    "scrolled": true
   },
   "outputs": [
    {
     "name": "stdout",
     "output_type": "stream",
     "text": [
      "01-start-python\n",
      "    00-choose-interpreter.ipynb Picking an Python Interpreter (3 vs. 2)\n",
      "    01-development-env.ipynb Your Development Environment\n",
      "    02-install-package.ipynb How to Install Packages\n",
      "02-basic-python\n",
      "    00-python-exceptions.ipynb Errors and Exceptions\n",
      "03-advanced-python\n",
      "    00-functional-programming-in-python.ipynb Functional Programming in Python\n",
      "    00-map-reduce.ipynb Map and Reduce\n",
      "    01-generator.ipynb Generator Types\n",
      "    Untitled.ipynb Iterator\n",
      "    advance\n",
      "    function\n",
      "    functional\n",
      "04-object-oriented-programming\n",
      "    00-python-oop.ipynb Object-oriented programming\n",
      "    01-python-scopes-namespace.ipynb Python Scopes and Namespaces\n",
      "    oop-example-1-forest.ipynb Using OOP Model for a Forest\n",
      "05-python-standard-library\n",
      "    01-builtin-types.ipynb Built-in Types\n",
      "    02-builtin-functions.ipynb Built-in Functions\n",
      "    03-builtin-exceptions.ipynb Errors and Exceptions\n",
      "    04-re.ipynb re — Regular expression operations\n",
      "    05-os.ipynb os — Miscellaneous operating system interfaces\n",
      "    06-io.ipynb io — Core tools for working with streams\n",
      "    07-collections.ipynb collections — Container datatypes\n",
      "    08-collections-abc.ipynb collections.abc — Abstract Base Classes for Containers\n",
      "    09-datetime.ipynb datetime — Basic date and time types\n",
      "    10-hashlib.ipynb hashlib — Secure hashes and message digests\n",
      "    11-contextlib.ipynb contextlib — Utilities for with-statement contexts\n",
      "    test_io\n",
      "06-python-scenario-guide\n",
      "    00-index.ipynb Scenario Guide for Python Applications\n",
      "    01-numpy\n",
      "        00-numpy-overview.ipynb Numpy Overview\n",
      "        01-numpy-basics.ipynb NumPy Basics\n",
      "        02-numpy-shape.ipynb Shape Manipulation\n",
      "        03-numpy-copies.ipynb Copies and Views\n",
      "        04-numpy-fancy-indexing.ipynb Fancy indexing and index tricks\n",
      "        05-numpy-linear-algebra.ipynb Linear Algebra\n",
      "        06-numpy-tricks-tips.ipynb Tricks and Tips\n",
      "    02-scipy\n",
      "        00-scipy-overview.ipynb Scientific Overview\n",
      "    03-matplotlib\n",
      "        00-matplotlib-overview.ipynb Matplotlib Overview\n",
      "        01-matplotlib-example.ipynb Matplotlib Example | 十分钟爱上Matplotlib\n",
      "        02-pyplot-tutorial.ipynb Pyplot Tutorial\n",
      "    04-networkx\n",
      "        00-networdx-introduction.ipynb Networkx Introduction\n",
      "        01-graph-types-and-methods.ipynb Graph Types and Operations\n",
      "        02-algorithms-overview.ipynb Algorithms Overview\n",
      "        03-traversal-bfs.ipynb BFS in NetworkX\n",
      "    python-howtos.ipynb Python HOWTOs\n",
      "07-python-project\n",
      "    pythonic\n",
      "08-extending-and-embedding\n",
      "09-pythonic-code\n",
      "    00-pythonic-overview.ipynb Writing Great Python Code\n",
      "    01-project-structure.ipynb Structuring Your Project\n",
      "    02-code-style.ipynb Code Style\n",
      "    03-reading-great.ipynb Reading Great Code\n",
      "    reading-web.ipynb Reading `web.py`\n"
     ]
    }
   ],
   "source": [
    "index_file = open('index.md', 'w')\n",
    "\n",
    "for folder in folders:\n",
    "    print(folder)\n",
    "    index_file.write('- [***' + folder \n",
    "                     +'***](' + folder + ')\\n')\n",
    "    files = sorted(os.listdir(folder))\n",
    "    for file in files:\n",
    "        # if file is a fold\n",
    "        if os.path.isdir(os.path.join(folder, file)) and not file.startswith('.'):\n",
    "            print(' '*4 + file)\n",
    "            sub_folder = os.path.join(folder, file)\n",
    "            index_file.write('\\t - [***' + file + '***](' + sub_folder + ')\\n')\n",
    "            # deal with files of sub-folder\n",
    "            sub_files = sorted(os.listdir(sub_folder))\n",
    "            for sub_file in sub_files:\n",
    "                if sub_file.endswith('.ipynb'):\n",
    "                    with open(os.path.join(sub_folder, sub_file)) as sfp:\n",
    "                        nb = nbformat.read(sfp, nbformat.NO_CONVERT)\n",
    "                    name = nb['cells'][0]['source'][1:].strip()\n",
    "                    print(' '*8 + sub_file, name)\n",
    "                    index_file.write('\\t\\t - [' + sub_file[:2] + ' ' + name + ']('\n",
    "                                     + sub_folder + '/' + sub_file +')\\n')\n",
    "        # if file's extension is `ipynb`         \n",
    "        if file.endswith('.ipynb'):\n",
    "            with open(os.path.join(folder, file)) as fp:\n",
    "                nb = nbformat.read(fp, nbformat.NO_CONVERT)\n",
    "            name = nb['cells'][0]['source'][1:].strip()\n",
    "            print(' '*4 + file, name)\n",
    "            index_file.write('\\t - [' + file[:2] + ' ' + name + ']('\n",
    "                             + folder + '/' + file +')\\n')\n",
    "\n",
    "index_file.close()"
   ]
  }
 ],
 "metadata": {
  "kernelspec": {
   "display_name": "Python 3",
   "language": "python",
   "name": "python3"
  },
  "language_info": {
   "codemirror_mode": {
    "name": "ipython",
    "version": 3
   },
   "file_extension": ".py",
   "mimetype": "text/x-python",
   "name": "python",
   "nbconvert_exporter": "python",
   "pygments_lexer": "ipython3",
   "version": "3.6.3"
  }
 },
 "nbformat": 4,
 "nbformat_minor": 2
}
