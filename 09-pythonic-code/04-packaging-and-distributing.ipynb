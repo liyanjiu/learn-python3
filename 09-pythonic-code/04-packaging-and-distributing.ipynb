{
 "cells": [
  {
   "cell_type": "markdown",
   "metadata": {},
   "source": [
    "# Distributing Python Modules"
   ]
  },
  {
   "cell_type": "markdown",
   "metadata": {},
   "source": [
    "As a popular open source development project, Python has an active supporting community of contributors and users that also make their software available for other Python developers to use under open source license terms.\n",
    "\n",
    "\n",
    "## Key terms\n",
    "- **`Python Packaging Index`** is a public repository of open source licensed packages made available for use by other Python users\n",
    "- **`Python Packaging Authority`** are the group of developers and documentation authors responsible for the maintenance and evolution of the standard packaging tools and the associated metadata and file format standards. They maintain a variety of tools, documentation and issue trackers on both GitHub and BitBucket.\n",
    "- **`distutils`** is the original build and distribution system first added to the Python standard library in 1998. While **direct use of distutils is being phased out**, it still laid the foundation for the current packaging and distribution infrastructure, and it not only remains part of the standard library, but its name lives on in other ways (such as the name of the mailing list used to coordinate Python packaging standards development).\n",
    "- **`setuptools`** is a (largely) drop-in **replacement for distutils** first published in 2004. Its most notable addition over the unmodified distutils tools was the ability to declare dependencies on other packages. It is currently recommended as a more regularly updated alternative to distutils that offers consistent support for more recent packaging standards across a wide range of Python versions.\n",
    "- **`wheel`** (in this context) is a project that adds the `bdist_wheel` command to `distutils/setuptools`. This produces a **cross platform binary packaging format** (called “wheels” or “wheel files” and defined in PEP 427) that allows Python libraries, even those including binary extensions, to be installed on a system without needing to be built locally.\n",
    "\n",
    "## Open source licensing and collaboration\n",
    "In most parts of the world, **software is automatically covered by copyright**. This means that other developers require explicit permission to copy, use, modify and redistribute the software.\n",
    "\n",
    "Open source licensing is a way of **explicitly granting such permission in a relatively consistent way**, allowing developers to share and collaborate efficiently by making common solutions to various problems freely available. This leaves many developers free to spend more time focusing on the problems that are relatively unique to their specific situation.\n",
    "\n",
    "\n",
    "## Installing the tools\n",
    "\n",
    "The currently **recommended build and distribution tools** can be installed by invoking the **`pip`** module at the command line:\n",
    "\n",
    "python -m pip install setuptools wheel twine\n",
    "Note For POSIX users (including Mac OS X and Linux users), these instructions assume the use of a virtual environment.\n",
    "For Windows users, these instructions assume that the option to adjust the system PATH environment variable was selected when installing Python.\n",
    "The Python Packaging User Guide includes more details on the currently recommended tools.\n",
    "\n",
    "## Reading the guide\n",
    "The Python Packaging User Guide covers the various key steps and elements involved in creating a project:\n",
    "\n",
    "[Packaging and Distributing Projects](https://packaging.python.org/tutorials/distributing-packages/)\n",
    "- Project structure\n",
    "- Building and packaging the project\n",
    "- Uploading the project to the Python Packaging Index"
   ]
  }
 ],
 "metadata": {
  "kernelspec": {
   "display_name": "Python 3",
   "language": "python",
   "name": "python3"
  },
  "language_info": {
   "codemirror_mode": {
    "name": "ipython",
    "version": 3
   },
   "file_extension": ".py",
   "mimetype": "text/x-python",
   "name": "python",
   "nbconvert_exporter": "python",
   "pygments_lexer": "ipython3",
   "version": "3.6.3"
  }
 },
 "nbformat": 4,
 "nbformat_minor": 2
}
