{
 "cells": [
  {
   "cell_type": "markdown",
   "metadata": {},
   "source": [
    "# Reading `web.py`"
   ]
  },
  {
   "cell_type": "markdown",
   "metadata": {},
   "source": [
    "Source: https://github.com/webpy/webpy/blob/master/web"
   ]
  },
  {
   "cell_type": "markdown",
   "metadata": {},
   "source": [
    "## utils.py\n",
    "\n",
    "use `__all__`list all the methods and attributes.\n",
    "\n"
   ]
  },
  {
   "cell_type": "code",
   "execution_count": 3,
   "metadata": {
    "collapsed": true
   },
   "outputs": [],
   "source": [
    "def my_uniq(seq):\n",
    "    return list(set(seq))"
   ]
  },
  {
   "cell_type": "code",
   "execution_count": 4,
   "metadata": {
    "scrolled": false
   },
   "outputs": [
    {
     "data": {
      "text/plain": [
       "[0, 1, 4]"
      ]
     },
     "execution_count": 4,
     "metadata": {},
     "output_type": "execute_result"
    }
   ],
   "source": [
    "my_uniq([0, 0, 1, 4])"
   ]
  },
  {
   "cell_type": "code",
   "execution_count": 1,
   "metadata": {
    "collapsed": true
   },
   "outputs": [],
   "source": [
    "def uniq(seq, key=None):\n",
    "    \"\"\"\n",
    "    Removes duplicate elements from a list while preserving the order of the rest.\n",
    "        >>> uniq([9,0,2,1,0])\n",
    "        [9, 0, 2, 1]\n",
    "    The value of the optional `key` parameter should be a function that\n",
    "    takes a single argument and returns a key to test the uniqueness.\n",
    "        >>> uniq([\"Foo\", \"foo\", \"bar\"], key=lambda s: s.lower())\n",
    "        ['Foo', 'bar']\n",
    "    \"\"\"\n",
    "    key = key or (lambda x: x)\n",
    "    seen = set()\n",
    "    result = []\n",
    "    for v in seq:\n",
    "        k = key(v)\n",
    "        if k in seen:\n",
    "            continue\n",
    "        seen.add(k)\n",
    "        result.append(v)\n",
    "    return result"
   ]
  },
  {
   "cell_type": "code",
   "execution_count": 2,
   "metadata": {},
   "outputs": [
    {
     "data": {
      "text/plain": [
       "[0, 1, 4]"
      ]
     },
     "execution_count": 2,
     "metadata": {},
     "output_type": "execute_result"
    }
   ],
   "source": [
    "uniq([0, 0, 1, 4])"
   ]
  },
  {
   "cell_type": "markdown",
   "metadata": {},
   "source": [
    "亮点：\n",
    "1. 支持关键字参数key，可以自定义过滤类型。\n",
    "2. 写出了list(set(list))的过程。"
   ]
  },
  {
   "cell_type": "code",
   "execution_count": 5,
   "metadata": {
    "collapsed": true
   },
   "outputs": [],
   "source": [
    "def dictreverse(mapping):\n",
    "    \"\"\"\n",
    "    Returns a new dictionary with keys and values swapped.\n",
    "    \n",
    "        >>> dictreverse({1: 2, 3: 4})\n",
    "        {2: 1, 4: 3}\n",
    "    \"\"\"\n",
    "    return dict([(value, key) for (key, value) in iteritems(mapping)])"
   ]
  }
 ],
 "metadata": {
  "kernelspec": {
   "display_name": "Python 3",
   "language": "python",
   "name": "python3"
  },
  "language_info": {
   "codemirror_mode": {
    "name": "ipython",
    "version": 3
   },
   "file_extension": ".py",
   "mimetype": "text/x-python",
   "name": "python",
   "nbconvert_exporter": "python",
   "pygments_lexer": "ipython3",
   "version": "3.6.3"
  }
 },
 "nbformat": 4,
 "nbformat_minor": 2
}
