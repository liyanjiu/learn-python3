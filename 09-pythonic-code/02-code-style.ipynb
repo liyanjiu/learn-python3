{
 "cells": [
  {
   "cell_type": "markdown",
   "metadata": {},
   "source": [
    "# Code Style"
   ]
  },
  {
   "cell_type": "markdown",
   "metadata": {},
   "source": [
    "Indeed, a high level of readability is at the heart of the design of the Python language, following the recognized fact that code is read much more often than it is written.\n",
    "\n",
    "One reason for the high readability of Python code is its relatively complete set of **Code Style guidelines** and **“Pythonic” idioms**.\n",
    "\n",
    "When a veteran Python developer (a Pythonista) calls portions of code not “Pythonic”, they usually mean that these lines of code do not follow the common guidelines and fail to express its intent in what is considered the best (hear: most readable) way.\n",
    "\n",
    "On some border cases, no best way has been agreed upon on how to express an intent in Python code, but these cases are rare."
   ]
  },
  {
   "cell_type": "markdown",
   "metadata": {},
   "source": [
    "***"
   ]
  },
  {
   "cell_type": "markdown",
   "metadata": {},
   "source": [
    "## Zen of Python\n",
    "\n",
    "Also known as [PEP 20](https://www.python.org/dev/peps/pep-0020/), the guiding principles for Python’s design."
   ]
  },
  {
   "cell_type": "code",
   "execution_count": 1,
   "metadata": {
    "scrolled": false
   },
   "outputs": [
    {
     "name": "stdout",
     "output_type": "stream",
     "text": [
      "The Zen of Python, by Tim Peters\n",
      "\n",
      "Beautiful is better than ugly.\n",
      "Explicit is better than implicit.\n",
      "Simple is better than complex.\n",
      "Complex is better than complicated.\n",
      "Flat is better than nested.\n",
      "Sparse is better than dense.\n",
      "Readability counts.\n",
      "Special cases aren't special enough to break the rules.\n",
      "Although practicality beats purity.\n",
      "Errors should never pass silently.\n",
      "Unless explicitly silenced.\n",
      "In the face of ambiguity, refuse the temptation to guess.\n",
      "There should be one-- and preferably only one --obvious way to do it.\n",
      "Although that way may not be obvious at first unless you're Dutch.\n",
      "Now is better than never.\n",
      "Although never is often better than *right* now.\n",
      "If the implementation is hard to explain, it's a bad idea.\n",
      "If the implementation is easy to explain, it may be a good idea.\n",
      "Namespaces are one honking great idea -- let's do more of those!\n"
     ]
    }
   ],
   "source": [
    "import this"
   ]
  },
  {
   "cell_type": "markdown",
   "metadata": {},
   "source": [
    "## PEP 8\n",
    "\n",
    "PEP 8 is the de-facto code style guide for Python. A high quality, easy-to-read version of PEP 8 is also available at pep8.org.\n",
    "\n",
    "This is highly recommended reading. The entire Python community does their best to adhere to the guidelines laid out within this document. Some project may sway from it from time to time, while others may amend its recommendations.\n",
    "\n",
    "That being said, conforming your Python code to PEP 8 is generally a good idea and helps make code more consistent when working on projects with other developers. \n",
    "\n",
    "There is a command-line program, pycodestyle (previously known as pep8), that can check your code for conformance. Install it by running the following command in your terminal:\n",
    "\n",
    "```bash\n",
    "$ pip install pycodestyle\n",
    "```\n",
    "Then run it on a file or series of files to get a report of any violations.\n",
    "\n",
    "```bash\n",
    "$ pycodestyle optparse.py\n",
    "```\n"
   ]
  },
  {
   "cell_type": "markdown",
   "metadata": {},
   "source": [
    "## Name style\n",
    "\n",
    "Guido recommends:\n",
    "\n",
    "| Type  | Public | Internal | \n",
    "| ----- | ------ | -------- |\n",
    "| Modules |lower_with_under|_lower_with_under\n",
    "| Packages |lower_with_under|. |\n",
    "| Classes |CapWords|_CapWords|\n",
    "| Exceptions |CapWords| .|\n",
    "| Functions |lower_with_under()|_lower_with_under()|\n",
    "| Global/Class Constants|CAPS_WITH_UNDER|_CAP_WITH_UNDER|\n",
    "| Global/Class Variables|lower_with_under|_lower_with_under|\n",
    "| Instance Variables|lower_with_under|_lower_with_under (protected) or __lower_with_under (private)|\n",
    "| Method Names| lower_with_under() |_lower_with_under() (protected) or __lower_with_under() (private) |\n",
    "| Function/Method Parameters| lower_with_under | . |\n",
    "| Local Variables| lower_with_under |   .|\n",
    "\n",
    "**Note: Do not use `-` in your modules or package names.** "
   ]
  },
  {
   "cell_type": "markdown",
   "metadata": {},
   "source": [
    "## Idioms\n",
    "A programming idiom, put simply, is a way to write code. \n",
    "\n",
    "Idiomatic Python code is often referred to as being Pythonic.\n",
    "\n",
    ">Although there usually is one — and preferably only one — obvious way to do it;\n",
    "\n",
    "the way to write idiomatic Python code can be non-obvious to Python beginners. So, good idioms must be consciously acquired.\n",
    "\n",
    "Some common Python idioms follow:"
   ]
  },
  {
   "cell_type": "markdown",
   "metadata": {},
   "source": [
    "### Unpacking\n",
    "\n",
    "If you know the length of a list or tuple, you can assign names to its elements with unpacking. For example, since enumerate() will provide a tuple of two elements for each item in list:"
   ]
  },
  {
   "cell_type": "code",
   "execution_count": 2,
   "metadata": {},
   "outputs": [
    {
     "name": "stdout",
     "output_type": "stream",
     "text": [
      "some_list[0] = 1\n",
      "some_list[1] = 2\n",
      "some_list[2] = 3\n",
      "some_list[3] = 4\n",
      "some_list[4] = 5\n",
      "some_list[5] = 6\n",
      "some_list[6] = 7\n",
      "some_list[7] = 8\n",
      "some_list[8] = 9\n",
      "some_list[9] = 10\n"
     ]
    }
   ],
   "source": [
    "some_list = [x for x in range(1,11)]\n",
    "for index, item in enumerate(some_list):\n",
    "    print(\"some_list[{index}] = {item}\".format(item=item, index=index))"
   ]
  },
  {
   "cell_type": "markdown",
   "metadata": {},
   "source": [
    "### Create an ignored variable"
   ]
  },
  {
   "cell_type": "code",
   "execution_count": 3,
   "metadata": {},
   "outputs": [
    {
     "name": "stdout",
     "output_type": "stream",
     "text": [
      "foobar . txt\n"
     ]
    }
   ],
   "source": [
    "filename = 'foobar.txt'\n",
    "basename, __, ext = filename.rpartition('.')\n",
    "print(basename, __, ext)"
   ]
  },
  {
   "cell_type": "markdown",
   "metadata": {},
   "source": [
    "### Create a length-N list of the same thing\n",
    "\n",
    "Use the Python list * operator:"
   ]
  },
  {
   "cell_type": "code",
   "execution_count": 4,
   "metadata": {},
   "outputs": [],
   "source": [
    "list = [None] * 4 "
   ]
  },
  {
   "cell_type": "markdown",
   "metadata": {},
   "source": [
    "### Create a length-N list of lists\n",
    "\n",
    "Because lists are mutable, the * operator (as above) will create a list of N references to the same list,which is not likely what you want. Instead, use a list comprehension:"
   ]
  },
  {
   "cell_type": "code",
   "execution_count": 5,
   "metadata": {
    "collapsed": true
   },
   "outputs": [],
   "source": [
    "list = [[] for __ in range(4)]"
   ]
  },
  {
   "cell_type": "markdown",
   "metadata": {},
   "source": [
    "### Create a string from a list\n",
    "A common idiom for creating strings is to use str.join() on an empty string.\n",
    "\n",
    "letters = ['s', 'p', 'a', 'm']\n",
    "word = ''.join(letters)\n",
    "\n",
    "This will set the value of the variable word to ‘spam’. This idiom can be applied to lists and tuples."
   ]
  },
  {
   "cell_type": "code",
   "execution_count": 6,
   "metadata": {
    "scrolled": true
   },
   "outputs": [
    {
     "name": "stdout",
     "output_type": "stream",
     "text": [
      "spam spam\n"
     ]
    }
   ],
   "source": [
    "letters_list = ['s', 'p', 'a', 'm']\n",
    "letters_tuple = ('s', 'p', 'a', 'm')\n",
    "word_l = ''.join(letters_list)\n",
    "word_t = ''.join(letters_tuple)\n",
    "print(word_l, word_t)"
   ]
  },
  {
   "cell_type": "markdown",
   "metadata": {},
   "source": [
    "### Searching for an item in a collection\n",
    "\n",
    "Sometimes we need to search through a collection of things. Let’s look at two options: lists and sets.\n",
    "\n",
    "Take the following code for example:"
   ]
  },
  {
   "cell_type": "code",
   "execution_count": 7,
   "metadata": {
    "collapsed": true
   },
   "outputs": [],
   "source": [
    "s = set(['s', 'p', 'a', 'm'])\n",
    "l = ['s', 'p', 'a', 'm']\n",
    "\n",
    "def lookup_set(s):\n",
    "    return 's' in s\n",
    "\n",
    "def lookup_list(l):\n",
    "    return 's' in l"
   ]
  },
  {
   "cell_type": "markdown",
   "metadata": {},
   "source": [
    "Even though both functions look identical, because lookup_set is utilizing the fact that sets in Python are hashtables, the lookup performance between the two is very different.\n",
    "\n",
    "- To determine whether an item is in a list, Python will have to go through each item until it finds a matching item. This is time consuming, especially for long lists.\n",
    "\n",
    "- In a set, on the other hand, the hash of the item will tell Python where in the set to look for a matching item. As a result, the search can be done quickly, even if the set is large. Searching in dictionaries works the same way. \n",
    "\n",
    "Because of these differences in performance, it is often a good idea to use sets or dictionaries instead of lists in cases where:\n",
    "\n",
    "- The collection will contain a large number of items\n",
    "- You will be repeatedly searching for items in the collection\n",
    "- You do not have duplicate items.\n",
    "\n",
    "For small collections, or collections which you will not frequently be searching through, the additional time and memory required to set up the hashtable will often be greater than the time saved by the improved search speed.\n",
    "\n"
   ]
  },
  {
   "cell_type": "markdown",
   "metadata": {
    "collapsed": true
   },
   "source": [
    "## Conventions\n",
    "\n",
    "Here are some conventions you should follow to make your code easier to read.\n",
    "\n",
    "### Check if variable equals a constant\n"
   ]
  },
  {
   "cell_type": "code",
   "execution_count": 8,
   "metadata": {},
   "outputs": [
    {
     "name": "stdout",
     "output_type": "stream",
     "text": [
      "True!\n"
     ]
    }
   ],
   "source": [
    "#　Bad:\n",
    "\n",
    "attr = True\n",
    "\n",
    "if attr == True:\n",
    "    print('True!')\n",
    "\n",
    "if attr == None:\n",
    "    print('attr is None!')"
   ]
  },
  {
   "cell_type": "code",
   "execution_count": 9,
   "metadata": {},
   "outputs": [
    {
     "name": "stdout",
     "output_type": "stream",
     "text": [
      "attr is falsey!\n",
      "attr is None!\n"
     ]
    }
   ],
   "source": [
    "# Good:\n",
    "\n",
    "attr = None\n",
    "\n",
    "# Just check the value\n",
    "if attr:\n",
    "    print('attr is truthy!') \n",
    "\n",
    "# or check for the opposite\n",
    "if not attr:\n",
    "    print('attr is falsey!') \n",
    "\n",
    "# or, since None is considered false, explicitly check for it\n",
    "if attr is None:\n",
    "    print('attr is None!') \n"
   ]
  },
  {
   "cell_type": "markdown",
   "metadata": {},
   "source": [
    "### Access a Dictionary Element"
   ]
  },
  {
   "cell_type": "code",
   "execution_count": 10,
   "metadata": {},
   "outputs": [
    {
     "name": "stdout",
     "output_type": "stream",
     "text": [
      "world\n"
     ]
    }
   ],
   "source": [
    "# Bad:\n",
    "\n",
    "d = {'hello': 'world'}\n",
    "if d.keys():\n",
    "    print(d['hello'])     # prints 'world'\n",
    "else:\n",
    "    print('default_value') "
   ]
  },
  {
   "cell_type": "code",
   "execution_count": 11,
   "metadata": {},
   "outputs": [
    {
     "name": "stdout",
     "output_type": "stream",
     "text": [
      "world\n",
      "default_value\n"
     ]
    }
   ],
   "source": [
    "# Good:\n",
    "\n",
    "d = {'hello': 'world'}\n",
    "\n",
    "print(d.get('hello', 'default_value')) # prints 'world' \n",
    "print(d.get('thingy', 'default_value')) # prints 'default_value'"
   ]
  },
  {
   "cell_type": "code",
   "execution_count": 12,
   "metadata": {},
   "outputs": [
    {
     "name": "stdout",
     "output_type": "stream",
     "text": [
      "world\n"
     ]
    }
   ],
   "source": [
    "# Also Good, Sometimes Best:\n",
    "\n",
    "if 'hello' in d:\n",
    "    print(d['hello']) "
   ]
  },
  {
   "cell_type": "markdown",
   "metadata": {},
   "source": [
    "### Short Ways to Manipulate Lists\n",
    "\n",
    "- List comprehensions provide a powerful, concise way to work with lists. \n",
    "- Also, the map() and filter() functions can perform operations on lists using a different, more concise syntax."
   ]
  },
  {
   "cell_type": "code",
   "execution_count": 13,
   "metadata": {},
   "outputs": [
    {
     "data": {
      "text/plain": [
       "[5]"
      ]
     },
     "execution_count": 13,
     "metadata": {},
     "output_type": "execute_result"
    }
   ],
   "source": [
    "# Bad:\n",
    "\n",
    "# Filter elements greater than 4\n",
    "a = [3, 4, 5]\n",
    "b = []\n",
    "for i in a:\n",
    "    if i > 4:\n",
    "        b.append(i)\n",
    "b"
   ]
  },
  {
   "cell_type": "code",
   "execution_count": 14,
   "metadata": {},
   "outputs": [
    {
     "name": "stdout",
     "output_type": "stream",
     "text": [
      "[5]\n",
      "<filter object at 0x7fcfe45a7f60>\n"
     ]
    }
   ],
   "source": [
    "# Good:\n",
    "\n",
    "a = [3, 4, 5]\n",
    "b = [i for i in a if i > 4]  # list comprehension\n",
    "print(b)\n",
    "\n",
    "# Or:\n",
    "b = filter(lambda x: x > 4, a)  # filter() function\n",
    "print(b)"
   ]
  },
  {
   "cell_type": "markdown",
   "metadata": {},
   "source": [
    "```\n",
    "Note that filter(function, iterable) is equivalent to the generator expression (item for item in iterable if function(item)) if function is not None and (item for item in iterable if item) if function is None.\n",
    "```\n",
    "\n"
   ]
  },
  {
   "cell_type": "code",
   "execution_count": 15,
   "metadata": {},
   "outputs": [
    {
     "data": {
      "text/plain": [
       "[6, 7, 8]"
      ]
     },
     "execution_count": 15,
     "metadata": {},
     "output_type": "execute_result"
    }
   ],
   "source": [
    "# Bad:\n",
    "\n",
    "# Add three to all list members.\n",
    "a = [3, 4, 5]\n",
    "for i in range(len(a)):\n",
    "    a[i] += 3\n",
    "a"
   ]
  },
  {
   "cell_type": "code",
   "execution_count": 16,
   "metadata": {
    "collapsed": true
   },
   "outputs": [],
   "source": [
    "# Good:\n",
    "\n",
    "a = [3, 4, 5]\n",
    "a = [i + 3 for i in a]\n",
    "\n",
    "# Or:\n",
    "a = map(lambda i: i + 3, a)"
   ]
  },
  {
   "cell_type": "markdown",
   "metadata": {},
   "source": [
    "Use enumerate() keep a count of your place in the list."
   ]
  },
  {
   "cell_type": "code",
   "execution_count": 17,
   "metadata": {},
   "outputs": [
    {
     "name": "stdout",
     "output_type": "stream",
     "text": [
      "0 3\n",
      "1 4\n",
      "2 5\n"
     ]
    }
   ],
   "source": [
    "a = [3, 4, 5]\n",
    "for i, item in enumerate(a):\n",
    "    print(i, item)\n"
   ]
  },
  {
   "cell_type": "markdown",
   "metadata": {},
   "source": [
    "### Read From a File\n",
    "Use the with open syntax to read from files. This will automatically close files for you.\n",
    "\n",
    "The with statement is better because it will ensure you always close the file, even if an exception is raised inside the with block."
   ]
  },
  {
   "cell_type": "code",
   "execution_count": 18,
   "metadata": {},
   "outputs": [
    {
     "name": "stdout",
     "output_type": "stream",
     "text": [
      "This is the test file.\n",
      "This is the second line.\n",
      "This is the end line.\n"
     ]
    }
   ],
   "source": [
    "# Bad:\n",
    "\n",
    "f = open('file.txt')\n",
    "a = f.read()\n",
    "print(a)\n",
    "f.close()"
   ]
  },
  {
   "cell_type": "code",
   "execution_count": 19,
   "metadata": {},
   "outputs": [
    {
     "name": "stdout",
     "output_type": "stream",
     "text": [
      "This is the test file.\n",
      "\n",
      "This is the second line.\n",
      "\n",
      "This is the end line.\n"
     ]
    }
   ],
   "source": [
    "# Good:\n",
    "\n",
    "with open('file.txt') as f:\n",
    "    for line in f:\n",
    "        print(line)"
   ]
  },
  {
   "cell_type": "markdown",
   "metadata": {},
   "source": [
    "### Line Continuations\n",
    "\n",
    "When a logical line of code is longer than the accepted limit, you need to split it over multiple physical lines. The Python interpreter will join consecutive lines if the last character of the line is a backslash. This is helpful in some cases, but should usually be avoided because of its fragility: a white space added to the end of the line, after the backslash, will break the code and may have unexpected results.\n",
    "\n",
    "A better solution is to use **parentheses around your elements**. Left with an unclosed parenthesis on an end-of-line the Python interpreter will join the next line until the parentheses are closed. The same behavior holds for curly and square braces."
   ]
  },
  {
   "cell_type": "code",
   "execution_count": 20,
   "metadata": {
    "scrolled": false
   },
   "outputs": [],
   "source": [
    "# Bad:\n",
    "\n",
    "my_very_big_string = \"\"\"For a long time I used to go to bed early. Sometimes, \\\n",
    "    when I had put out my candle, my eyes would close so quickly that I had not even \\\n",
    "    time to say “I’m going to sleep.”\"\"\"\n",
    "\n",
    "from some.deep.module.inside.a.module import a_nice_function, another_nice_function, \\\n",
    "    yet_another_nice_function"
   ]
  },
  {
   "cell_type": "code",
   "execution_count": 21,
   "metadata": {
    "collapsed": true
   },
   "outputs": [],
   "source": [
    "# Good:\n",
    "\n",
    "my_very_big_string = (\n",
    "    \"For a long time I used to go to bed early. Sometimes, \"\n",
    "    \"when I had put out my candle, my eyes would close so quickly \"\n",
    "    \"that I had not even time to say “I’m going to sleep.”\"\n",
    ")\n",
    "\n",
    "from some.deep.module.inside.a.module import (\n",
    "    a_nice_function, another_nice_function, yet_another_nice_function)"
   ]
  }
 ],
 "metadata": {
  "kernelspec": {
   "display_name": "Python 3",
   "language": "python",
   "name": "python3"
  },
  "language_info": {
   "codemirror_mode": {
    "name": "ipython",
    "version": 3
   },
   "file_extension": ".py",
   "mimetype": "text/x-python",
   "name": "python",
   "nbconvert_exporter": "python",
   "pygments_lexer": "ipython3",
   "version": "3.6.3"
  }
 },
 "nbformat": 4,
 "nbformat_minor": 2
}
