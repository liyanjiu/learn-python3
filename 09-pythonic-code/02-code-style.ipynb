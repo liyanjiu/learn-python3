{
 "cells": [
  {
   "cell_type": "markdown",
   "metadata": {},
   "source": [
    "# Code Style\n",
    "\n",
    "\n",
    "## Name style\n",
    "\n",
    "Guido recommends:\n",
    "\n",
    "| Type  | Public | Internal | \n",
    "| ----- | ------ | -------- |\n",
    "| Modules |lower_with_under|_lower_with_under\n",
    "| Packages |lower_with_under| |\n",
    "| Classes |CapWords|_CapWords|\n",
    "| Exceptions |CapWords| |\n",
    "| Functions |lower_with_under()|_lower_with_under()|\n",
    "| Global/Class Constants|CAPS_WITH_UNDER|_CAP_WITH_UNDER|\n",
    "| Global/Class Variables|lower_with_under|_lower_with_under|\n",
    "| Instance Variables|lower_with_under|_lower_with_under (protected) or __lower_with_under (private)|\n",
    "| Method Names| lower_with_under() |_lower_with_under() (protected) or __lower_with_under() (private) |\n",
    "| Function/Method Parameters| lower_with_under | |\n",
    "| Local Variables| lower_with_under | |\n",
    "\n",
    "**Note: Do not use `-` in your modules or package names.** "
   ]
  },
  {
   "cell_type": "code",
   "execution_count": null,
   "metadata": {
    "collapsed": true
   },
   "outputs": [],
   "source": []
  }
 ],
 "metadata": {
  "kernelspec": {
   "display_name": "Python 3",
   "language": "python",
   "name": "python3"
  },
  "language_info": {
   "codemirror_mode": {
    "name": "ipython",
    "version": 3
   },
   "file_extension": ".py",
   "mimetype": "text/x-python",
   "name": "python",
   "nbconvert_exporter": "python",
   "pygments_lexer": "ipython3",
   "version": "3.6.3"
  }
 },
 "nbformat": 4,
 "nbformat_minor": 2
}
