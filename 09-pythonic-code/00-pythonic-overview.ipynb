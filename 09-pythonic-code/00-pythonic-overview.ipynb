{
 "cells": [
  {
   "cell_type": "markdown",
   "metadata": {},
   "source": [
    "# Writing Great Python Code"
   ]
  },
  {
   "cell_type": "markdown",
   "metadata": {},
   "source": [
    "This part of the guide focuses on the best-practices for writing Python code.\n",
    "\n",
    "References:\n",
    "- [The Hitchhiker’s Guide to Python!](http://docs.python-guide.org/en/latest/#writing-great-python-code)\n",
    "\n",
    "- Structuring Your Project\n",
    "Structure of the Repository\n",
    "Structure of Code is Key\n",
    "Modules\n",
    "Packages\n",
    "Object-oriented programming\n",
    "Decorators\n",
    "Context Managers\n",
    "Dynamic typing\n",
    "Mutable and immutable types\n",
    "Vendorizing Dependencies\n",
    "Runners\n",
    "Further Reading\n",
    "- Code Style\n",
    "General concepts\n",
    "Idioms\n",
    "Zen of Python\n",
    "PEP 8\n",
    "Conventions\n",
    "- Reading Great Code\n",
    "- Documentation\n",
    "Project Documentation\n",
    "Project Publication\n",
    "Code Documentation Advice\n",
    "Other Tools\n",
    "- Testing Your Code\n",
    "The Basics\n",
    "Tools\n",
    "- Logging\n",
    "... or Print?\n",
    "Logging in a Library\n",
    "Logging in an Application\n",
    "- Common Gotchas\n",
    "Mutable Default Arguments\n",
    "Late Binding Closures\n",
    "Bytecode (.pyc) Files Everywhere!\n",
    "- Choosing a License"
   ]
  }
 ],
 "metadata": {
  "kernelspec": {
   "display_name": "Python 3",
   "language": "python",
   "name": "python3"
  },
  "language_info": {
   "codemirror_mode": {
    "name": "ipython",
    "version": 3
   },
   "file_extension": ".py",
   "mimetype": "text/x-python",
   "name": "python",
   "nbconvert_exporter": "python",
   "pygments_lexer": "ipython3",
   "version": "3.6.3"
  }
 },
 "nbformat": 4,
 "nbformat_minor": 2
}
