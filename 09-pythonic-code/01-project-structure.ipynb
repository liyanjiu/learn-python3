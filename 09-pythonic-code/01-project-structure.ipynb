{
 "cells": [
  {
   "cell_type": "markdown",
   "metadata": {},
   "source": [
    "# Structuring Your Project"
   ]
  },
  {
   "cell_type": "markdown",
   "metadata": {},
   "source": [
    "**It's Important.** Just as Code Style, API Design, and Automation are essential for a healthy development cycle, Repository structure is a crucial part of your project's structure.\n",
    "\n",
    "[This is what kenneth reitz recommend](http://docs.python-guide.org/en/latest/)."
   ]
  },
  {
   "cell_type": "markdown",
   "metadata": {},
   "source": [
    "## Structure of the Repository\n",
    "\n",
    "- README.rst\n",
    "- LICENSE\n",
    "- setup.py\n",
    "- requirements.txt\n",
    "- sample/\n",
    "    - sample/\\_\\_init__.py\n",
    "    - sample/core.py\n",
    "    - sample/helpers.py\n",
    "- docs/\n",
    "    - docs/conf.py\n",
    "    - docs/index.rst\n",
    "- tests/\n",
    "    - tests/test_basic.py\n",
    "    - tests/test_advanced.py\n",
    "\n",
    "### Specifics\n",
    "\n",
    "| Parts | Location | Purpose | \n",
    "| ----- | ---------| --------|\n",
    "|The Actual Module| ./sample or ./sample.py | The code of interest. |\n",
    "|License| ./LICENSE| Lawyering up. |\n",
    "|Setup.py | ./setup.py | Package and distribution management. |\n",
    "|Requirements File | ./requirements.txt | Development dependencies.|\n",
    "|Documentation | ./docs/| Package reference documentation.|\n",
    "|Test Suite | ./test_sample.py or ./tests | Package integration and unit tests.|\n",
    "|Makefile | ./Makefile | Generic management tasks.|\n",
    "|Reaeme| ./README.md(.rst) | The introduction of the ropository.| \n"
   ]
  },
  {
   "cell_type": "markdown",
   "metadata": {},
   "source": [
    "##  Structure of Code\n",
    "\n",
    "Some signs of a poorly structured project include:\n",
    "\n",
    "**Multiple and messy circular dependencies**: if your classes Table and Chair in furn.py need to import Carpenter from workers.py to answer a question such as table.isdoneby(), and if conversely the class Carpenter needs to import Table and Chair, to answer the question carpenter.whatdo(), then you have a circular dependency. In this case you will have to resort to fragile hacks such as using import statements inside methods or functions.\n"
   ]
  },
  {
   "cell_type": "markdown",
   "metadata": {},
   "source": [
    "## Modules\n",
    "\n",
    "### Naming restrictions\n",
    "\n",
    "For example, a layer of a project can handle interfacing with user actions, while another would handle low-level manipulation of data. \n",
    "\n",
    "The most natural way to separate these into two layers:\n",
    "1. all interfacing functionality in one file\n",
    "2. all low-level operations in another file. \n",
    "\n",
    "In this case, the interface file needs to `import` the low-level file. This is done with the import and from ... import statements.\n",
    "\n",
    "As soon as you use import statements you use modules. These can be either:\n",
    "- Built-in modules such as os and sys. \n",
    "- Third-party modules you have installed in your environment.\n",
    "- Or your project’s internal modules.\n",
    "\n",
    "To keep in line with the style guide: \n",
    "1. Keep module names **short, lowercase, and there is no need to separate words**.\n",
    "\n",
    "2. Don’t namespace with underscores, use submodules instead.\n",
    "\n",
    "3. Be sure to avoid using special symbols like the dot (.) or question mark (?)**. (In the case of my.spam.py Python expects to find a spam.py file in a folder named my which is not the case.)\n",
    "\n",
    "4. **Using other characters (spaces or hyphens) in module names will prevent importing (- is the subtract operator)**.\n",
    "\n",
    "```python\n",
    "# OK\n",
    "import library.plugin.foo\n",
    "# not OK\n",
    "import library.foo_plugin\n",
    "# wrong\n",
    "import library.plugin-foo\n",
    "import library.plugin foo\n",
    "import library.plugin?foo\n",
    "```\n",
    "### Import mechanism\n",
    "\n",
    "Aside from some naming restrictions, nothing special is required for a Python file to be a module, but you need to understand the import mechanism in order to use this concept properly and avoid some issues.\n",
    "\n",
    "#### Step 1 : Search the module in path\n",
    "Concretely, the import modu statement will look for the proper file, which is modu.py in: \n",
    "1. First, the same directory as the caller if it exists. \n",
    "2. If it is not found, the Python interpreter will search for modu.py in the “path” recursively and raise an ImportError exception if it is not found.\n",
    "\n",
    "#### Step 2 : Execute the module in an  isolated scope\n",
    "Once modu.py is found, the Python interpreter will execute the module in an isolated scope. Any top-level statement in modu.py will be executed, including other imports if any. Function and class definitions are stored in the module’s dictionary.\n",
    "\n",
    "#### Step 3 : Available to the caller in module's namespace\n",
    "Then, the module’s variables, functions, and classes will be available to the caller through the module’s namespace, a central concept in programming that is particularly helpful and powerful in Python.\n",
    "\n",
    "#### Note\n",
    "```\n",
    "In many languages, an include file directive is used by the preprocessor to take all code found in the file and ‘copy’ it into the caller’s code. \n",
    "\n",
    "It is different in Python: the included code is isolated in a module namespace, which means that you generally don’t have to worry that the included code could have unwanted effects, e.g. override an existing function with the same name.\n",
    "```\n",
    "\n",
    "### from ... import ... statement\n",
    "\n",
    "It is possible to simulate the more standard behavior by using a special syntax of the import statement: `rom modu import *`. This is generally considered bad practice. Using import * makes code harder to read and makes dependencies less compartmentalized.\n",
    "\n",
    "Using `from modu import func` is a way to pinpoint the function you want to import and put it in the global namespace. While much less harmful than import * because it shows explicitly what is imported in the global namespace, its only advantage over a simpler import modu is that it will save a little typing.\n",
    "\n",
    "#### Very Bad\n",
    "```python\n",
    "[...]\n",
    "from modu import *\n",
    "[...]\n",
    "x = sqrt(4)  # Is sqrt part of modu? A builtin? Defined above?\n",
    "```\n",
    "#### Better \n",
    "```python\n",
    "from modu import sqrt\n",
    "[...]\n",
    "x = sqrt(4)  # sqrt may be part of modu, if not redefined in between\n",
    "```\n",
    "#### Best\n",
    "```python\n",
    "import modu\n",
    "[...]\n",
    "x = modu.sqrt(4)  # sqrt is visibly part of modu's namespace\n",
    "```\n"
   ]
  },
  {
   "cell_type": "markdown",
   "metadata": {},
   "source": [
    "## Packages\n",
    "\n",
    "Python provides a very straightforward packaging system, which is simply an extension of the module mechanism to a directory.\n",
    "\n",
    "### Package mechanism\n",
    "\n",
    "Any directory with an __init__.py file is considered a Python package. The different modules in the package are imported in a similar manner as plain modules, but with a special behavior for the __init__.py file, which is used to gather all package-wide definitions.\n",
    "\n",
    "```    \n",
    "sound/                          Top-level package\n",
    "      __init__.py               Initialize the sound package\n",
    "      formats/                  Subpackage for file format conversions\n",
    "              __init__.py\n",
    "              wavread.py\n",
    "              wavwrite.py\n",
    "              aiffread.py\n",
    "              aiffwrite.py\n",
    "              auread.py\n",
    "              auwrite.py\n",
    "              ...\n",
    "      effects/                  Subpackage for sound effects\n",
    "              __init__.py\n",
    "              echo.py\n",
    "              surround.py\n",
    "              reverse.py\n",
    "              ...\n",
    "      filters/                  Subpackage for filters\n",
    "              __init__.py\n",
    "              equalizer.py\n",
    "              vocoder.py\n",
    "              karaoke.py\n",
    "              ...  \n",
    "```\n",
    "\n",
    "A file modu.py in the directory pack/ is imported with the statement import pack.modu. This statement will:\n",
    "1. look for an __init__.py file in pack, execute all of its top-level statements. \n",
    "2. Then look for a file named pack/modu.py and execute all of its top-level statements.\n",
    "3. After these operations, any variable, function, or class defined in modu.py is available in the pack.modu namespace.\n",
    "\n",
    "#### Note\n",
    "```\n",
    "In Python 3, using absolute path in import statement, while relative path is used in Python 2.\n",
    "```\n",
    "### \\_\\_init\\_\\_.py\n",
    "\n",
    "A commonly seen issue is to add too much code to `__init__.py` files. When the project complexity grows, there may be sub-packages and sub-sub-packages in a deep directory structure. In this case, importing a single item from a sub-sub-package will require executing all `__init__.py` files met while traversing the tree.\n",
    "\n",
    "Leaving an `__init__.py` file empty is considered normal and even a good practice, if the package’s modules and sub-packages do not need to share any code.\n",
    "\n",
    "### import very.deep.module as mod\n",
    "Lastly, a convenient syntax is available for importing deeply nested packages: import very.deep.module as mod. This allows you to use mod in place of the verbose repetition of very.deep.module.\n",
    "\n",
    "###  Intra-package References\n",
    "\n",
    "- you can use **absolute imports** to refer to submodules of siblings packages.\n",
    "\n",
    "For example, if the `module sound.filters.vocoder` needs to use the `echo module in the sound.effects package`, it can use \n",
    "```python\n",
    "from sound.effects import echo\n",
    "```\n",
    "\n",
    "- You can also write relative imports, with the from module import name form of import statement.\n",
    "\n",
    "From the surround module for example, you might use:\n",
    " \n",
    "```python\n",
    "from . import echo\n",
    "from .. import formats\n",
    "from ..filters import equalizer\n",
    "```\n"
   ]
  },
  {
   "cell_type": "markdown",
   "metadata": {},
   "source": [
    "## Decorators\n",
    "The Python language provides a simple yet powerful syntax called ‘decorators’. A decorator is a function or a class that wraps (or decorates) a function or a method. The ‘decorated’ function or method will replace the original ‘undecorated’ function or method. **Because functions are first-class objects in Python, this can be done ‘manually’, but using the @decorator syntax is clearer and thus preferred.**"
   ]
  },
  {
   "cell_type": "code",
   "execution_count": 1,
   "metadata": {
    "collapsed": true
   },
   "outputs": [],
   "source": [
    "def foo():\n",
    "    # do something\n",
    "    print(\"I'm foo.\")\n",
    "\n",
    "def decorator(func):\n",
    "    # manipulate func\n",
    "    print(\"I'm {fname}, and I'm decorated.\".format(fname=func.__name__ ))\n",
    "    return func"
   ]
  },
  {
   "cell_type": "code",
   "execution_count": 2,
   "metadata": {},
   "outputs": [
    {
     "name": "stdout",
     "output_type": "stream",
     "text": [
      "I'm foo.\n"
     ]
    }
   ],
   "source": [
    "foo()"
   ]
  },
  {
   "cell_type": "code",
   "execution_count": 3,
   "metadata": {},
   "outputs": [
    {
     "name": "stdout",
     "output_type": "stream",
     "text": [
      "I'm foo, and I'm decorated.\n"
     ]
    }
   ],
   "source": [
    "foo = decorator(foo)  # Manually decorate"
   ]
  },
  {
   "cell_type": "code",
   "execution_count": 4,
   "metadata": {},
   "outputs": [
    {
     "name": "stdout",
     "output_type": "stream",
     "text": [
      "I'm bar, and I'm decorated.\n",
      "I'm bar, this is my core logic.\n"
     ]
    }
   ],
   "source": [
    "@decorator\n",
    "def bar():\n",
    "    # Do something\n",
    "    print(\"I'm bar, this is my core logic.\")\n",
    "# bar() is decorated\n",
    "\n",
    "bar()"
   ]
  },
  {
   "cell_type": "code",
   "execution_count": 5,
   "metadata": {},
   "outputs": [
    {
     "data": {
      "text/plain": [
       "'bar'"
      ]
     },
     "execution_count": 5,
     "metadata": {},
     "output_type": "execute_result"
    }
   ],
   "source": [
    "bar.__name__"
   ]
  },
  {
   "cell_type": "markdown",
   "metadata": {},
   "source": [
    "This mechanism is useful for separating concerns and avoiding external un-related logic ‘polluting’ the core logic of the function or method. \n",
    "\n",
    "A good example of a piece of functionality that is better handled with decoration is memoization or caching: you want to store the results of an expensive function in a table and use them directly instead of recomputing them when they have already been computed. This is clearly not part of the function logic."
   ]
  },
  {
   "cell_type": "markdown",
   "metadata": {},
   "source": [
    "## Context Manager\n",
    "\n",
    "A context manager is a Python object that provides extra contextual information to an action.\n",
    "\n",
    "This extra information takes the form of running a callable upon initiating the context using the `with` statement, as well as running a callable upon completing all the code inside the with block. \n",
    "\n",
    "### Example -- open a file\n",
    "The most well known example of using a context manager is shown here, opening on a file:\n"
   ]
  },
  {
   "cell_type": "code",
   "execution_count": 6,
   "metadata": {
    "collapsed": true
   },
   "outputs": [],
   "source": [
    "with open('00-pythonic-overview.ipynb') as f:\n",
    "    contents = f.read()"
   ]
  },
  {
   "cell_type": "markdown",
   "metadata": {},
   "source": [
    "Anyone familiar with this pattern knows that invoking open in this fashion ensures that f‘s close method will be called at some point. This reduces a developer’s cognitive load and makes the code easier to read.\n",
    "\n",
    "Let’s implement the above functionality ourselves, starting with the class approach:"
   ]
  },
  {
   "cell_type": "code",
   "execution_count": 7,
   "metadata": {
    "collapsed": true
   },
   "outputs": [],
   "source": [
    "class CustomOpen(object):\n",
    "    def __init__(self, filename):\n",
    "        self.file = open(filename)\n",
    "\n",
    "    def __enter__(self):\n",
    "        return self.file\n",
    "\n",
    "    def __exit__(self, ctx_type, ctx_value, ctx_traceback):\n",
    "        self.file.close()\n",
    "\n",
    "with CustomOpen('00-pythonic-overview.ipynb') as f:\n",
    "    contents = f.read()"
   ]
  },
  {
   "cell_type": "markdown",
   "metadata": {},
   "source": [
    "And now the generator approach using Python’s own contextlib:"
   ]
  },
  {
   "cell_type": "code",
   "execution_count": 8,
   "metadata": {
    "collapsed": true
   },
   "outputs": [],
   "source": [
    "from contextlib import contextmanager\n",
    "\n",
    "@contextmanager\n",
    "def custom_open(filename):\n",
    "    f = open(filename)\n",
    "    try:\n",
    "        yield f\n",
    "    finally:\n",
    "        f.close()\n",
    "\n",
    "with custom_open('00-pythonic-overview.ipynb') as f:\n",
    "    contents = f.read()"
   ]
  },
  {
   "cell_type": "markdown",
   "metadata": {},
   "source": [
    "Since the two approaches appear the same, we should follow the Zen of Python to decide when to use which. The class approach might be better if there’s a considerable amount of logic to encapsulate. The function approach might be better for situations where we’re dealing with a simple action."
   ]
  },
  {
   "cell_type": "markdown",
   "metadata": {},
   "source": [
    "## Dynamic Typing\n",
    "\n",
    "Python is dynamically typed, which means that variables do not have a fixed type. In fact, in Python, variables are very different from what they are in many other languages, specifically statically-typed languages.\n",
    "\n",
    "Variables are not a segment of the computer’s memory where some value is written, they are ‘tags’ or ‘names’ pointing to objects.\n",
    "\n",
    "Some guidelines help to avoid this issue:\n",
    "- Avoid using the same variable name for different things.\n",
    "\n",
    "**Bad**  \n",
    "```python\n",
    "a = 1\n",
    "a = 'a string'\n",
    "def a():\n",
    "    pass  # Do something\n",
    "```\n",
    "**Good**  \n",
    "```python\n",
    "count = 1\n",
    "msg = 'a string'\n",
    "def func():\n",
    "    pass  # Do something\n",
    "```\n",
    "\n",
    "- Using short functions or methods helps reduce the risk of using the same name for two unrelated things.\n",
    "\n",
    "- It is better to use different names even for things that are related, when they have a different type:\n",
    "\n",
    "**Bad**  \n",
    "```python\n",
    "items = 'a b c d'  # This is a string...\n",
    "items = items.split(' ')  # ...becoming a list\n",
    "items = set(items)  # ...and then a set\n",
    "```\n",
    "\n",
    "### Reassign\n",
    "\n",
    "There is no efficiency gain when reusing names: the assignments will have to create new objects anyway.   \n",
    "However, when the complexity grows and each assignment is separated by other lines of code, including ‘if’ branches and loops, it becomes harder to ascertain what a given variable’s type is.\n",
    "\n",
    "Some coding practices, like functional programming, recommend never reassigning a variable. In Java this is done with the final keyword. Python does not have a final keyword and it would be against its philosophy anyway.   \n",
    "However, it may be a good discipline to avoid assigning to a variable more than once, and it helps in grasping the concept of mutable and immutable types.\n"
   ]
  },
  {
   "cell_type": "markdown",
   "metadata": {},
   "source": [
    "## Mutable and immutable types\n",
    "\n",
    "Python has two kinds of built-in or user-defined types.\n",
    "\n",
    "- Mutable types are those that allow in-place modification of the content. Typical mutables are lists and dictionaries: All lists have mutating methods, like list.append() or list.pop(), and can be modified in place. The same goes for dictionaries.\n",
    "\n",
    "- Immutable types provide no method for changing their content. For instance, the variable x set to the integer 6 has no “increment” method. If you want to compute x + 1, you have to create another integer and give it a name.\n",
    "\n",
    "Using properly mutable types for things that are mutable in nature and immutable types for things that are fixed in nature helps to clarify the intent of the code.For example, the immutable equivalent of a list is the tuple, created with (1, 2). This tuple is a pair that cannot be changed in-place, and can be used as a key for a dictionary.\n",
    "\n",
    "One peculiarity of Python that can surprise beginners is that **strings are immutable**. This means that when constructing a string from its parts, it is much more efficient to accumulate the parts in a list, which is mutable, and then glue (‘join’) the parts together when the full string is needed. One thing to notice, however, is that list comprehensions are better and faster than constructing a list in a loop with calls to append().\n",
    "\n",
    "One other option is using the map function, which can ‘map’ a function (‘str’) to an iterable (‘range(20)’). This results in a map object, which you can then (‘join’) together just like the other examples. The map function can be even faster than a list comprehension in some cases."
   ]
  },
  {
   "cell_type": "markdown",
   "metadata": {},
   "source": [
    "**Bad**  "
   ]
  },
  {
   "cell_type": "code",
   "execution_count": 9,
   "metadata": {},
   "outputs": [
    {
     "name": "stdout",
     "output_type": "stream",
     "text": [
      "532 µs ± 27.2 µs per loop (mean ± std. dev. of 7 runs, 1000 loops each)\n"
     ]
    }
   ],
   "source": [
    "%%timeit \n",
    "# create a concatenated string from 0 to 19 (e.g. \"012..1819\")\n",
    "nums = \"\"\n",
    "for n in range(2000):\n",
    "    nums += str(n)   # slow and inefficient\n"
   ]
  },
  {
   "cell_type": "markdown",
   "metadata": {},
   "source": [
    "**Good**  "
   ]
  },
  {
   "cell_type": "code",
   "execution_count": 10,
   "metadata": {},
   "outputs": [
    {
     "name": "stdout",
     "output_type": "stream",
     "text": [
      "518 µs ± 17.6 µs per loop (mean ± std. dev. of 7 runs, 1000 loops each)\n"
     ]
    }
   ],
   "source": [
    "%%timeit \n",
    "# create a concatenated string from 0 to 19 (e.g. \"012..1819\")\n",
    "nums = []\n",
    "for n in range(2000):\n",
    "    nums.append(str(n))\n",
    "nums = \"\".join(nums)  # much more efficient"
   ]
  },
  {
   "cell_type": "markdown",
   "metadata": {},
   "source": [
    "**Better**  "
   ]
  },
  {
   "cell_type": "code",
   "execution_count": 11,
   "metadata": {},
   "outputs": [
    {
     "name": "stdout",
     "output_type": "stream",
     "text": [
      "421 µs ± 9.53 µs per loop (mean ± std. dev. of 7 runs, 1000 loops each)\n"
     ]
    }
   ],
   "source": [
    "%%timeit\n",
    "# create a concatenated string from 0 to 19 (e.g. \"012..1819\")\n",
    "nums = [str(n) for n in range(2000)]\n",
    "nums = \"\".join(nums)"
   ]
  },
  {
   "cell_type": "markdown",
   "metadata": {},
   "source": [
    "**Best**"
   ]
  },
  {
   "cell_type": "code",
   "execution_count": 12,
   "metadata": {},
   "outputs": [
    {
     "name": "stdout",
     "output_type": "stream",
     "text": [
      "316 µs ± 5.65 µs per loop (mean ± std. dev. of 7 runs, 1000 loops each)\n"
     ]
    }
   ],
   "source": [
    "%%timeit\n",
    "# create a concatenated string from 0 to 19 (e.g. \"012..1819\")\n",
    "nums = map(str, range(2000))\n",
    "nums = \"\".join(nums)"
   ]
  },
  {
   "cell_type": "markdown",
   "metadata": {},
   "source": [
    "One final thing to mention about strings is that using join() is not always best. \n",
    "- In the instances where you are creating a new string from a pre-determined number of strings, using the addition operator is actually faster.\n",
    "- But in cases like above or in cases where you are adding to an existing string, using join() should be your preferred method."
   ]
  },
  {
   "cell_type": "code",
   "execution_count": 13,
   "metadata": {
    "collapsed": true
   },
   "outputs": [],
   "source": [
    "foo = 'foo'\n",
    "bar = 'bar'\n",
    "\n",
    "foobar = foo + bar  # This is good\n",
    "foo += 'ooo'  # This is bad, instead you should do:\n",
    "foo = ''.join([foo, 'ooo'])"
   ]
  },
  {
   "cell_type": "markdown",
   "metadata": {},
   "source": [
    "**Note**\n",
    "```\n",
    "You can also use the % formatting operator to concatenate a pre-determined number of strings besides str.join() and +. \n",
    "\n",
    "However, PEP 3101, discourages the usage of the % operator in favor of the str.format() method.\n",
    "```"
   ]
  },
  {
   "cell_type": "code",
   "execution_count": 14,
   "metadata": {
    "collapsed": true
   },
   "outputs": [],
   "source": [
    "foo = 'foo'\n",
    "bar = 'bar'\n",
    "\n",
    "foobar = '%s%s' % (foo, bar) # It is OK\n",
    "foobar = '{0}{1}'.format(foo, bar) # It is better\n",
    "foobar = '{foo}{bar}'.format(foo=foo, bar=bar) # It is best"
   ]
  },
  {
   "cell_type": "markdown",
   "metadata": {},
   "source": [
    "## Reference\n",
    "- [Coding-Guide](https://github.com/ecmadao/Coding-Guide/blob/master/Notes/Python/Python%E8%BF%9B%E9%98%B6/Effective%20Python.md)"
   ]
  }
 ],
 "metadata": {
  "kernelspec": {
   "display_name": "Python 3",
   "language": "python",
   "name": "python3"
  },
  "language_info": {
   "codemirror_mode": {
    "name": "ipython",
    "version": 3
   },
   "file_extension": ".py",
   "mimetype": "text/x-python",
   "name": "python",
   "nbconvert_exporter": "python",
   "pygments_lexer": "ipython3",
   "version": "3.6.3"
  }
 },
 "nbformat": 4,
 "nbformat_minor": 2
}
