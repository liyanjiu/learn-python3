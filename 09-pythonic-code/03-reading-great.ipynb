{
 "cells": [
  {
   "cell_type": "markdown",
   "metadata": {},
   "source": [
    "# Reading Great Code"
   ]
  },
  {
   "cell_type": "markdown",
   "metadata": {},
   "source": [
    "Excellent code typically follows the guidelines outlined in Code Style, and does its best to express a clear and concise intent to the reader.\n",
    "\n",
    "Included below is a list of recommended Python projects for reading. Each one of these projects is a paragon of Python coding."
   ]
  },
  {
   "cell_type": "markdown",
   "metadata": {},
   "source": [
    ">除了开源的库以外，还有些开源项目的`DataStruct.py`, `helper.py`, `utils.py`文件，也值得看一看。里面很多好东西，都是可以直接拿过来用的。"
   ]
  },
  {
   "cell_type": "markdown",
   "metadata": {},
   "source": [
    "## List of great code project\n",
    "- web.py\n",
    "- networkx"
   ]
  }
 ],
 "metadata": {
  "kernelspec": {
   "display_name": "Python 3",
   "language": "python",
   "name": "python3"
  },
  "language_info": {
   "codemirror_mode": {
    "name": "ipython",
    "version": 3
   },
   "file_extension": ".py",
   "mimetype": "text/x-python",
   "name": "python",
   "nbconvert_exporter": "python",
   "pygments_lexer": "ipython3",
   "version": "3.6.3"
  }
 },
 "nbformat": 4,
 "nbformat_minor": 2
}
