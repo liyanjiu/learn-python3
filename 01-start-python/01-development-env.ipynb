{
 "cells": [
  {
   "cell_type": "markdown",
   "metadata": {},
   "source": [
    "# Your Development Environment"
   ]
  },
  {
   "cell_type": "markdown",
   "metadata": {},
   "source": [
    "> Source : http://docs.python-guide.org/en/latest/dev/env/"
   ]
  },
  {
   "cell_type": "markdown",
   "metadata": {},
   "source": [
    "Names | Description\n",
    "-------|------------\n",
    "***Text Editor***|\n",
    "Vim| python-mode plug-in, superTab plug-in.\n",
    "Emacs | A good start if you’re already an Emacs user.\n",
    "Sublime Text| Sublime Text has excellent support for editing Python code and uses Python for its plugin API.\n",
    "Atom|Atom is web native (HTML, CSS, JS), focusing on modular design and easy plugin development.\n",
    "***IDEs***|\n",
    "PyCharm / IntelliJ IDEA| \n",
    "Python (on Visual Studio Code)|\n",
    "Eclipse| \n",
    "***Interpreter Tools***|\n",
    "Virtual Environments| To provide a powerful way to isolate project package dependencies. \n",
    "pyenv|To allow multiple versions of the Python interpreter to be installed at the same time.\n",
    "***Other Tools***|\n",
    "Ipython|Powerful Python shells (terminal- and Qt-based).\n",
    "Jupyther notebook|A web-based notebook with the same core features but support for rich media, text, code, mathematical expressions and inline plots."
   ]
  },
  {
   "cell_type": "markdown",
   "metadata": {},
   "source": [
    "## Text Editors\n",
    "\n",
    "### Vim\n",
    "\n",
    "In your home directory, open a file called .vimrc and add the following lines:\n",
    "```\n",
    "set textwidth=79  \" lines longer than 79 columns will be broken\n",
    "set shiftwidth=4  \" operation >> indents 4 columns; << unindents 4 columns\n",
    "set tabstop=4     \" a hard TAB displays as 4 columns\n",
    "set expandtab     \" insert spaces when hitting TABs\n",
    "set softtabstop=4 \" insert/delete 4 spaces when hitting a TAB/BACKSPACE\n",
    "set shiftround    \" round indent to multiple of 'shiftwidth'\n",
    "set autoindent    \" align the new line indent with the previous line\n",
    "```\n"
   ]
  },
  {
   "cell_type": "markdown",
   "metadata": {},
   "source": [
    "## IDEs\n",
    "\n",
    "### PyCharm\n",
    "\n",
    "PyCharm is developed by JetBrains, also known for IntelliJ IDEA. Both share the same code base and most of PyCharm’s features can be brought to IntelliJ with the free Python Plug-In. "
   ]
  },
  {
   "cell_type": "markdown",
   "metadata": {},
   "source": [
    "## Others Tools\n",
    "\n",
    "### IPython & Jupyter Notebook\n",
    "\n",
    "Highly recommanded for making notes!!!\n",
    "\n",
    "If you use IPython, you will never want to use the default Python shell."
   ]
  }
 ],
 "metadata": {
  "kernelspec": {
   "display_name": "Python 3",
   "language": "python",
   "name": "python3"
  },
  "language_info": {
   "codemirror_mode": {
    "name": "ipython",
    "version": 3
   },
   "file_extension": ".py",
   "mimetype": "text/x-python",
   "name": "python",
   "nbconvert_exporter": "python",
   "pygments_lexer": "ipython3",
   "version": "3.6.3"
  }
 },
 "nbformat": 4,
 "nbformat_minor": 2
}
