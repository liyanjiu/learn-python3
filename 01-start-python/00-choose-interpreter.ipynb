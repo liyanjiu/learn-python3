{
 "cells": [
  {
   "cell_type": "markdown",
   "metadata": {},
   "source": [
    "# Picking an Python Interpreter (3 vs. 2)"
   ]
  },
  {
   "cell_type": "markdown",
   "metadata": {},
   "source": [
    "## The State of Python (3 & 2)\n",
    "\n",
    "When choosing a Python interpreter, one looming question is always present: “Should I choose Python 2 or Python 3”? \n",
    "\n",
    "The basic gist of the state of things is as follows:\n",
    "1. Most production applications today use Python 2.7.\n",
    "2. Python 3 is ready for the production deployment of applications today.\n",
    "3. Python 2.7 will only receive necessary security updates until 2020.\n",
    "4. The brand name “Python” encapsulates both Python 3 and Python 2."
   ]
  },
  {
   "cell_type": "markdown",
   "metadata": {},
   "source": [
    "## Recommendations\n",
    "\n",
    "1. Use Python 3 for new Python applications.\n",
    "2. Learn both. They are both “Python”.\n",
    "3. Software that is already built often depends on Python 2.7.\n",
    "4. If you are writing a new open source Python library, it’s best to write it for both Python 2 and 3 simultaneously. Only supporting Python 3 for a new library you want to be widely adopted is a political statement and will alienate many of your users. This is not a problem — slowly, over the next three years, this will become less the case."
   ]
  },
  {
   "cell_type": "markdown",
   "metadata": {},
   "source": [
    "## Implementations\n",
    "\n",
    "Names|Language|Speed|Popular|Aim\n",
    "----|-----|-----|-------|----\n",
    "CPython|C|fast|reference|Reach the widest possible audience\n",
    "PyPy|Python|5 times faster than CPython||Maximum compatibility, performance\n",
    "Jython|Java|||Be able to import and use any Java class like a Python module\n",
    "IronPython|.NET|||For the .NET framework and Window developer"
   ]
  }
 ],
 "metadata": {
  "kernelspec": {
   "display_name": "Python 3",
   "language": "python",
   "name": "python3"
  },
  "language_info": {
   "codemirror_mode": {
    "name": "ipython",
    "version": 3
   },
   "file_extension": ".py",
   "mimetype": "text/x-python",
   "name": "python",
   "nbconvert_exporter": "python",
   "pygments_lexer": "ipython3",
   "version": "3.6.3"
  }
 },
 "nbformat": 4,
 "nbformat_minor": 2
}
