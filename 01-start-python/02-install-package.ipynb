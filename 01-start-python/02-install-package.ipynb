{
 "cells": [
  {
   "cell_type": "markdown",
   "metadata": {
    "collapsed": true
   },
   "source": [
    "# How to Install Packages\n",
    "\n",
    "## Manual\n",
    "- Github\n",
    "    - git clone ...\n",
    "    \n",
    "## IDE\n",
    "- Pycharm\n",
    "- anaconda\n",
    "    - conda ...\n",
    "    \n",
    "## System \n",
    "- Linux\n",
    "    - ubuntu : apt-get\n",
    "- MacOs X\n",
    "    - ...\n",
    "- Windows\n",
    "\n",
    "## Easy_install\n",
    "\n",
    "## Pipenv\n",
    "- pip\n",
    "    - pip\n",
    "- pipenv\n",
    "    \n",
    "## Virtual Environments\n",
    "- virtualenv"
   ]
  },
  {
   "cell_type": "markdown",
   "metadata": {},
   "source": [
    "## My Configuration"
   ]
  },
  {
   "cell_type": "markdown",
   "metadata": {},
   "source": [
    "What I used, also recommended:\n",
    "\n",
    "- `Vim` for writting small script.\n",
    "- `Pycharm` for writting large project.\n",
    "- `Conda`+`Conda-pip` for managing packages and environments.\n",
    "- `Jupyter(IPython)` for making learning notes. \n",
    "\n",
    "PERFECT!"
   ]
  },
  {
   "cell_type": "markdown",
   "metadata": {
    "collapsed": true
   },
   "source": [
    "## References\n",
    "- [conda](https://conda.io/docs/index.html)"
   ]
  }
 ],
 "metadata": {
  "kernelspec": {
   "display_name": "Python 3",
   "language": "python",
   "name": "python3"
  },
  "language_info": {
   "codemirror_mode": {
    "name": "ipython",
    "version": 3
   },
   "file_extension": ".py",
   "mimetype": "text/x-python",
   "name": "python",
   "nbconvert_exporter": "python",
   "pygments_lexer": "ipython3",
   "version": "3.6.3"
  }
 },
 "nbformat": 4,
 "nbformat_minor": 2
}
