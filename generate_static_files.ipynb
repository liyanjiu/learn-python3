{
 "cells": [
  {
   "cell_type": "code",
   "execution_count": 26,
   "metadata": {
    "collapsed": true
   },
   "outputs": [],
   "source": [
    "import os\n",
    "import os.path\n",
    "import nbconvert\n",
    "import nbformat\n",
    "import glob"
   ]
  },
  {
   "cell_type": "code",
   "execution_count": 2,
   "metadata": {
    "collapsed": true
   },
   "outputs": [],
   "source": [
    "if not os.path.exists('static-files'):\n",
    "    os.mkdir('static-files')\n",
    "    \n",
    "for n in glob.glob('static-files/*/*/*'):\n",
    "    os.remove(n)"
   ]
  },
  {
   "cell_type": "code",
   "execution_count": 3,
   "metadata": {
    "collapsed": true
   },
   "outputs": [],
   "source": [
    "folders = [\n",
    "    '01-start-python',\n",
    "    '02-basic-python',\n",
    "    '03-advanced-python',\n",
    "    '04-object-oriented-programming',\n",
    "    '05-python-standard-library',\n",
    "    '06-python-scenario-guide',\n",
    "    '07-python-project',\n",
    "    '08-extending-and-embedding',\n",
    "    '09-pythonic-code'\n",
    "]"
   ]
  },
  {
   "cell_type": "code",
   "execution_count": 6,
   "metadata": {},
   "outputs": [
    {
     "name": "stdout",
     "output_type": "stream",
     "text": [
      "['01-start-python/00-choose-interpreter.ipynb', '01-start-python/01-development-env.ipynb', '01-start-python/02-install-package.ipynb', '02-basic-python/00-python-exceptions.ipynb', '03-advanced-python/00-functional-programming-in-python.ipynb', '03-advanced-python/00-map-reduce.ipynb', '03-advanced-python/01-generator.ipynb', '03-advanced-python/Untitled.ipynb', '04-object-oriented-programming/00-python-oop.ipynb', '04-object-oriented-programming/01-python-scopes-namespace.ipynb', '04-object-oriented-programming/oop-example-1-forest.ipynb', '05-python-standard-library/01-builtin-types.ipynb', '05-python-standard-library/02-builtin-functions.ipynb', '05-python-standard-library/03-builtin-exceptions.ipynb', '05-python-standard-library/04-re.ipynb', '05-python-standard-library/05-os.ipynb', '05-python-standard-library/06-io.ipynb', '05-python-standard-library/07-collections.ipynb', '05-python-standard-library/08-collections-abc.ipynb', '05-python-standard-library/09-datetime.ipynb', '05-python-standard-library/10-hashlib.ipynb', '05-python-standard-library/11-contextlib.ipynb', '06-python-scenario-guide/00-index.ipynb', '06-python-scenario-guide/python-howtos.ipynb', '09-pythonic-code/00-pythonic-overview.ipynb', '09-pythonic-code/01-project-structure.ipynb', '09-pythonic-code/02-code-style.ipynb', '09-pythonic-code/03-reading-great.ipynb', '09-pythonic-code/reading-web.ipynb']\n"
     ]
    }
   ],
   "source": [
    "file_names = []\n",
    "\n",
    "for folder in folders:\n",
    "    files = sorted(os.listdir(folder))\n",
    "    file_names += [os.path.join(folder, file_name) for file_name in files if file_name.endswith('.ipynb')]\n",
    "print(file_names)"
   ]
  },
  {
   "cell_type": "code",
   "execution_count": 51,
   "metadata": {},
   "outputs": [],
   "source": [
    "def convert_to_files(names, to_format):\n",
    "    target_dir = os.path.join(\"static-files\", to_format)\n",
    "    for folder in folders:\n",
    "        if not os.path.exists(os.path.join(target_dir, folder)):\n",
    "            os.makedirs(os.path.join(target_dir, folder))\n",
    "            \n",
    "    html_converter = nbconvert.HTMLExporter()\n",
    "    py_converter = nbconvert.PythonExporter()\n",
    "    pdf_converter = nbconvert.PDFExporter()\n",
    "\n",
    "    converter = {\n",
    "        \"html\": html_converter,\n",
    "        \"python\": py_converter,\n",
    "        \"pdf\": pdf_converter,\n",
    "        \"\"\n",
    "        }\n",
    "    \n",
    "    for file_name in names:\n",
    "        p = converter[to_format].from_file(file_name)\n",
    "        with open(os.path.join(target_dir, file_name[:-6] + p[1][\"output_extension\"]), 'w') as f:\n",
    "            f.write(p[0])\n",
    "        print(file_name)"
   ]
  },
  {
   "cell_type": "code",
   "execution_count": 53,
   "metadata": {
    "scrolled": true
   },
   "outputs": [
    {
     "name": "stdout",
     "output_type": "stream",
     "text": [
      "01-start-python/00-choose-interpreter.ipynb\n",
      "01-start-python/01-development-env.ipynb\n",
      "01-start-python/02-install-package.ipynb\n",
      "02-basic-python/00-python-exceptions.ipynb\n",
      "03-advanced-python/00-functional-programming-in-python.ipynb\n",
      "03-advanced-python/00-map-reduce.ipynb\n",
      "03-advanced-python/01-generator.ipynb\n",
      "03-advanced-python/Untitled.ipynb\n",
      "04-object-oriented-programming/00-python-oop.ipynb\n",
      "04-object-oriented-programming/01-python-scopes-namespace.ipynb\n",
      "04-object-oriented-programming/oop-example-1-forest.ipynb\n",
      "05-python-standard-library/01-builtin-types.ipynb\n",
      "05-python-standard-library/02-builtin-functions.ipynb\n",
      "05-python-standard-library/03-builtin-exceptions.ipynb\n",
      "05-python-standard-library/04-re.ipynb\n",
      "05-python-standard-library/05-os.ipynb\n",
      "05-python-standard-library/06-io.ipynb\n",
      "05-python-standard-library/07-collections.ipynb\n",
      "05-python-standard-library/08-collections-abc.ipynb\n",
      "05-python-standard-library/09-datetime.ipynb\n",
      "05-python-standard-library/10-hashlib.ipynb\n",
      "05-python-standard-library/11-contextlib.ipynb\n",
      "06-python-scenario-guide/00-index.ipynb\n",
      "06-python-scenario-guide/python-howtos.ipynb\n",
      "09-pythonic-code/00-pythonic-overview.ipynb\n",
      "09-pythonic-code/01-project-structure.ipynb\n",
      "09-pythonic-code/02-code-style.ipynb\n",
      "09-pythonic-code/03-reading-great.ipynb\n",
      "09-pythonic-code/reading-web.ipynb\n"
     ]
    }
   ],
   "source": [
    "convert_to_files(file_names, \"html\")"
   ]
  }
 ],
 "metadata": {
  "kernelspec": {
   "display_name": "Python 3",
   "language": "python",
   "name": "python3"
  },
  "language_info": {
   "codemirror_mode": {
    "name": "ipython",
    "version": 3
   },
   "file_extension": ".py",
   "mimetype": "text/x-python",
   "name": "python",
   "nbconvert_exporter": "python",
   "pygments_lexer": "ipython3",
   "version": "3.6.3"
  }
 },
 "nbformat": 4,
 "nbformat_minor": 2
}
