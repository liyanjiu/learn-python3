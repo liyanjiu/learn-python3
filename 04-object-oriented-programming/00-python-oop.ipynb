{
 "cells": [
  {
   "cell_type": "markdown",
   "metadata": {},
   "source": [
    "# Object-oriented programming\n",
    "\n",
    "Python is sometimes described as an object-oriented programming language. This can be somewhat misleading and needs to be clarified.\n",
    "\n",
    "In Python, everything is an object, and can be handled as such. This is what is meant when we say, for example, that functions are first-class objects. Functions, classes, strings, and even types are objects in Python: like any object, they have a type, they can be passed as function arguments, and they may have methods and properties. In this understanding, Python is an object-oriented language.\n",
    "\n",
    "However, unlike Java, Python does not impose object-oriented programming as the main programming paradigm. It is perfectly viable for a Python project to not be object-oriented, i.e. to use no or very few class definitions, class inheritance, or any other mechanisms that are specific to object-oriented programming.\n",
    "\n",
    "Moreover, as seen in the modules section, the way Python handles modules and namespaces gives the developer a natural way to ensure the encapsulation and separation of abstraction layers, both being the most common reasons to use object-orientation. Therefore, Python programmers have more latitude to not use object-orientation, when it is not required by the business model.\n",
    "\n",
    "There are some reasons to avoid unnecessary object-orientation. Defining custom classes is useful when we want to glue together some state and some functionality. The problem, as pointed out by the discussions about functional programming, comes from the “state” part of the equation.\n",
    "\n",
    "In some architectures, typically web applications, multiple instances of Python processes are spawned to respond to external requests that can happen at the same time. In this case, holding some state into instantiated objects, which means keeping some static information about the world, is prone to concurrency problems or race-conditions. Sometimes, between the initialization of the state of an object (usually done with the __init__() method) and the actual use of the object state through one of its methods, the world may have changed, and the retained state may be outdated. For example, a request may load an item in memory and mark it as read by a user. If another request requires the deletion of this item at the same time, it may happen that the deletion actually occurs after the first process loaded the item, and then we have to mark as read a deleted object.\n",
    "\n",
    "This and other issues led to the idea that using stateless functions is a better programming paradigm.\n",
    "\n",
    "Another way to say the same thing is to suggest using functions and procedures with as few implicit contexts and side-effects as possible. A function’s implicit context is made up of any of the global variables or items in the persistence layer that are accessed from within the function. Side-effects are the changes that a function makes to its implicit context. If a function saves or deletes data in a global variable or in the persistence layer, it is said to have a side-effect.\n",
    "\n",
    "Carefully isolating functions with context and side-effects from functions with logic (called pure functions) allow the following benefits:\n",
    "\n",
    "- Pure functions are deterministic: given a fixed input, the output will always be the same.\n",
    "- Pure functions are much easier to change or replace if they need to be refactored or optimized.\n",
    "- Pure functions are easier to test with unit-tests: There is less need for complex context setup and data cleaning afterwards.\n",
    "- Pure functions are easier to manipulate, decorate, and pass around.\n",
    "\n",
    "In summary, pure functions are more efficient building blocks than classes and objects for some architectures because they have no context or side-effects.\n",
    "\n",
    "Obviously, object-orientation is useful and even necessary in many cases, for example when developing graphical desktop applications or games, where the things that are manipulated (windows, buttons, avatars, vehicles) have a relatively long life of their own in the computer’s memory."
   ]
  },
  {
   "cell_type": "markdown",
   "metadata": {},
   "source": [
    "Python有时被描述为面向对象的编程语言。这可能有点误导，需要加以澄清。\n",
    "\n",
    "在Python中，一切都是一个对象，并且可以这样处理。这就是我们所说的，例如，函数是第一个对象的意思。函数、类、字符串、甚至类型都是Python中的对象：与任何对象一样，它们都有一个类型，它们可以作为函数参数传递，并且它们可能有方法和属性。在这种理解中，Python是一种面向对象语言。\n",
    "\n",
    "然而，不像java、python不强制面向对象编程作为主要的编程范式。对于Python项目来说，不面向对象是完全可行的，即使用很少或很少的类定义、类继承，或者任何特定于面向对象编程的其他机制。\n",
    "\n",
    "此外，如在模块部分中所看到的，Python处理模块和名称空间的方式为开发人员提供了一种自然的方式来确保抽象层的封装和分离，这是使用面向对象的最常见的原因。因此，当业务模型不需要时，Python程序员有更多的权限不使用对象导向。\n",
    "\n",
    "避免不必要的对象定向有一些原因。当我们想粘合一些状态和一些功能时，定义自定义类是有用的。正如函数编程讨论所指出的，这个问题来自于方程的“状态”部分。\n",
    "\n",
    "在某些架构中，通常是Web应用程序，生成多个Python进程实例，以响应可能同时发生的外部请求。在这种情况下，将一些状态保存到实例化的对象中，这意味着保留一些关于世界的静态信息，很容易出现并发问题或竞争条件。有时候，一个对象的初始状态之间（通常采用的__init__()法）和实际使用的对象的状态，通过它的方法之一，世界或许已经改变，和保留的状态可能过时。例如，请求可以在内存中加载项，并将其标记为用户所读取的项。如果另一个请求要求同时删除该项，则可能发生删除实际上在第一个进程加载该项之后发生，然后我们必须标记为读取已删除的对象。\n",
    "\n",
    "这个问题和其他问题导致使用无状态函数是更好的编程范型的想法。\n",
    "\n",
    "另一种表达相同的方法是建议使用尽可能少的隐含上下文和副作用的函数和过程。函数的隐式上下文由在函数中访问的持久层中的任何全局变量或项组成。副作用是函数对其隐含上下文的变化。如果一个函数在全局变量或持久层中保存或删除数据，那么它就有副作用。\n",
    "\n",
    "用上下文与逻辑函数（称为纯函数）仔细隔离上下文和副作用，这样可以得到以下好处：\n",
    "\n",
    "- 纯函数是确定的：给定固定的输入，输出总是相同的。\n",
    "- 如果他们需要重构或优化的纯功能改变或更换更容易。\n",
    "- 纯函数更容易用单元测试来测试：之后不需要复杂的上下文设置和数据清理。\n",
    "- 纯函数更容易操作、修饰和传递。\n",
    "\n",
    "总之，纯函数比某些类的类和对象更有效，因为它们没有上下文或副作用。\n",
    "\n",
    "显然，在许多情况下，面向对象是有用的，甚至是必要的，例如，当开发图形桌面应用程序或游戏时，被操纵的事物（Windows、按钮、化身、车辆）在计算机内存中拥有相对较长的生命周期。"
   ]
  }
 ],
 "metadata": {
  "kernelspec": {
   "display_name": "Python 3",
   "language": "python",
   "name": "python3"
  },
  "language_info": {
   "codemirror_mode": {
    "name": "ipython",
    "version": 3
   },
   "file_extension": ".py",
   "mimetype": "text/x-python",
   "name": "python",
   "nbconvert_exporter": "python",
   "pygments_lexer": "ipython3",
   "version": "3.6.3"
  }
 },
 "nbformat": 4,
 "nbformat_minor": 2
}
