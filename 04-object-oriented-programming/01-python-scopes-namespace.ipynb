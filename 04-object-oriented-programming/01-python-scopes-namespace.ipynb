{
 "cells": [
  {
   "cell_type": "markdown",
   "metadata": {},
   "source": [
    "# Python Scopes and Namespaces"
   ]
  },
  {
   "cell_type": "markdown",
   "metadata": {},
   "source": [
    "Class definitions play some neat tricks with namespaces, and you need to know how scopes and namespaces work to fully understand what’s going on."
   ]
  },
  {
   "cell_type": "markdown",
   "metadata": {},
   "source": [
    "## Namespace\n",
    "\n",
    "A namespace is a mapping from names to objects.\n",
    "\n",
    "Example of namespace are:\n",
    "- The set of built-in names\n",
    "- The global names in a module\n",
    "- The local names in a function invocation.\n",
    "\n",
    "### Attribute\n",
    "I use the word _attribute_ for any name following a dot.\n",
    "Attributes may be read-only or writable.\n",
    "\n",
    "\n",
    "### Namespace lifetime\n",
    "Namespaces are created at different moments and have different lifetimes.\n",
    "\n",
    "- The namespace containing the built-in names is created when the Python interpreter starts up, and is never deleted.\n",
    "- The global namespace for a module is created when the module definition is read in; normally, module namespaces also last until the interpreter quits.\n",
    "- The local namespace for a function is created when the function is called, and deleted when the function returns or raises an exception that is not handled within the function."
   ]
  },
  {
   "cell_type": "markdown",
   "metadata": {},
   "source": [
    "## Scope\n",
    "\n",
    "A scope is a textual region of a Python program where a namespace is directly accessible. \n",
    "\n",
    "Although scopes are determined statically, they are used dynamically. At any time during execution, there are at least three nested scopes whose namespaces are directly accessible:\n",
    "\n",
    "1. the innermost scope, which is searched first, contains the local names\n",
    "2. the scopes of any enclosing functions, which are searched starting with the nearest enclosing scope, contains non-local, but also non-global names\n",
    "3. the next-to-last scope contains the current module’s global names\n",
    "4. the outermost scope (searched last) is the namespace containing built-in names\n",
    "\n",
    "If a name is declared global, then all references and assignments go directly to the middle scope containing the module’s global names. To rebind variables found outside of the innermost scope, the nonlocal statement can be used; if not declared nonlocal, those variable are read-only (an attempt to write to such a variable will simply create a new local variable in the innermost scope, leaving the identically named outer variable unchanged).\n",
    "\n",
    "Usually, \n",
    "- the local scope references the local names of the (textually) current function. \n",
    "- Outside functions, the local scope references the same namespace as the global scope: the module’s namespace. Class definitions place yet another namespace in the local scope.\n",
    "\n",
    "It is important to realize that scopes are determined textually: the global scope of a function defined in a module is that module’s namespace, no matter from where or by what alias the function is called. On the other hand, the actual search for names is done dynamically, at run time — however, the language definition is evolving towards static name resolution, at “compile” time, so don’t rely on dynamic name resolution! (In fact, local variables are already determined statically.)\n",
    "\n",
    "A special quirk of Python is that – if no global statement is in effect – assignments to names always go into the innermost scope. Assignments do not copy data — they just bind names to objects. The same is true for deletions: the statement del x removes the binding of x from the namespace referenced by the local scope. In fact, all operations that introduce new names use the local scope: in particular, import statements and function definitions bind the module or function name in the local scope.\n",
    "\n",
    "The global statement can be used to indicate that particular variables live in the global scope and should be rebound there; the nonlocal statement indicates that particular variables live in an enclosing scope and should be rebound there.\n",
    "\n"
   ]
  }
 ],
 "metadata": {
  "kernelspec": {
   "display_name": "Python 3",
   "language": "python",
   "name": "python3"
  },
  "language_info": {
   "codemirror_mode": {
    "name": "ipython",
    "version": 3
   },
   "file_extension": ".py",
   "mimetype": "text/x-python",
   "name": "python",
   "nbconvert_exporter": "python",
   "pygments_lexer": "ipython3",
   "version": "3.6.3"
  }
 },
 "nbformat": 4,
 "nbformat_minor": 2
}
