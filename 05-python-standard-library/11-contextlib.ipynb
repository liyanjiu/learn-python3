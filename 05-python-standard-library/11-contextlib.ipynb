{
 "cells": [
  {
   "cell_type": "markdown",
   "metadata": {},
   "source": [
    "# contextlib — Utilities for with-statement contexts"
   ]
  },
  {
   "cell_type": "markdown",
   "metadata": {},
   "source": [
    ">Category: Python Runtime Services   \n",
    ">Source : https://docs.python.org/3/library/hashlib.html  \n",
    "\n",
    "This module provides utilities for common tasks involving the **with statement**. For more information see also **Context Manager Types** and **With Statement Context Managers**."
   ]
  },
  {
   "cell_type": "markdown",
   "metadata": {},
   "source": [
    "## Implement context manager manually\n",
    "To define a factory function for with statement context managers, needing to create a class with two methods:\n",
    "\n",
    "- `__enter__()`\n",
    "- `__exit__()`"
   ]
  },
  {
   "cell_type": "code",
   "execution_count": 1,
   "metadata": {},
   "outputs": [
    {
     "name": "stdout",
     "output_type": "stream",
     "text": [
      "Begin\n",
      "Query info about Bob...\n",
      "End\n"
     ]
    }
   ],
   "source": [
    "class Query(object):\n",
    "\n",
    "    def __init__(self, name):\n",
    "        self.name = name\n",
    "\n",
    "    def __enter__(self):\n",
    "        print('Begin')\n",
    "        return self\n",
    "\n",
    "    def __exit__(self, exc_type, exc_value, traceback):\n",
    "        if exc_type:\n",
    "            print('Error')\n",
    "        else:\n",
    "            print('End')\n",
    "\n",
    "    def query(self):\n",
    "        print('Query info about %s...' % self.name)\n",
    "        \n",
    "with Query('Bob') as q:\n",
    "    q.query()"
   ]
  },
  {
   "cell_type": "markdown",
   "metadata": {},
   "source": [
    "##  @contextmanager\n",
    "This function is a decorator that can be used to define a factory function for with statement context managers, without needing to create a class or separate __enter__() and __exit__() methods.\n",
    "\n",
    "- The function being decorated must return a **generator-iterator** when called. This iterator must yield exactly one value, which will be bound to the targets in the with statement’s as clause, if any.\n",
    "- **At the point where the generator yields, the block nested in the with statement is executed. The generator is then resumed after the block is exited.**\n"
   ]
  },
  {
   "cell_type": "code",
   "execution_count": 2,
   "metadata": {},
   "outputs": [
    {
     "name": "stdout",
     "output_type": "stream",
     "text": [
      "<h1>\n",
      "foo\n",
      "</h1>\n"
     ]
    }
   ],
   "source": [
    "from contextlib import contextmanager\n",
    "\n",
    "@contextmanager\n",
    "def tag(name):\n",
    "    print(\"<%s>\" % name)\n",
    "    yield\n",
    "    print(\"</%s>\" % name)\n",
    "\n",
    "with tag(\"h1\"):\n",
    "    print(\"foo\")"
   ]
  },
  {
   "cell_type": "markdown",
   "metadata": {},
   "source": [
    "## closing(thing)\n",
    "\n",
    "Return a context manager that closes thing upon completion of the block. This is basically equivalent to:\n",
    "\n",
    "```python\n",
    "from contextlib import contextmanager\n",
    "\n",
    "@contextmanager\n",
    "def closing(thing):\n",
    "    try:\n",
    "        yield thing\n",
    "    finally:\n",
    "        thing.close()\n",
    "```"
   ]
  },
  {
   "cell_type": "code",
   "execution_count": 3,
   "metadata": {},
   "outputs": [
    {
     "name": "stdout",
     "output_type": "stream",
     "text": [
      "200\n",
      "Server: nginx\n",
      "Content-Type: text/html; charset=utf-8\n",
      "X-Frame-Options: SAMEORIGIN\n",
      "x-xss-protection: 1; mode=block\n",
      "X-Clacks-Overhead: GNU Terry Pratchett\n",
      "Via: 1.1 varnish\n",
      "Fastly-Debug-Digest: a63ab819df3b185a89db37a59e39f0dd85cf8ee71f54bbb42fae41670ae56fd2\n",
      "Content-Length: 48956\n",
      "Accept-Ranges: bytes\n",
      "Date: Wed, 13 Dec 2017 08:20:40 GMT\n",
      "Via: 1.1 varnish\n",
      "Age: 2880\n",
      "Connection: close\n",
      "X-Served-By: cache-iad2129-IAD, cache-hkg17920-HKG\n",
      "X-Cache: HIT, HIT\n",
      "X-Cache-Hits: 5, 14\n",
      "X-Timer: S1513153241.505357,VS0,VE0\n",
      "Vary: Cookie\n",
      "Strict-Transport-Security: max-age=63072000; includeSubDomains\n",
      "\n",
      "\n"
     ]
    }
   ],
   "source": [
    "from contextlib import closing\n",
    "from urllib.request import urlopen\n",
    "\n",
    "with closing(urlopen('http://www.python.org')) as page:\n",
    "    print(page.code)\n",
    "    print(page.headers)"
   ]
  }
 ],
 "metadata": {
  "kernelspec": {
   "display_name": "Python 3",
   "language": "python",
   "name": "python3"
  },
  "language_info": {
   "codemirror_mode": {
    "name": "ipython",
    "version": 3
   },
   "file_extension": ".py",
   "mimetype": "text/x-python",
   "name": "python",
   "nbconvert_exporter": "python",
   "pygments_lexer": "ipython3",
   "version": "3.6.3"
  }
 },
 "nbformat": 4,
 "nbformat_minor": 2
}
