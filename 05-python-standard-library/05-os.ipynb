{
 "cells": [
  {
   "cell_type": "markdown",
   "metadata": {},
   "source": [
    "# os — Miscellaneous operating system interfaces"
   ]
  },
  {
   "cell_type": "markdown",
   "metadata": {},
   "source": [
    ">Category : Generic Operating System Services    \n",
    "Source : https://docs.python.org/3/library/re.html  \n",
    "See also : open(), os.path, fileinput, tempfile, shutil.   \n",
    "\n",
    "This module provides a portable way of using operating system dependent functionality. \n",
    "- Read or write a file, see **open()**.\n",
    "- Manipulate paths, see the **os.path module**.\n",
    "- Read all the lines in all the files on the command line see the **fileinput module**. \n",
    "- Create temporary files and directories see the **tempfile module**.\n",
    "- For high-level file and directory handling see the **shutil module**."
   ]
  },
  {
   "cell_type": "code",
   "execution_count": 1,
   "metadata": {},
   "outputs": [],
   "source": [
    "import os"
   ]
  },
  {
   "cell_type": "markdown",
   "metadata": {},
   "source": [
    "## Files and directories"
   ]
  },
  {
   "cell_type": "markdown",
   "metadata": {},
   "source": [
    "***Methods or Attributes*** | Description\n",
    " :---------------|:------------------\n",
    "os.curdir|Return the current directroy symbol.\n",
    "os.chdir(path)| Change the current working directory to path.\n",
    "os.getcwd()| Return a string representing the current working directory\n",
    "os.listdir(path='.')| Return a list containing the names of the entities in the directory given by path, and does not include the special entries '.' and '..' even if they are present in the directory.\n",
    "os.mkdir(path)|Create a directory named path\n",
    "os.makedirs(name)|Recursive directory creation function.\n",
    "os.rmdir(path)|Remove (delete) the directory path. Only works when the directory is empty.\n",
    "os.removedirs(name)|Remove directories recursively.\n",
    "os.remove(file_path)| Remove a file path.\n",
    "os.rename(src, des)|Rename the file or directory src to dst.\n",
    "os.renames(old, new)：Recursive directory or file renaming function."
   ]
  },
  {
   "cell_type": "code",
   "execution_count": 2,
   "metadata": {},
   "outputs": [
    {
     "data": {
      "text/plain": [
       "'/home/liyj/git/learn-python3/05-python-standard-library'"
      ]
     },
     "execution_count": 2,
     "metadata": {},
     "output_type": "execute_result"
    }
   ],
   "source": [
    "os.getcwd()"
   ]
  },
  {
   "cell_type": "code",
   "execution_count": 6,
   "metadata": {},
   "outputs": [
    {
     "data": {
      "text/plain": [
       "['.ipynb_checkpoints',\n",
       " '04-re.ipynb',\n",
       " '02-builtin-functions',\n",
       " '05-os.ipynb',\n",
       " '01-builtin-types']"
      ]
     },
     "execution_count": 6,
     "metadata": {},
     "output_type": "execute_result"
    }
   ],
   "source": [
    "os.listdir()"
   ]
  },
  {
   "cell_type": "markdown",
   "metadata": {},
   "source": [
    "## os.path Module "
   ]
  },
  {
   "cell_type": "markdown",
   "metadata": {},
   "source": [
    "***test***|\n",
    ":-------|:--------\n",
    "os.path.isfile(path)|检测一个路径是否为普通文件\n",
    "os.path.isdir(path)|检测一个路径是否为文件夹\n",
    "os.path.exists(path)|检测路径是否存在\n",
    "os.path.isabs(path)|检测路径是否为绝对路径\n",
    "***split and join***|\n",
    "os.path.split(path)|拆分一个路径为 (head, tail) 两部分\n",
    "os.path.join(a, *p)|使用系统的路径分隔符，将各个部分合成一个路径\n",
    "***others***|\n",
    "os.path.abspath()|返回路径的绝对路径\n",
    "os.path.dirname(path)|返回路径中的文件夹部分\n",
    "os.path.basename(path)|返回路径中的文件部分\n",
    "os.path.splitext(path)|将路径与扩展名分开\n",
    "os.path.expanduser(path)|展开 '~' 和 '~user'"
   ]
  }
 ],
 "metadata": {
  "kernelspec": {
   "display_name": "Python 3",
   "language": "python",
   "name": "python3"
  },
  "language_info": {
   "codemirror_mode": {
    "name": "ipython",
    "version": 3
   },
   "file_extension": ".py",
   "mimetype": "text/x-python",
   "name": "python",
   "nbconvert_exporter": "python",
   "pygments_lexer": "ipython3",
   "version": "3.6.3"
  }
 },
 "nbformat": 4,
 "nbformat_minor": 2
}
