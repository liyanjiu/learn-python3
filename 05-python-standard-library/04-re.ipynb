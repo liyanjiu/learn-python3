{
 "cells": [
  {
   "cell_type": "markdown",
   "metadata": {},
   "source": [
    "# re — Regular expression operations"
   ]
  },
  {
   "cell_type": "markdown",
   "metadata": {},
   "source": [
    ">Category : Text Processing Services  \n",
    "Source : https://docs.python.org/3/library/re.html  \n",
    "See also : The third-party `regex` module  \n",
    "\n",
    "Python provides `re` module for Regular Expression. Both patterns and strings to be searched can be Unicode strings as well as 8-bit strings."
   ]
  },
  {
   "cell_type": "markdown",
   "metadata": {},
   "source": [
    "Regular expressions use the backslash character ('\\') to indicate special forms. **For example, to match a literal backslash, one might have to write '`\\\\\\\\`' as the pattern string**.\n",
    "\n",
    "The solution is to use **Python’s raw string notation** for regular expression patterns, backslashes are not handled in any special way in a string literal prefixed with 'r'. So r\"\\n\" is a two-character string containing '\\' and 'n', and \"/n\" is a one-character string containing a newline."
   ]
  },
  {
   "cell_type": "code",
   "execution_count": 1,
   "metadata": {},
   "outputs": [],
   "source": [
    "import re"
   ]
  },
  {
   "cell_type": "markdown",
   "metadata": {},
   "source": [
    "## Regular Expression Syntax"
   ]
  },
  {
   "cell_type": "markdown",
   "metadata": {},
   "source": [
    "- Special characters : Special characters either stand for classes of ordinary characters, or affect how the regular expressions around them are interpreted.\n",
    "\n",
    "- Ordinary characters : Ordinary characters simply match themselves. like 'A', 'a', '0'.\n",
    "\n",
    "\n",
    "The special characters are: \n",
    "\n",
    "Character | Match | 匹配 \n",
    ":---------|:-------|:----\n",
    "`.`|Matches any character except a newline.|匹配除了换行符之外的内容\n",
    "`/`|Either escapes special characters (permitting you to match characters like '*', '?', and so forth), or signals a special sequence|转义字符\n",
    "`[]`|Used to indicate a set of characters|字符集中，特殊符号失效\n",
    "***Quantifier***|***Be used after a character or`()`***\n",
    "`*`|Causes the resulting RE to match 0 or more repetitions of the preceding RE, as many repetitions as are possible.|匹配前一个子表达式0次至无限次。\n",
    "`+`|Causes the resulting RE to match 1 or more repetitions of the preceding RE.|匹配前一个子表达式1次至无限次\n",
    "`?`|Causes the resulting RE to match 0 or 1 repetitions of the preceding RE.|匹配前一个子表达式0次或1次\n",
    "`*?`,`+?`,`??`| These are the non-greedy version of the prevous qulifiers `*`,`+`,`?`.\n",
    "`{m}`|Specifies that exactly m copies of the previous RE should be matched.|表示匹配前面的子表达式 m 次\n",
    "`{m,n}`|Causes the resulting RE to match from m to n repetitions of the preceding RE|表示匹配前面的子表达式至少 m 次，至多 n 次。若省略m，则匹配0至n次；若省略n，则匹配m至无限次。\n",
    "`{m,n}?`|This is the non-greedy version of the previous qualifier.|`{m,n}`的非贪婪模式，尽可能匹配最少次数。\n",
    "***Pre-defined characterset***||\n",
    "`\\d`|Matches any  decimal digit，this is equivalent to `[0-9]`|匹配所有数字字符\n",
    "`\\D`|This is the opposite of `\\d`, this is equivalent to `^[0-9]`|匹配所有非数字字符\n",
    "`\\s`|Matches whitespace characters, this is equivatent to `[ \\t\\n\\r\\f\\v]`|匹配空白字符，包括`/t/n/r/f/v`\n",
    "`\\S`|This is the opposite of `\\s`, this is equivatent to `[^ \\t\\n\\r\\f\\v]`|匹配所有非空白字符\n",
    "`\\w`|Matches word characters,this is equivatent to `[a-zA-Z0-9]`|匹配所有单词字符\n",
    "`\\W`|Matches any character which is not a word character, this is equivatent to `[^a-zA-Z0-9]`|匹配所有非单词字符\n",
    "***Border Match*** | ***Do not exhausts characters***|   \n",
    "`^`|Matches the start of the string.|匹配字符串的开始|\n",
    "`$`|Matches the end of the string or just before the newline at the end of the string|匹配字符串的结束\n",
    "`\\A`|Matches only at the start of the string|仅匹配字符串开头\n",
    "`\\Z`|Matches only at the end of the string|仅匹配字符串末尾\n",
    "`\\b`|Matches the empty string, but only at the beginning or end of a word. This is defined as the boundary between a \\w and a \\W character, or between \\w and the beginning/end of the string.|匹配\\w和\\W之间\n",
    "`\\B`|Matches the empty string, but only when it is not at the beginning or end of a word.| [^\\b]\n",
    "***Logic and Group*** ||\n",
    "&#124;|A and B can be arbitrary REs, creates a regular expression that will match either A or B.|匹配子表达式A或者子表达式B，如果A可以匹配，则跳过B。\n",
    "`(...)`|Matches whatever regular expression is inside the parentheses, and indicates the start and end of a group |被括起来的表达式作为一个分组，分组作为一个整体，后可接数量词。\n",
    "`\\number`|Matches the contents of the group of the same number. Groups are numbered starting from 1.|匹配分组列表中编号为number的内容（引用number分组），分组从1开始编号。"
   ]
  },
  {
   "cell_type": "markdown",
   "metadata": {},
   "source": [
    "## Module Contents\n",
    "### re.match vs re.search\n",
    "- re.compile(pattern, flags=0)\n",
    "- re.search(pattern, string, flags=0)\n",
    "\n",
    "### re.findall vs re.finditer\n",
    "- re.findall(pattern, string, flags=0)\n",
    "- re.finditer(pattern, string, flags=0)\n",
    "\n",
    "### re.split\n",
    "- re.split(pattern, string, maxsplit=0, flags=0)\n",
    "\n",
    "### re.sub\n",
    "- re.sub(pattern, repl, string, count=0, flags=0)\n",
    "\n",
    "### re.compile"
   ]
  },
  {
   "cell_type": "markdown",
   "metadata": {},
   "source": [
    "## Match Object"
   ]
  },
  {
   "cell_type": "markdown",
   "metadata": {},
   "source": [
    "Match objects support the following methods and attributes:\n",
    "- Methods:\n",
    "    - match.group([group1, ...])\n",
    "    - match.groups(default=None)\n",
    "    - match.groupdict(default=None)\n",
    "    - match.start([group])\n",
    "    - match.end([group])\n",
    "    - match.span([group])\n",
    "- Attributes:\n",
    "    - match.pos\n",
    "    - match.endpos\n",
    "    - match.string\n",
    "    - match.lastindex\n",
    "    - match.lastgroup\n",
    "    - match.re"
   ]
  },
  {
   "cell_type": "markdown",
   "metadata": {},
   "source": [
    "### match.group([group1, ...])\n",
    "Returns one or more subgroups of the match.\n",
    "- Without arguments, group1 defaults to zero (the whole match is returned).\n",
    "- If there is a single argument, the result is a single string;\n",
    "    - If a groupN argument is zero, the corresponding return value is the entire matching string.\n",
    "    - If it is in the inclusive range [1..99], it is the string matching the corresponding parenthesized group.\n",
    "- If there are multiple arguments, the result is a tuple with one item per argument. \n",
    "- If a group is contained in a part of the pattern that did not match, the corresponding result is None.\n",
    "- If a group is contained in a part of the pattern that matched multiple times, the last match is returned."
   ]
  },
  {
   "cell_type": "code",
   "execution_count": 2,
   "metadata": {},
   "outputs": [
    {
     "data": {
      "text/plain": [
       "'Isaac Newton'"
      ]
     },
     "execution_count": 2,
     "metadata": {},
     "output_type": "execute_result"
    }
   ],
   "source": [
    "m = re.match(r\"(\\w+) (\\w+)\", \"Isaac Newton, physicist\")\n",
    "m.group(0)       # The entire match"
   ]
  },
  {
   "cell_type": "code",
   "execution_count": 3,
   "metadata": {},
   "outputs": [
    {
     "data": {
      "text/plain": [
       "'Isaac'"
      ]
     },
     "execution_count": 3,
     "metadata": {},
     "output_type": "execute_result"
    }
   ],
   "source": [
    "m.group(1)       # The first parenthesized subgroup."
   ]
  },
  {
   "cell_type": "code",
   "execution_count": 4,
   "metadata": {},
   "outputs": [
    {
     "data": {
      "text/plain": [
       "'Newton'"
      ]
     },
     "execution_count": 4,
     "metadata": {},
     "output_type": "execute_result"
    }
   ],
   "source": [
    "m.group(2)       # The second parenthesized subgroup."
   ]
  },
  {
   "cell_type": "code",
   "execution_count": 5,
   "metadata": {},
   "outputs": [
    {
     "data": {
      "text/plain": [
       "('Isaac', 'Newton')"
      ]
     },
     "execution_count": 5,
     "metadata": {},
     "output_type": "execute_result"
    }
   ],
   "source": [
    "m.group(1, 2)    # Multiple arguments give us a tuple."
   ]
  },
  {
   "cell_type": "code",
   "execution_count": 6,
   "metadata": {},
   "outputs": [
    {
     "data": {
      "text/plain": [
       "'Malcolm'"
      ]
     },
     "execution_count": 6,
     "metadata": {},
     "output_type": "execute_result"
    }
   ],
   "source": [
    "m = re.match(r\"(?P<first_name>\\w+) (?P<last_name>\\w+)\", \"Malcolm Reynolds\")\n",
    "m.group('first_name')  # m.group(1)"
   ]
  },
  {
   "cell_type": "code",
   "execution_count": 7,
   "metadata": {},
   "outputs": [
    {
     "data": {
      "text/plain": [
       "'Reynolds'"
      ]
     },
     "execution_count": 7,
     "metadata": {},
     "output_type": "execute_result"
    }
   ],
   "source": [
    "m.group('last_name')  # m.group(2)"
   ]
  },
  {
   "cell_type": "code",
   "execution_count": 8,
   "metadata": {},
   "outputs": [
    {
     "data": {
      "text/plain": [
       "'c3'"
      ]
     },
     "execution_count": 8,
     "metadata": {},
     "output_type": "execute_result"
    }
   ],
   "source": [
    "m = re.match(r\"(..)+\", \"a1b2c3\")  # Matches 3 times.\n",
    "m.group(1)"
   ]
  },
  {
   "cell_type": "markdown",
   "metadata": {},
   "source": [
    "### match.groups(default=None)\n",
    "Return a tuple containing all the subgroups of the match, from 1 up to however many groups are in the pattern."
   ]
  },
  {
   "cell_type": "code",
   "execution_count": 9,
   "metadata": {},
   "outputs": [
    {
     "data": {
      "text/plain": [
       "('24', '1632')"
      ]
     },
     "execution_count": 9,
     "metadata": {},
     "output_type": "execute_result"
    }
   ],
   "source": [
    "m = re.match(r\"(\\d+)\\.(\\d+)\", \"24.1632\")\n",
    "m.groups()"
   ]
  },
  {
   "cell_type": "code",
   "execution_count": 10,
   "metadata": {},
   "outputs": [
    {
     "data": {
      "text/plain": [
       "('24', None)"
      ]
     },
     "execution_count": 10,
     "metadata": {},
     "output_type": "execute_result"
    }
   ],
   "source": [
    "m = re.match(r\"(\\d+)\\.?(\\d+)?\", \"24\")\n",
    "m.groups()"
   ]
  },
  {
   "cell_type": "markdown",
   "metadata": {},
   "source": [
    "### match.groupdict(default=None)\n",
    "Return a dictionary containing all the named subgroups of the match, keyed by the subgroup name."
   ]
  },
  {
   "cell_type": "code",
   "execution_count": 11,
   "metadata": {},
   "outputs": [
    {
     "data": {
      "text/plain": [
       "{'first_name': 'Malcolm', 'last_name': 'Reynolds'}"
      ]
     },
     "execution_count": 11,
     "metadata": {},
     "output_type": "execute_result"
    }
   ],
   "source": [
    "m = re.match(r\"(?P<first_name>\\w+) (?P<last_name>\\w+)\", \"Malcolm Reynolds\")\n",
    "m.groupdict()"
   ]
  },
  {
   "cell_type": "markdown",
   "metadata": {},
   "source": [
    "### match.start([group]) & match.end([group]) & match.span([group])\n",
    "Return the indices of the start and end of the substring matched by group.\n",
    "Return the 2-tuple (m.start(group), m.end(group))"
   ]
  },
  {
   "cell_type": "code",
   "execution_count": 12,
   "metadata": {},
   "outputs": [
    {
     "data": {
      "text/plain": [
       "'tony@tiger.net'"
      ]
     },
     "execution_count": 12,
     "metadata": {},
     "output_type": "execute_result"
    }
   ],
   "source": [
    "email = \"tony@tiremove_thisger.net\"\n",
    "m = re.search(\"remove_this\", email)\n",
    "email[:m.start()] + email[m.end():]"
   ]
  },
  {
   "cell_type": "code",
   "execution_count": 13,
   "metadata": {},
   "outputs": [
    {
     "data": {
      "text/plain": [
       "(7, 18)"
      ]
     },
     "execution_count": 13,
     "metadata": {},
     "output_type": "execute_result"
    }
   ],
   "source": [
    "m.span()"
   ]
  },
  {
   "cell_type": "code",
   "execution_count": 14,
   "metadata": {},
   "outputs": [
    {
     "data": {
      "text/plain": [
       "25"
      ]
     },
     "execution_count": 14,
     "metadata": {},
     "output_type": "execute_result"
    }
   ],
   "source": [
    "m.endpos"
   ]
  },
  {
   "cell_type": "markdown",
   "metadata": {},
   "source": [
    "## Regular Expression Examples"
   ]
  },
  {
   "cell_type": "markdown",
   "metadata": {},
   "source": [
    "In this example, we’ll use the following helper function to display match objects a little more gracefully:"
   ]
  },
  {
   "cell_type": "code",
   "execution_count": 15,
   "metadata": {},
   "outputs": [],
   "source": [
    "def displaymatch(match):\n",
    "    if match is None:\n",
    "        return None\n",
    "    return '<Match: %r, groups=%r>' % (match.group(), match.groups())"
   ]
  },
  {
   "cell_type": "markdown",
   "metadata": {},
   "source": [
    "### Checking for a pair\n",
    "Suppose you are writing a poker program where a player’s hand is represented as a 5-character string with each character representing a card, “a” for ace, “k” for king, “q” for queen, “j” for jack, “t” for 10, and “2” through “9” representing the card with that value."
   ]
  },
  {
   "cell_type": "code",
   "execution_count": 16,
   "metadata": {},
   "outputs": [
    {
     "data": {
      "text/plain": [
       "\"<Match: 'akt5q', groups=()>\""
      ]
     },
     "execution_count": 16,
     "metadata": {},
     "output_type": "execute_result"
    }
   ],
   "source": [
    "valid = re.compile(r\"^[a2-9tjqk]{5}$\")\n",
    "displaymatch(valid.match(\"akt5q\"))  # Valid."
   ]
  },
  {
   "cell_type": "code",
   "execution_count": 17,
   "metadata": {},
   "outputs": [],
   "source": [
    "displaymatch(valid.match(\"akt5e\"))  # Invalid."
   ]
  },
  {
   "cell_type": "code",
   "execution_count": 18,
   "metadata": {},
   "outputs": [],
   "source": [
    "displaymatch(valid.match(\"akt\"))    # Invalid."
   ]
  },
  {
   "cell_type": "code",
   "execution_count": 19,
   "metadata": {},
   "outputs": [
    {
     "data": {
      "text/plain": [
       "\"<Match: '727ak', groups=()>\""
      ]
     },
     "execution_count": 19,
     "metadata": {},
     "output_type": "execute_result"
    }
   ],
   "source": [
    "displaymatch(valid.match(\"727ak\"))  # Valid."
   ]
  },
  {
   "cell_type": "code",
   "execution_count": 20,
   "metadata": {},
   "outputs": [
    {
     "data": {
      "text/plain": [
       "\"<Match: '717', groups=('7',)>\""
      ]
     },
     "execution_count": 20,
     "metadata": {},
     "output_type": "execute_result"
    }
   ],
   "source": [
    "pair = re.compile(r\".*(.).*\\1\")\n",
    "displaymatch(pair.match(\"717ak\"))"
   ]
  },
  {
   "cell_type": "code",
   "execution_count": 21,
   "metadata": {},
   "outputs": [],
   "source": [
    "displaymatch(pair.match(\"718ak\"))     # No pairs."
   ]
  },
  {
   "cell_type": "code",
   "execution_count": 22,
   "metadata": {},
   "outputs": [
    {
     "data": {
      "text/plain": [
       "('a',)"
      ]
     },
     "execution_count": 22,
     "metadata": {},
     "output_type": "execute_result"
    }
   ],
   "source": [
    "pair.match(\"717aa\").groups()"
   ]
  },
  {
   "cell_type": "markdown",
   "metadata": {},
   "source": [
    "### search() vs. match()\n",
    "- re.match() checks for a match only at the beginning of the string. \n",
    "- re.search() checks for a match anywhere in the string (this is what Perl does by default)."
   ]
  },
  {
   "cell_type": "code",
   "execution_count": 23,
   "metadata": {},
   "outputs": [
    {
     "data": {
      "text/plain": [
       "<_sre.SRE_Match object; span=(2, 3), match='c'>"
      ]
     },
     "execution_count": 23,
     "metadata": {},
     "output_type": "execute_result"
    }
   ],
   "source": [
    "re.match(\"c\", \"abcdef\")  # No match\n",
    "re.search(\"c\", \"abcdef\") # Match"
   ]
  }
 ],
 "metadata": {
  "kernelspec": {
   "display_name": "Python 3",
   "language": "python",
   "name": "python3"
  },
  "language_info": {
   "codemirror_mode": {
    "name": "ipython",
    "version": 3
   },
   "file_extension": ".py",
   "mimetype": "text/x-python",
   "name": "python",
   "nbconvert_exporter": "python",
   "pygments_lexer": "ipython3",
   "version": "3.6.3"
  }
 },
 "nbformat": 4,
 "nbformat_minor": 2
}
