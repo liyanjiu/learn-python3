{
 "cells": [
  {
   "cell_type": "markdown",
   "metadata": {},
   "source": [
    "# Built-in Types"
   ]
  },
  {
   "cell_type": "markdown",
   "metadata": {},
   "source": [
    "[doc](https://docs.python.org/3/library/stdtypes.html)\n",
    "\n",
    "1. Truth Value Testing\n",
    "2. Boolean Operations — and, or, not\n",
    "3. Comparisons\n",
    "4. Numeric Types — int, float, complex\n",
    "5. Iterator Types\n",
    "6. Sequence Types — list, tuple, range\n",
    "7. Text Sequence Type — str\n",
    "8. Binary Sequence Types — bytes, bytearray, memoryview\n",
    "9. Set Types — set, frozenset\n",
    "10. Mapping Types — dict\n",
    "11. Context Manager Types\n",
    "12. Other Built-in Types\n",
    "13. Special Attributes"
   ]
  }
 ],
 "metadata": {
  "kernelspec": {
   "display_name": "Python 3",
   "language": "python",
   "name": "python3"
  },
  "language_info": {
   "codemirror_mode": {
    "name": "ipython",
    "version": 3
   },
   "file_extension": ".py",
   "mimetype": "text/x-python",
   "name": "python",
   "nbconvert_exporter": "python",
   "pygments_lexer": "ipython3",
   "version": "3.6.3"
  }
 },
 "nbformat": 4,
 "nbformat_minor": 2
}
