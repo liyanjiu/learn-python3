{
 "cells": [
  {
   "cell_type": "markdown",
   "metadata": {},
   "source": [
    "- [01-start-python](01-start-python)\n",
    "     - [00 Picking an Python Interpreter (3 vs. 2)](01-start-python/00-choose-interpreter.ipynb)\n",
    "\t - [01 Your Development Environment](01-start-python/01-development-env.ipynb)\n",
    "\t - [02 How to Install Packages](01-start-python/02-install-package.ipynb)\n",
    "- [***02-basic-python***](02-basic-python)\n",
    "\t - [00 Errors and Exceptions](02-basic-python/00-python-exceptions.ipynb)\n",
    "- [***03-advanced-python***](03-advanced-python)\n",
    "\t - [00 Functional Programming in Python](03-advanced-python/00-functional-programming-in-python.ipynb)\n",
    "\t - [00 Map and Reduce](03-advanced-python/00-map-reduce.ipynb)\n",
    "\t - [01 Generator Types](03-advanced-python/01-generator.ipynb)\n",
    "\t - [Un Iterator](03-advanced-python/Untitled.ipynb)\n",
    "\t - [***advance***](03-advanced-python/advance)\n",
    "\t - [***function***](03-advanced-python/function)\n",
    "\t - [***functional***](03-advanced-python/functional)\n",
    "- [***04-object-oriented-programming***](04-object-oriented-programming)\n",
    "\t - [00 Object-oriented programming](04-object-oriented-programming/00-python-oop.ipynb)\n",
    "\t - [01 Python Scopes and Namespaces](04-object-oriented-programming/01-python-scopes-namespace.ipynb)\n",
    "\t - [oo Using OOP Model for a Forest](04-object-oriented-programming/oop-example-1-forest.ipynb)\n",
    "- [***05-python-standard-library***](05-python-standard-library)\n",
    "\t - [01 Built-in Types](05-python-standard-library/01-builtin-types.ipynb)\n",
    "\t - [02 Built-in Functions](05-python-standard-library/02-builtin-functions.ipynb)\n",
    "\t - [03 Errors and Exceptions](05-python-standard-library/03-builtin-exceptions.ipynb)\n",
    "\t - [04 re â€” Regular expression operations](05-python-standard-library/04-re.ipynb)\n",
    "\t - [05 os â€” Miscellaneous operating system interfaces](05-python-standard-library/05-os.ipynb)\n",
    "\t - [06 io â€” Core tools for working with streams](05-python-standard-library/06-io.ipynb)\n",
    "\t - [07 collections â€” Container datatypes](05-python-standard-library/07-collections.ipynb)\n",
    "\t - [08 collections.abc â€” Abstract Base Classes for Containers](05-python-standard-library/08-collections-abc.ipynb)\n",
    "\t - [09 datetime â€” Basic date and time types](05-python-standard-library/09-datetime.ipynb)\n",
    "\t - [10 hashlib â€” Secure hashes and message digests](05-python-standard-library/10-hashlib.ipynb)\n",
    "\t - [11 contextlib â€” Utilities for with-statement contexts](05-python-standard-library/11-contextlib.ipynb)\n",
    "\t - [***test_io***](05-python-standard-library/test_io)\n",
    "- [***06-python-scenario-guide***](06-python-scenario-guide)\n",
    "\t - [00 Scenario Guide for Python Applications](06-python-scenario-guide/00-index.ipynb)\n",
    "\t - [***01-numpy***](06-python-scenario-guide/01-numpy)\n",
    "\t\t - [00 Numpy Overview](06-python-scenario-guide/01-numpy/00-numpy-overview.ipynb)\n",
    "\t\t - [01 NumPy Basics](06-python-scenario-guide/01-numpy/01-numpy-basics.ipynb)\n",
    "\t\t - [02 Shape Manipulation](06-python-scenario-guide/01-numpy/02-numpy-shape.ipynb)\n",
    "\t\t - [03 Copies and Views](06-python-scenario-guide/01-numpy/03-numpy-copies.ipynb)\n",
    "\t\t - [04 Fancy indexing and index tricks](06-python-scenario-guide/01-numpy/04-numpy-fancy-indexing.ipynb)\n",
    "\t\t - [05 Linear Algebra](06-python-scenario-guide/01-numpy/05-numpy-linear-algebra.ipynb)\n",
    "\t\t - [06 Tricks and Tips](06-python-scenario-guide/01-numpy/06-numpy-tricks-tips.ipynb)\n",
    "\t - [***02-scipy***](06-python-scenario-guide/02-scipy)\n",
    "\t\t - [00 Scientific Overview](06-python-scenario-guide/02-scipy/00-scipy-overview.ipynb)\n",
    "\t - [***03-matplotlib***](06-python-scenario-guide/03-matplotlib)\n",
    "\t\t - [00 Matplotlib Overview](06-python-scenario-guide/03-matplotlib/00-matplotlib-overview.ipynb)\n",
    "\t\t - [01 Matplotlib Example | ååˆ†é’Ÿçˆ±ä¸ŠMatplotlib](06-python-scenario-guide/03-matplotlib/01-matplotlib-example.ipynb)\n",
    "\t\t - [02 Pyplot Tutorial](06-python-scenario-guide/03-matplotlib/02-pyplot-tutorial.ipynb)\n",
    "\t - [***04-networkx***](06-python-scenario-guide/04-networkx)\n",
    "\t\t - [00 Networkx Introduction](06-python-scenario-guide/04-networkx/00-networdx-introduction.ipynb)\n",
    "\t\t - [01 Graph Types and Operations](06-python-scenario-guide/04-networkx/01-graph-types-and-methods.ipynb)\n",
    "\t\t - [02 Algorithms Overview](06-python-scenario-guide/04-networkx/02-algorithms-overview.ipynb)\n",
    "\t\t - [03 BFS in NetworkX](06-python-scenario-guide/04-networkx/03-traversal-bfs.ipynb)\n",
    "\t - [py Python HOWTOs](06-python-scenario-guide/python-howtos.ipynb)\n",
    "- [***07-python-project***](07-python-project)\n",
    "\t - [***pythonic***](07-python-project/pythonic)\n",
    "- [***08-extending-and-embedding***](08-extending-and-embedding)\n",
    "- [***09-pythonic-code***](09-pythonic-code)\n",
    "\t - [00 Writing Great Python Code](09-pythonic-code/00-pythonic-overview.ipynb)\n",
    "\t - [01 Structuring Your Project](09-pythonic-code/01-project-structure.ipynb)\n",
    "\t - [02 Code Style](09-pythonic-code/02-code-style.ipynb)\n",
    "\t - [03 Reading Great Code](09-pythonic-code/03-reading-great.ipynb)\n",
    "\t - [re Reading `web.py`](09-pythonic-code/reading-web.ipynb)"
   ]
  },
  {
   "cell_type": "code",
   "execution_count": null,
   "metadata": {
    "collapsed": true
   },
   "outputs": [],
   "source": []
  }
 ],
 "metadata": {
  "kernelspec": {
   "display_name": "Python 3",
   "language": "python",
   "name": "python3"
  },
  "language_info": {
   "codemirror_mode": {
    "name": "ipython",
    "version": 3
   },
   "file_extension": ".py",
   "mimetype": "text/x-python",
   "name": "python",
   "nbconvert_exporter": "python",
   "pygments_lexer": "ipython3",
   "version": "3.6.3"
  }
 },
 "nbformat": 4,
 "nbformat_minor": 2
}
