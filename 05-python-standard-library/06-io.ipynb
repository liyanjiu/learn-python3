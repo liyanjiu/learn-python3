{
 "cells": [
  {
   "cell_type": "markdown",
   "metadata": {},
   "source": [
    "# io — Core tools for working with streams"
   ]
  },
  {
   "cell_type": "markdown",
   "metadata": {},
   "source": [
    ">Category : Generic Operating System Services     \n",
    ">Source : https://docs.python.org/3/library/io.html  \n",
    ">See also :  \n",
    ">- open(), os, os.path, fileinput, tempfile, shutil.  \n",
    ">- sys : contains the standard IO streams: sys.stdin, sys.stdout, and sys.stderr.\n",
    "\n",
    "\n",
    "The io module provides Python’s main facilities for dealing with various types of I/O. There are three main types of I/O: \n",
    "\n",
    "- text I/O\n",
    "- binary I/O\n",
    "- raw I/O \n",
    "    \n",
    "\n",
    "These are generic categories, and various backing stores can be used for each of them. A concrete object belonging to any of these categories is called a **file object**. Other common terms are **stream and file-like object**.\n",
    "\n",
    "Independently of its category, each concrete stream object will also have various capabilities: it can be **read-only, write-only, or read-write**. It can also allow **arbitrary random access** (seeking forwards or backwards to any location), or only **sequential access** (for example in the case of a socket or pipe).\n",
    "\n",
    "All streams are careful about the type of data you give to them. For example giving a str object to the write() method of a binary stream will raise a TypeError. So will giving a bytes object to the write() method of a text stream."
   ]
  },
  {
   "cell_type": "code",
   "execution_count": 1,
   "metadata": {
    "collapsed": true
   },
   "outputs": [],
   "source": [
    "import io\n",
    "import os\n",
    "import os.path\n",
    "\n",
    "if not os.path.exists('test_io'):\n",
    "    os.mkdir('test_io')"
   ]
  },
  {
   "cell_type": "markdown",
   "metadata": {},
   "source": [
    "## Various I/O\n",
    "### Text I/O\n",
    "**Text I/O expects and produces str objects.** This means that whenever the backing store is natively made of bytes (such as in the case of a file), encoding and decoding of data is made transparently as well as optional translation of platform-specific newline characters.\n",
    "\n",
    "The text stream API is described in detail in the documentation of TextIOBase.\n",
    "\n",
    "The easiest way to create a text stream is with open(), optionally specifying an encoding:"
   ]
  },
  {
   "cell_type": "code",
   "execution_count": 2,
   "metadata": {},
   "outputs": [
    {
     "name": "stdout",
     "output_type": "stream",
     "text": [
      "this is a text file.\n",
      "这是一个字符串文件。\n"
     ]
    }
   ],
   "source": [
    "with open('test_io/myfile.txt', 'r', encoding='utf-8') as f: # Actually, utf-8 is the default str format.\n",
    "    print(f.read())"
   ]
  },
  {
   "cell_type": "markdown",
   "metadata": {},
   "source": [
    "**In-memory** text streams are also available as StringIO objects:"
   ]
  },
  {
   "cell_type": "code",
   "execution_count": 3,
   "metadata": {},
   "outputs": [
    {
     "name": "stdout",
     "output_type": "stream",
     "text": [
      "<_io.StringIO object at 0x7fc6e45d9708>\n"
     ]
    }
   ],
   "source": [
    "f = io.StringIO(\"some initial text data\")\n",
    "print(f)"
   ]
  },
  {
   "cell_type": "markdown",
   "metadata": {},
   "source": [
    "### Binary I/O\n",
    "\n",
    "**Binary I/O (also called buffered I/O) expects and produces bytes objects**. No encoding, decoding, or newline translation is performed. This category of streams can be used for all kinds of non-text data, and also when manual control over the handling of text data is desired.\n",
    "\n",
    "The binary stream API is described in detail in the docs of BufferedIOBase.\n",
    "\n",
    "The easiest way to create a binary stream is with open() with 'b' in the mode string:"
   ]
  },
  {
   "cell_type": "code",
   "execution_count": 4,
   "metadata": {},
   "outputs": [
    {
     "name": "stdout",
     "output_type": "stream",
     "text": [
      "b'\\x00\\x00\\x01\\x00\\x01\\x00\\x10\\x10\\x00\\x00'\n"
     ]
    }
   ],
   "source": [
    "with open(\"test_io/favicon.ico\", \"rb\") as f:  # favicon.ico is a non-text file.\n",
    "    print(f.read(10))  # Read ten bytes."
   ]
  },
  {
   "cell_type": "code",
   "execution_count": 5,
   "metadata": {},
   "outputs": [
    {
     "name": "stdout",
     "output_type": "stream",
     "text": [
      "b'this is a text file.\\n\\xe8\\xbf\\x99\\xe6\\x98\\xaf\\xe4\\xb8\\x80\\xe4\\xb8\\xaa\\xe5\\xad\\x97\\xe7\\xac\\xa6\\xe4\\xb8\\xb2\\xe6\\x96\\x87\\xe4\\xbb\\xb6\\xe3\\x80\\x82'\n"
     ]
    }
   ],
   "source": [
    "# Read text file as bytys format, note that the English character is the origin bytes,\n",
    "# and the Chinese character is encoded in utf-8.\n",
    "f = open(\"test_io/myfile.txt\", \"rb\")\n",
    "print(f.read())\n",
    "f.close()"
   ]
  },
  {
   "cell_type": "code",
   "execution_count": 6,
   "metadata": {},
   "outputs": [
    {
     "name": "stdout",
     "output_type": "stream",
     "text": [
      "这是通过写字节加入的中文\n"
     ]
    }
   ],
   "source": [
    "# Use bytes format write Chinese to str file.\n",
    "with open(\"test_io/mybyte.txt\", \"wb\") as f:\n",
    "    f.write('这是通过写字节加入的中文'.encode('utf-8'))  # This is equivalent to \"b'\\x89\\be\\..'\"\n",
    "with open(\"test_io/mybyte.txt\", \"r\") as f:\n",
    "    print(f.read())"
   ]
  },
  {
   "cell_type": "markdown",
   "metadata": {},
   "source": [
    "In-memory binary streams are also available as BytesIO objects:"
   ]
  },
  {
   "cell_type": "code",
   "execution_count": 7,
   "metadata": {},
   "outputs": [
    {
     "name": "stdout",
     "output_type": "stream",
     "text": [
      "<_io.BytesIO object at 0x7fc6e4582048>\n"
     ]
    }
   ],
   "source": [
    "f = io.BytesIO(b\"some initial binary data: \\x00\\x01\")\n",
    "print(f)"
   ]
  },
  {
   "cell_type": "markdown",
   "metadata": {},
   "source": [
    "### Raw I/O\n",
    "\n",
    "**Raw I/O (also called unbuffered I/O)** is generally used as a low-level building-block for binary and text streams; it is rarely useful to directly manipulate a raw stream from user code. \n",
    "\n",
    "The raw stream API is described in detail in the docs of RawIOBase.\n",
    "\n",
    "Nevertheless, you can create a raw stream by opening a file in binary mode with buffering disabled:"
   ]
  },
  {
   "cell_type": "code",
   "execution_count": 8,
   "metadata": {},
   "outputs": [
    {
     "name": "stdout",
     "output_type": "stream",
     "text": [
      "b'\\x00\\x00\\x01\\x00\\x01\\x00\\x10\\x10\\x00\\x00'\n"
     ]
    }
   ],
   "source": [
    "with open(\"test_io/favicon.ico\", \"rb\", buffering=0) as f:  # favicon.ico is a non-text file.\n",
    "    print(f.read(10))  # Read ten bytes."
   ]
  },
  {
   "cell_type": "markdown",
   "metadata": {},
   "source": [
    "## Common Usage \n",
    "\n",
    "Given that dealing with strings is the most common scenario, we primarily talk about the usage of TextIO. The usage of other I/O format is similar.\n",
    "\n",
    "### open() & close()\n",
    "Character|\tMeaning\n",
    ":----------|:----------\n",
    "'r'\t|open for reading (default)\n",
    "'w'\t|open for writing, truncating the file first\n",
    "'x'\t|open for exclusive creation, failing if the file already exists\n",
    "'a'\t|open for writing, appending to the end of the file if it exists\n",
    "'b' |binary mode\n",
    "'t'\t|text mode (default)\n",
    "'+'\t|open a disk file for updating (reading and writing)\n",
    "'U'\t|universal newlines mode (deprecated)"
   ]
  },
  {
   "cell_type": "code",
   "execution_count": 9,
   "metadata": {},
   "outputs": [
    {
     "name": "stdout",
     "output_type": "stream",
     "text": [
      "<_io.TextIOWrapper name='test_io/myfile.txt' mode='r' encoding='UTF-8'>\n"
     ]
    }
   ],
   "source": [
    "f = open(\"test_io/myfile.txt\", \"r\") \n",
    "print(f)\n",
    "f.close()"
   ]
  },
  {
   "cell_type": "markdown",
   "metadata": {},
   "source": [
    "### read\n",
    "Method|Description\n",
    ":-----|:------\n",
    "read(size)|Read and return at most size characters from the stream as a single str. If size is negative or None, reads until EOF.\n",
    "readline(size=-1)|Read until newline or EOF and return a single str. If the stream is already at EOF, an empty string is returned.\n",
    "readlines(hint=-1)|Read and return a list of lines from the stream. hint can be specified to control the number of lines read\n",
    "readable()|Return True if the stream can be read from. If False, read() will raise OSError."
   ]
  },
  {
   "cell_type": "code",
   "execution_count": 10,
   "metadata": {},
   "outputs": [
    {
     "data": {
      "text/plain": [
       "'this is a text file.\\n这是一个字符串文件。'"
      ]
     },
     "execution_count": 10,
     "metadata": {},
     "output_type": "execute_result"
    }
   ],
   "source": [
    "f = open(\"test_io/myfile.txt\", \"rt\")\n",
    "f.read()"
   ]
  },
  {
   "cell_type": "code",
   "execution_count": 11,
   "metadata": {},
   "outputs": [
    {
     "data": {
      "text/plain": [
       "'this is a text file.\\n'"
      ]
     },
     "execution_count": 11,
     "metadata": {},
     "output_type": "execute_result"
    }
   ],
   "source": [
    "f.close()\n",
    "f = open(\"test_io/myfile.txt\", \"rt\")\n",
    "f.readline()"
   ]
  },
  {
   "cell_type": "code",
   "execution_count": 12,
   "metadata": {},
   "outputs": [
    {
     "data": {
      "text/plain": [
       "'这是一个字符串文件。'"
      ]
     },
     "execution_count": 12,
     "metadata": {},
     "output_type": "execute_result"
    }
   ],
   "source": [
    "f.readline()"
   ]
  },
  {
   "cell_type": "code",
   "execution_count": 13,
   "metadata": {},
   "outputs": [
    {
     "data": {
      "text/plain": [
       "['this is a text file.\\n', '这是一个字符串文件。']"
      ]
     },
     "execution_count": 13,
     "metadata": {},
     "output_type": "execute_result"
    }
   ],
   "source": [
    "f.close()\n",
    "f = open(\"test_io/myfile.txt\", \"rt\")\n",
    "f.readlines()"
   ]
  },
  {
   "cell_type": "code",
   "execution_count": 14,
   "metadata": {},
   "outputs": [
    {
     "data": {
      "text/plain": [
       "True"
      ]
     },
     "execution_count": 14,
     "metadata": {},
     "output_type": "execute_result"
    }
   ],
   "source": [
    "f.readable()"
   ]
  },
  {
   "cell_type": "code",
   "execution_count": 15,
   "metadata": {},
   "outputs": [
    {
     "data": {
      "text/plain": [
       "False"
      ]
     },
     "execution_count": 15,
     "metadata": {},
     "output_type": "execute_result"
    }
   ],
   "source": [
    "f.writable()"
   ]
  },
  {
   "cell_type": "code",
   "execution_count": 16,
   "metadata": {
    "collapsed": true
   },
   "outputs": [],
   "source": [
    "f.close()"
   ]
  },
  {
   "cell_type": "markdown",
   "metadata": {},
   "source": [
    "### Write\n",
    "Method|Description\n",
    ":-----|:------\n",
    "write(s)|Write the string s to the stream and return the number of characters written.\n",
    "writelines(lines)|Write a list of lines to the stream. Line separators are not added, so it is usual for each of the lines provided to have a line separator at the end.\n",
    "writable()|Return True if the stream supports writing. If False, write() and truncate() will raise OSError."
   ]
  },
  {
   "cell_type": "code",
   "execution_count": 17,
   "metadata": {},
   "outputs": [
    {
     "data": {
      "text/plain": [
       "37"
      ]
     },
     "execution_count": 17,
     "metadata": {},
     "output_type": "execute_result"
    }
   ],
   "source": [
    "f = open(\"test_io/mywrite.txt\", \"w\")\n",
    "f.write(\"The first line is written by write()\\n\")  # Note that this won't add \\n in the end."
   ]
  },
  {
   "cell_type": "code",
   "execution_count": 18,
   "metadata": {
    "collapsed": true
   },
   "outputs": [],
   "source": [
    "lines = [\"The second line is written by writelines([list_of_lines_one])\\n\",\n",
    "         \"The third line is written by writelines([list_of_lines_two])\\n\"]\n",
    "f.writelines(lines)"
   ]
  },
  {
   "cell_type": "code",
   "execution_count": 19,
   "metadata": {},
   "outputs": [
    {
     "data": {
      "text/plain": [
       "True"
      ]
     },
     "execution_count": 19,
     "metadata": {},
     "output_type": "execute_result"
    }
   ],
   "source": [
    "f.writable()"
   ]
  },
  {
   "cell_type": "code",
   "execution_count": 20,
   "metadata": {},
   "outputs": [
    {
     "data": {
      "text/plain": [
       "False"
      ]
     },
     "execution_count": 20,
     "metadata": {},
     "output_type": "execute_result"
    }
   ],
   "source": [
    "f.readable()"
   ]
  },
  {
   "cell_type": "code",
   "execution_count": 21,
   "metadata": {
    "collapsed": true
   },
   "outputs": [],
   "source": [
    "f.close()"
   ]
  },
  {
   "cell_type": "code",
   "execution_count": 22,
   "metadata": {},
   "outputs": [
    {
     "name": "stdout",
     "output_type": "stream",
     "text": [
      "The first line is written by write()\n",
      "The second line is written by writelines([list_of_lines_one])\n",
      "The third line is written by writelines([list_of_lines_two])\n",
      "\n"
     ]
    }
   ],
   "source": [
    "with open(\"test_io/mywrite.txt\", \"r\") as f:\n",
    "    print(f.read())"
   ]
  }
 ],
 "metadata": {
  "kernelspec": {
   "display_name": "Python 3",
   "language": "python",
   "name": "python3"
  },
  "language_info": {
   "codemirror_mode": {
    "name": "ipython",
    "version": 3
   },
   "file_extension": ".py",
   "mimetype": "text/x-python",
   "name": "python",
   "nbconvert_exporter": "python",
   "pygments_lexer": "ipython3",
   "version": "3.6.3"
  }
 },
 "nbformat": 4,
 "nbformat_minor": 2
}
