{
 "cells": [
  {
   "cell_type": "markdown",
   "metadata": {},
   "source": [
    "# Input and Output\n",
    "\n",
    "There are several ways to present the output of a program; data can be printed in a **human-readable form**, or **written to a file for future use**. \n",
    "\n",
    "## Fancier Output Formatting\n",
    "Three ways of writing values:\n",
    "- expression statements\n",
    "- print()\n",
    "- write() method of file objects\n",
    "\n",
    "There are two ways to format your output:\n",
    "- the first way is to do all the string handling yourself;\n",
    "    - using string slicing and concatenation operations you can create any layout you can imagine.\n",
    "    - The string type has some methods that perform useful operations for padding strings to a given column width; these will be discussed shortly. \n",
    "- The second way is to use the `str.format()` method.\n",
    "\n",
    "The `string` module contains a `Template` class which offers yet another way to substitute values into strings.\n",
    "\n",
    "One question remains, of course: how do you convert values to strings? Luckily, Python has ways to convert any value to a string: \n",
    "- pass it to the repr() or str() functions.\n",
    "\n",
    "The str() function is meant to return representations of values which are fairly human-readable, while repr() is meant to generate representations which can be read by the interpreter (or will force a SyntaxError if there is no equivalent syntax). For objects which don’t have a particular representation for human consumption, str() will return the same value as repr(). Many values, such as numbers or structures like lists and dictionaries, have the same representation using either function. Strings, in particular, have two distinct representations.\n",
    "\n",
    "Some examples:"
   ]
  },
  {
   "cell_type": "markdown",
   "metadata": {},
   "source": [
    "## Reading and Writing Files\n",
    "`open()` returns a file object, and is most commonly used with two arguments: open(filename, mode)."
   ]
  },
  {
   "cell_type": "code",
   "execution_count": null,
   "metadata": {
    "collapsed": true
   },
   "outputs": [],
   "source": [
    "f = open(\"files\", \"w\")"
   ]
  },
  {
   "cell_type": "markdown",
   "metadata": {},
   "source": [
    "### Saving structured data with JSON\n",
    "\n",
    "Reading structures form a file:\n",
    "- Strings : easily be written\n",
    "- Numbers : takes a bit more effort\n",
    "- Nested lists, dictionaries : pretty complicated.\n",
    "\n",
    "Python allows you to use the popular data interchange format called **JSON (JavaScript Object Notation)**. \n",
    "- The standard module called **`json`** can take Python data hierarchies,\n",
    "- **Serializing** : Converting json to string representations.\n",
    "- **Deserializing** : Reconstructing the data from the string representation is called.\n",
    "- Between serializing and deserializing, the string representing the object may have been stored in **a file or data**, or **sent over a network connection to some distant machine**.\n",
    "- The JSON format is commonly used by modern applications to allow for data exchange.\n",
    "\n",
    "If you have an object x, you can view its JSON string representation with a simple line of code:"
   ]
  },
  {
   "cell_type": "code",
   "execution_count": 1,
   "metadata": {
    "collapsed": true
   },
   "outputs": [],
   "source": [
    "import json"
   ]
  },
  {
   "cell_type": "code",
   "execution_count": 2,
   "metadata": {},
   "outputs": [
    {
     "data": {
      "text/plain": [
       "'[1, \"simple\", \"list\"]'"
      ]
     },
     "execution_count": 2,
     "metadata": {},
     "output_type": "execute_result"
    }
   ],
   "source": [
    "json.dumps([1, 'simple', 'list'])"
   ]
  },
  {
   "cell_type": "code",
   "execution_count": 3,
   "metadata": {},
   "outputs": [],
   "source": [
    "# Simply serializes the object to a text file\n",
    "with open(\"json_test.txt\", \"w\") as f:\n",
    "    json.dump([1, 'simple', 'list'], f)"
   ]
  },
  {
   "cell_type": "markdown",
   "metadata": {},
   "source": [
    "To decode the object again, if f is a text file object which has been opened for reading:"
   ]
  },
  {
   "cell_type": "code",
   "execution_count": 4,
   "metadata": {},
   "outputs": [
    {
     "data": {
      "text/plain": [
       "[1, 'simple', 'list']"
      ]
     },
     "execution_count": 4,
     "metadata": {},
     "output_type": "execute_result"
    }
   ],
   "source": [
    "with open(\"json_test.txt\", \"r\") as f:\n",
    "    x = json.load(f)\n",
    "x"
   ]
  },
  {
   "cell_type": "markdown",
   "metadata": {},
   "source": [
    "Note: This simple serialization technique can handle lists and dictionaries, but **serializing arbitrary class instances in JSON requires a bit of extra effort**. The reference for the json module contains an explanation of this.\n",
    "\n",
    "#### **See also** `pickle` - the pickle module\n",
    "- Contrary to JSON, pickle is a protocol which **allows the serialization of arbitrarily complex Python objects**. \n",
    "- As such, it is **specific to Python and cannot be used to communicate with applications written in other languages**.\n",
    "- It is also insecure by default: deserializing pickle data coming from an untrusted source can execute arbitrary code, if the data was crafted by a skilled attacker."
   ]
  },
  {
   "cell_type": "code",
   "execution_count": 5,
   "metadata": {
    "collapsed": true
   },
   "outputs": [],
   "source": [
    "!rm json_test.txt"
   ]
  }
 ],
 "metadata": {
  "kernelspec": {
   "display_name": "Python 3",
   "language": "python",
   "name": "python3"
  },
  "language_info": {
   "codemirror_mode": {
    "name": "ipython",
    "version": 3
   },
   "file_extension": ".py",
   "mimetype": "text/x-python",
   "name": "python",
   "nbconvert_exporter": "python",
   "pygments_lexer": "ipython3",
   "version": "3.6.3"
  }
 },
 "nbformat": 4,
 "nbformat_minor": 2
}
