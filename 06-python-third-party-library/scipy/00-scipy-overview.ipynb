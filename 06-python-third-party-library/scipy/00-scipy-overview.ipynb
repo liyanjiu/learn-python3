{
 "cells": [
  {
   "cell_type": "markdown",
   "metadata": {},
   "source": [
    "# Scientific Overview"
   ]
  },
  {
   "cell_type": "markdown",
   "metadata": {},
   "source": [
    "**`IPyton`** supports an interactive interpreter.\n",
    "\n",
    "**`NumPy`** supports an efficient `ndarray` object for fast vectorization.\n",
    "\n",
    "**`Matplotlib`** supports a plot tool like MATLAB.\n",
    "\n",
    "**`SciPy`** supports libraries for scientific funcitons based on `Numpy`.\n",
    "\n",
    "**`Pandas`** 是处理时间序列数据的第三方库，提供一个类似 R 语言的环境。\n",
    "\n",
    "**`StatsModels`** 是一个统计库，着重于统计模型。\n",
    "\n",
    "**`Scikits`** 以 Scipy 为基础，提供如 scikits-learn 机器学习和scikits-image 图像处理等高级用法。"
   ]
  },
  {
   "cell_type": "markdown",
   "metadata": {},
   "source": [
    "## SciPy\n",
    "\n",
    "SciPy is a collection of mathematical algorithms and convenience functions built on the Numpy extension of Python. \n",
    "\n",
    "SciPy is organized into subpackages covering different scientific computing domains. These are summarized in the following table:\n",
    "\n",
    "Subpackage | 子模块 | Description | 描述\n",
    ":---------|:---------|:---------|:-------\n",
    "cluster|集群|Clustering algorithms|集群算法\n",
    "constants|常数|Physical and mathematical constants|物理数学常数\n",
    "fftpack|快速傅里叶变换|Fast Fourier Transform routines|快速傅里叶变换\n",
    "integrate|微积分|Integration and ordinary differential equation solvers|积分和常微分方程求解\n",
    "interpolate|插值|Interpolation and smoothing splines|插值\n",
    "io|输入输出|Input and Output|输入输出\n",
    "linalg|线代|Linear algebra|线性代数\n",
    "ndimage|图像|N-dimensional image processing|N维图像处理\n",
    "odr|正交距离回归|Orthogonal distance regression|正交距离回归\n",
    "optimize|优化|Optimization and root-finding routines|优化和求根算法\n",
    "signal|信号|Signal processing|信号处理|\n",
    "sparse|稀疏矩阵|Sparse matrices and associated routines|稀疏矩阵及其运算\n",
    "spatial|空间数据结构|Spatial data structures and algorithms|空间数据结构和算法\n",
    "special|特殊|Special functions|特殊函数\n",
    "stats|统计|Statistical distributions and functions|统计分布和函数"
   ]
  },
  {
   "cell_type": "markdown",
   "metadata": {},
   "source": [
    "For brevity and convenience, we will often assume that the main packages (numpy, scipy, and matplotlib) have been imported as:"
   ]
  },
  {
   "cell_type": "code",
   "execution_count": 1,
   "metadata": {},
   "outputs": [],
   "source": [
    "import numpy as np\n",
    "import scipy as sp\n",
    "import matplotlib as mpl\n",
    "import matplotlib.pyplot as plt"
   ]
  },
  {
   "cell_type": "markdown",
   "metadata": {},
   "source": [
    "Scipy sub-packages need to be imported separately, for example:"
   ]
  },
  {
   "cell_type": "code",
   "execution_count": 2,
   "metadata": {},
   "outputs": [],
   "source": [
    "from scipy import linalg, optimize"
   ]
  },
  {
   "cell_type": "markdown",
   "metadata": {},
   "source": [
    "## Finding Documentation"
   ]
  },
  {
   "cell_type": "markdown",
   "metadata": {},
   "source": [
    "Numpy and Scipy have the same namespace. We can ues these methods for help:\n",
    "- help()\n",
    "- info()\n",
    "- source()\n",
    "- lookfor()"
   ]
  },
  {
   "cell_type": "markdown",
   "metadata": {},
   "source": [
    "One is Python’s command help in the pydoc module."
   ]
  },
  {
   "cell_type": "code",
   "execution_count": 3,
   "metadata": {},
   "outputs": [
    {
     "name": "stdout",
     "output_type": "stream",
     "text": [
      "Help on function transpose in module numpy.core.fromnumeric:\n",
      "\n",
      "transpose(a, axes=None)\n",
      "    Permute the dimensions of an array.\n",
      "    \n",
      "    Parameters\n",
      "    ----------\n",
      "    a : array_like\n",
      "        Input array.\n",
      "    axes : list of ints, optional\n",
      "        By default, reverse the dimensions, otherwise permute the axes\n",
      "        according to the values given.\n",
      "    \n",
      "    Returns\n",
      "    -------\n",
      "    p : ndarray\n",
      "        `a` with its axes permuted.  A view is returned whenever\n",
      "        possible.\n",
      "    \n",
      "    See Also\n",
      "    --------\n",
      "    moveaxis\n",
      "    argsort\n",
      "    \n",
      "    Notes\n",
      "    -----\n",
      "    Use `transpose(a, argsort(axes))` to invert the transposition of tensors\n",
      "    when using the `axes` keyword argument.\n",
      "    \n",
      "    Transposing a 1-D array returns an unchanged view of the original array.\n",
      "    \n",
      "    Examples\n",
      "    --------\n",
      "    >>> x = np.arange(4).reshape((2,2))\n",
      "    >>> x\n",
      "    array([[0, 1],\n",
      "           [2, 3]])\n",
      "    \n",
      "    >>> np.transpose(x)\n",
      "    array([[0, 2],\n",
      "           [1, 3]])\n",
      "    \n",
      "    >>> x = np.ones((1, 2, 3))\n",
      "    >>> np.transpose(x, (1, 0, 2)).shape\n",
      "    (2, 1, 3)\n",
      "\n"
     ]
    }
   ],
   "source": [
    "help(np.transpose)"
   ]
  },
  {
   "cell_type": "markdown",
   "metadata": {},
   "source": [
    "A numpy/scipy-specific help system is also available under the command numpy.info"
   ]
  },
  {
   "cell_type": "code",
   "execution_count": 4,
   "metadata": {},
   "outputs": [
    {
     "name": "stdout",
     "output_type": "stream",
     "text": [
      " fmin(func, x0, args=(), xtol=0.0001, ftol=0.0001, maxiter=None, maxfun=None,\n",
      "      full_output=0, disp=1, retall=0, callback=None, initial_simplex=None)\n",
      "\n",
      "Minimize a function using the downhill simplex algorithm.\n",
      "\n",
      "This algorithm only uses function values, not derivatives or second\n",
      "derivatives.\n",
      "\n",
      "Parameters\n",
      "----------\n",
      "func : callable func(x,*args)\n",
      "    The objective function to be minimized.\n",
      "x0 : ndarray\n",
      "    Initial guess.\n",
      "args : tuple, optional\n",
      "    Extra arguments passed to func, i.e. ``f(x,*args)``.\n",
      "xtol : float, optional\n",
      "    Absolute error in xopt between iterations that is acceptable for\n",
      "    convergence.\n",
      "ftol : number, optional\n",
      "    Absolute error in func(xopt) between iterations that is acceptable for\n",
      "    convergence.\n",
      "maxiter : int, optional\n",
      "    Maximum number of iterations to perform.\n",
      "maxfun : number, optional\n",
      "    Maximum number of function evaluations to make.\n",
      "full_output : bool, optional\n",
      "    Set to True if fopt and warnflag outputs are desired.\n",
      "disp : bool, optional\n",
      "    Set to True to print convergence messages.\n",
      "retall : bool, optional\n",
      "    Set to True to return list of solutions at each iteration.\n",
      "callback : callable, optional\n",
      "    Called after each iteration, as callback(xk), where xk is the\n",
      "    current parameter vector.\n",
      "initial_simplex : array_like of shape (N + 1, N), optional\n",
      "    Initial simplex. If given, overrides `x0`.\n",
      "    ``initial_simplex[j,:]`` should contain the coordinates of\n",
      "    the j-th vertex of the ``N+1`` vertices in the simplex, where\n",
      "    ``N`` is the dimension.\n",
      "\n",
      "Returns\n",
      "-------\n",
      "xopt : ndarray\n",
      "    Parameter that minimizes function.\n",
      "fopt : float\n",
      "    Value of function at minimum: ``fopt = func(xopt)``.\n",
      "iter : int\n",
      "    Number of iterations performed.\n",
      "funcalls : int\n",
      "    Number of function calls made.\n",
      "warnflag : int\n",
      "    1 : Maximum number of function evaluations made.\n",
      "    2 : Maximum number of iterations reached.\n",
      "allvecs : list\n",
      "    Solution at each iteration.\n",
      "\n",
      "See also\n",
      "--------\n",
      "minimize: Interface to minimization algorithms for multivariate\n",
      "    functions. See the 'Nelder-Mead' `method` in particular.\n",
      "\n",
      "Notes\n",
      "-----\n",
      "Uses a Nelder-Mead simplex algorithm to find the minimum of function of\n",
      "one or more variables.\n",
      "\n",
      "This algorithm has a long history of successful use in applications.\n",
      "But it will usually be slower than an algorithm that uses first or\n",
      "second derivative information. In practice it can have poor\n",
      "performance in high-dimensional problems and is not robust to\n",
      "minimizing complicated functions. Additionally, there currently is no\n",
      "complete theory describing when the algorithm will successfully\n",
      "converge to the minimum, or how fast it will if it does. Both the ftol and\n",
      "xtol criteria must be met for convergence.\n",
      "\n",
      "References\n",
      "----------\n",
      ".. [1] Nelder, J.A. and Mead, R. (1965), \"A simplex method for function\n",
      "       minimization\", The Computer Journal, 7, pp. 308-313\n",
      "\n",
      ".. [2] Wright, M.H. (1996), \"Direct Search Methods: Once Scorned, Now\n",
      "       Respectable\", in Numerical Analysis 1995, Proceedings of the\n",
      "       1995 Dundee Biennial Conference in Numerical Analysis, D.F.\n",
      "       Griffiths and G.A. Watson (Eds.), Addison Wesley Longman,\n",
      "       Harlow, UK, pp. 191-208.\n"
     ]
    }
   ],
   "source": [
    "np.info(optimize.fmin)"
   ]
  },
  {
   "cell_type": "code",
   "execution_count": 5,
   "metadata": {},
   "outputs": [
    {
     "name": "stdout",
     "output_type": "stream",
     "text": [
      "Search results for 'resize array'\n",
      "---------------------------------\n",
      "numpy.chararray.resize\n",
      "    Change shape and size of array in-place.\n",
      "numpy.ma.resize\n",
      "    Return a new masked array with the specified size and shape.\n",
      "numpy.resize\n",
      "    Return a new array with the specified shape.\n",
      "numpy.chararray\n",
      "    chararray(shape, itemsize=1, unicode=False, buffer=None, offset=0,\n",
      "numpy.memmap\n",
      "    Create a memory-map to an array stored in a *binary* file on disk.\n",
      "numpy.squeeze\n",
      "    Remove single-dimensional entries from the shape of an array.\n",
      "numpy.expand_dims\n",
      "    Expand the shape of an array.\n",
      "numpy.ma.MaskedArray.resize\n",
      "    .. warning::\n"
     ]
    }
   ],
   "source": [
    "np.lookfor(\"resize array\")"
   ]
  },
  {
   "cell_type": "code",
   "execution_count": 6,
   "metadata": {},
   "outputs": [
    {
     "name": "stdout",
     "output_type": "stream",
     "text": [
      "In file: /home/liyj/anaconda3/lib/python3.6/site-packages/scipy/linalg/special_matrices.py\n",
      "\n",
      "def dft(n, scale=None):\n",
      "    \"\"\"\n",
      "    Discrete Fourier transform matrix.\n",
      "\n",
      "    Create the matrix that computes the discrete Fourier transform of a\n",
      "    sequence [1]_.  The n-th primitive root of unity used to generate the\n",
      "    matrix is exp(-2*pi*i/n), where i = sqrt(-1).\n",
      "\n",
      "    Parameters\n",
      "    ----------\n",
      "    n : int\n",
      "        Size the matrix to create.\n",
      "    scale : str, optional\n",
      "        Must be None, 'sqrtn', or 'n'.\n",
      "        If `scale` is 'sqrtn', the matrix is divided by `sqrt(n)`.\n",
      "        If `scale` is 'n', the matrix is divided by `n`.\n",
      "        If `scale` is None (the default), the matrix is not normalized, and the\n",
      "        return value is simply the Vandermonde matrix of the roots of unity.\n",
      "\n",
      "    Returns\n",
      "    -------\n",
      "    m : (n, n) ndarray\n",
      "        The DFT matrix.\n",
      "\n",
      "    Notes\n",
      "    -----\n",
      "    When `scale` is None, multiplying a vector by the matrix returned by\n",
      "    `dft` is mathematically equivalent to (but much less efficient than)\n",
      "    the calculation performed by `scipy.fftpack.fft`.\n",
      "\n",
      "    .. versionadded:: 0.14.0\n",
      "\n",
      "    References\n",
      "    ----------\n",
      "    .. [1] \"DFT matrix\", http://en.wikipedia.org/wiki/DFT_matrix\n",
      "\n",
      "    Examples\n",
      "    --------\n",
      "    >>> from scipy.linalg import dft\n",
      "    >>> np.set_printoptions(precision=5, suppress=True)\n",
      "    >>> x = np.array([1, 2, 3, 0, 3, 2, 1, 0])\n",
      "    >>> m = dft(8)\n",
      "    >>> m.dot(x)   # Compute the DFT of x\n",
      "    array([ 12.+0.j,  -2.-2.j,   0.-4.j,  -2.+2.j,   4.+0.j,  -2.-2.j,\n",
      "            -0.+4.j,  -2.+2.j])\n",
      "\n",
      "    Verify that ``m.dot(x)`` is the same as ``fft(x)``.\n",
      "\n",
      "    >>> from scipy.fftpack import fft\n",
      "    >>> fft(x)     # Same result as m.dot(x)\n",
      "    array([ 12.+0.j,  -2.-2.j,   0.-4.j,  -2.+2.j,   4.+0.j,  -2.-2.j,\n",
      "             0.+4.j,  -2.+2.j])\n",
      "    \"\"\"\n",
      "    if scale not in [None, 'sqrtn', 'n']:\n",
      "        raise ValueError(\"scale must be None, 'sqrtn', or 'n'; \"\n",
      "                         \"%r is not valid.\" % (scale,))\n",
      "\n",
      "    omegas = np.exp(-2j * np.pi * np.arange(n) / n).reshape(-1, 1)\n",
      "    m = omegas ** np.arange(n)\n",
      "    if scale == 'sqrtn':\n",
      "        m /= math.sqrt(n)\n",
      "    elif scale == 'n':\n",
      "        m /= n\n",
      "    return m\n",
      "\n"
     ]
    }
   ],
   "source": [
    "np.source(linalg.dft)"
   ]
  }
 ],
 "metadata": {
  "kernelspec": {
   "display_name": "Python 3",
   "language": "python",
   "name": "python3"
  },
  "language_info": {
   "codemirror_mode": {
    "name": "ipython",
    "version": 3
   },
   "file_extension": ".py",
   "mimetype": "text/x-python",
   "name": "python",
   "nbconvert_exporter": "python",
   "pygments_lexer": "ipython3",
   "version": "3.6.3"
  }
 },
 "nbformat": 4,
 "nbformat_minor": 2
}
