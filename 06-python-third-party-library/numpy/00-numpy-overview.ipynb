{
 "cells": [
  {
   "cell_type": "markdown",
   "metadata": {},
   "source": [
    "# Numpy Overview"
   ]
  },
  {
   "cell_type": "markdown",
   "metadata": {},
   "source": [
    "NumPy is the fundamental package for scientific computing with Python.\n",
    "- a powerful N-dimensional array object\n",
    "- sophisticated (broadcasting) functions\n",
    "- tools for integrating C/C++ and Fortran code\n",
    "- useful linear algebra, Fourier transform, and random number capabilities\n",
    "\n",
    "The most significant is N-dimensional array object."
   ]
  },
  {
   "cell_type": "markdown",
   "metadata": {},
   "source": [
    "## What is NumPy?"
   ]
  },
  {
   "cell_type": "markdown",
   "metadata": {},
   "source": [
    "Numpy is the fundamental package for scientific computing in Python. At the core of the NumPy package is the ndarray object. \n",
    "\n",
    "It provides:\n",
    "- **A multidimensional array object**\n",
    "- Various derived array object \n",
    "    - Masked arrays\n",
    "    - Matrices\n",
    "- Fast operations on array\n",
    "    - mathematical\n",
    "    - logical\n",
    "    - shape manipulation\n",
    "    - sorting\n",
    "    - selecting\n",
    "    - I/O\n",
    "    - Discrete Fourier Transforms\n",
    "    - basic linear algebra\n",
    "    - basic statistical operations\n",
    "    - random simulation\n",
    "    - ..."
   ]
  },
  {
   "cell_type": "markdown",
   "metadata": {},
   "source": [
    "## NumPy vs Standard Python Sequences"
   ]
  },
  {
   "cell_type": "markdown",
   "metadata": {},
   "source": [
    "NumPy | Standard Python Sequences\n",
    ":------|:--------------------------\n",
    "NumPy arrays have a fixed size at creation | Grow dynamically\n",
    "The elements required the same data type | The elements can have different data type\n",
    "NumPy arrays facilitate advanced mathematical and other types of operations on large numbers of data | Inefficient\n",
    "More scientifical and mathematical package using Numpy | Though these packages typically support Python-sequence input, they convert such input to NumPy arrays prior to processing, and they often output NumPy arrays. "
   ]
  },
  {
   "cell_type": "markdown",
   "metadata": {},
   "source": [
    "## Vectorization"
   ]
  },
  {
   "cell_type": "markdown",
   "metadata": {},
   "source": [
    "As a simple example, consider the case of multiplying each element in a 1-D sequence with the corresponding element in another sequence of the same length. "
   ]
  },
  {
   "cell_type": "code",
   "execution_count": 1,
   "metadata": {},
   "outputs": [
    {
     "name": "stdout",
     "output_type": "stream",
     "text": [
      "<class 'list'>\n",
      "[0, 1, 4, 9, 16, 25, 36, 49, 64, 81]\n"
     ]
    }
   ],
   "source": [
    "# Using Python Lists\n",
    "a = b = range(10)\n",
    "c = []\n",
    "for i in range(len(a)):\n",
    "    c.append(a[i]*b[i])\n",
    "print(type(c))\n",
    "print(c)"
   ]
  },
  {
   "cell_type": "code",
   "execution_count": 2,
   "metadata": {},
   "outputs": [
    {
     "name": "stdout",
     "output_type": "stream",
     "text": [
      "<class 'numpy.ndarray'>\n",
      "[ 0  1  4  9 16 25 36 49 64 81]\n"
     ]
    }
   ],
   "source": [
    "# Using Numpy\n",
    "import numpy as np\n",
    "a = b = np.array(list(range(10)))\n",
    "c = a * b\n",
    "print(type(c))\n",
    "print(c)"
   ]
  },
  {
   "cell_type": "markdown",
   "metadata": {},
   "source": [
    "Element-by-element operations are the “default mode” when an ndarray is involved, but the element-by-element operation is speedily executed by pre-compiled C code.\n",
    "\n",
    "Vectorization describes the absence of any explicit looping, indexing, etc.\n",
    "- Concise and precise.\n",
    "- Fewer lines of code generally means fewer bugs.\n",
    "- More Pythonic and easier to read."
   ]
  },
  {
   "cell_type": "markdown",
   "metadata": {},
   "source": [
    "## Resources"
   ]
  },
  {
   "cell_type": "markdown",
   "metadata": {},
   "source": [
    "- [Numpy.org](http://www.numpy.org/)\n",
    "- [Numpy and Scipy Documentation](https://docs.scipy.org/doc/)\n",
    "    - For contributors:\n",
    "        - Numpy developer guide\n",
    "        - Scipy developer guide\n",
    "    - For users:\n",
    "        - Numpy Reference Guide\n",
    "        - Numpy User Guide\n",
    "        - Scipy Reference Guide"
   ]
  }
 ],
 "metadata": {
  "kernelspec": {
   "display_name": "Python 3",
   "language": "python",
   "name": "python3"
  },
  "language_info": {
   "codemirror_mode": {
    "name": "ipython",
    "version": 3
   },
   "file_extension": ".py",
   "mimetype": "text/x-python",
   "name": "python",
   "nbconvert_exporter": "python",
   "pygments_lexer": "ipython3",
   "version": "3.6.3"
  }
 },
 "nbformat": 4,
 "nbformat_minor": 2
}
