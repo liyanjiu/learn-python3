{
 "cells": [
  {
   "cell_type": "markdown",
   "metadata": {},
   "source": [
    "# Matplotlib Overview"
   ]
  },
  {
   "cell_type": "markdown",
   "metadata": {},
   "source": [
    "## Introduction"
   ]
  },
  {
   "cell_type": "markdown",
   "metadata": {},
   "source": [
    "matplotlib是一个Python的2D图形库。提供了一些MATLAB风格的API，其中包括：\n",
    "- `pyplot interface`：快速生成图像，采用MATLAB风格的接口。\n",
    "- `object oriented interface`：完全控制画图对象，便于自定义。"
   ]
  },
  {
   "cell_type": "markdown",
   "metadata": {},
   "source": [
    "## Installation "
   ]
  },
  {
   "cell_type": "markdown",
   "metadata": {},
   "source": [
    "[官网安装指南](http://matplotlib.org/users/installing.html)\n",
    "\n",
    "建议：使用anaconda集成环境，或者使用pip3安装。"
   ]
  },
  {
   "cell_type": "markdown",
   "metadata": {},
   "source": [
    "## Resources"
   ]
  },
  {
   "cell_type": "markdown",
   "metadata": {},
   "source": [
    "- 教程\n",
    "    - [User Guide](http://matplotlib.org/users/index.html)\n",
    "    - [External Learning Resources](http://matplotlib.org/resources/index.html)\n",
    "- Demo\n",
    "    - [Gallary](http://matplotlib.org/gallery/index.html)\n",
    "    - [API](http://matplotlib.org/api/pyplot_summary.html)\n",
    "    \n",
    "其中Gallary比较重要，提供了众多的demo，可以方便使用。"
   ]
  }
 ],
 "metadata": {
  "kernelspec": {
   "display_name": "Python 3",
   "language": "python",
   "name": "python3"
  },
  "language_info": {
   "codemirror_mode": {
    "name": "ipython",
    "version": 3
   },
   "file_extension": ".py",
   "mimetype": "text/x-python",
   "name": "python",
   "nbconvert_exporter": "python",
   "pygments_lexer": "ipython3",
   "version": "3.6.3"
  }
 },
 "nbformat": 4,
 "nbformat_minor": 2
}
