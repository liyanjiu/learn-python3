{
 "cells": [
  {
   "cell_type": "markdown",
   "metadata": {},
   "source": [
    "# Scenario Guide for Python Applications"
   ]
  },
  {
   "cell_type": "markdown",
   "metadata": {},
   "source": [
    "This part of the guide focuses on tool and module advice based on different scenarios.\n",
    "\n",
    ">Stay hungry, stay foolish.\n",
    "\n",
    "Learning resources : \n",
    "- [Python资源大全中文版](https://github.com/jobbole/awesome-python-cn)\n",
    "- [awesome-python](https://github.com/vinta/awesome-python)\n",
    "- [Python HOWTOs](https://docs.python.org/3/howto/index.html)\n",
    "\n",
    "Learning (updating ...)\n",
    "- Numpy\n",
    "- Scipy\n",
    "- Matplotlib"
   ]
  },
  {
   "cell_type": "markdown",
   "metadata": {},
   "source": [
    "## Libraries\n",
    "### Science\n",
    "_Libraries for scientific computing._\n",
    "\n",
    "- NumPy - A fundamental package for scientific computing with Python.\n",
    "- SciPy - A Python-based ecosystem of open-source software for mathematics, science, and engineering.\n",
    "- NetworkX - A high-productivity software for complex networks.\n",
    "\n",
    "### Data Visualization\n",
    "_Libraries for visualizing data. See: awesome-javascript._\n",
    "\n",
    "- Matplotlib - A Python 2D plotting library.\n",
    "\n",
    "### HTML Manipulation\n",
    "_Libraries for working with HTML and XML._\n",
    "- BeautifulSoup - Providing Pythonic idioms for iterating, searching, and modifying HTML or XML.\n",
    "\n",
    "### HTTP\n",
    "_Libraries for working with HTTP._\n",
    "- requests - HTTP Requests for Humans™.\n",
    "\n",
    "### Interactive Interpreter\n",
    "_Interactive Python interpreters (REPL)._\n",
    "\n",
    "- Jupyter Notebook (IPython) - A rich toolkit to help you make the most out of using Python interactively."
   ]
  },
  {
   "cell_type": "markdown",
   "metadata": {
    "collapsed": true
   },
   "source": [
    "## Python HOWTOs\n",
    "\n",
    "### Web Programming HOWTOs\n",
    "\n",
    "#### Prerequisite\n",
    "\n",
    "[Let’s Build A Web Server](https://ruslanspivak.com/lsbaws-part1/)"
   ]
  }
 ],
 "metadata": {
  "kernelspec": {
   "display_name": "Python 3",
   "language": "python",
   "name": "python3"
  },
  "language_info": {
   "codemirror_mode": {
    "name": "ipython",
    "version": 3
   },
   "file_extension": ".py",
   "mimetype": "text/x-python",
   "name": "python",
   "nbconvert_exporter": "python",
   "pygments_lexer": "ipython3",
   "version": "3.6.3"
  }
 },
 "nbformat": 4,
 "nbformat_minor": 2
}
