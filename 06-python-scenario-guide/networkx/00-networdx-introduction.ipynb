{
 "cells": [
  {
   "cell_type": "markdown",
   "metadata": {},
   "source": [
    "# Networkx Introduction \n",
    "\n",
    ">[Quick Tutorial](https://networkx.github.io/documentation/stable/tutorial.html)  \n",
    ">[Reference](https://networkx.github.io/documentation/stable/reference/index.html)\n",
    "\n",
    "## NetworkX Basics\n",
    "\n",
    "After starting Python, import the networkx module with (the recommended way)"
   ]
  },
  {
   "cell_type": "code",
   "execution_count": 1,
   "metadata": {
    "collapsed": true
   },
   "outputs": [],
   "source": [
    "import networkx as nx\n",
    "import matplotlib.pyplot as plt\n",
    "import math"
   ]
  },
  {
   "cell_type": "markdown",
   "metadata": {},
   "source": [
    "The following basic graph types are provided as Python classes:\n",
    "\n",
    "### Graph\n",
    "This class implements an undirected graph. It ignores multiple edges between two nodes. It does allow self-loop edges between a node and itself.\n",
    "### DiGraph\n",
    "Directed graphs, that is, graphs with directed edges. Provides operations common to directed graphs, (a subclass of Graph).\n",
    "### MultiGraph\n",
    "A flexible graph class that allows multiple undirected edges between pairs of nodes. The additional flexibility leads to some degradation in performance, though usually not significant.\n",
    "### MultiDiGraph\n",
    "A directed version of a MultiGraph.\n",
    "\n",
    "Empty graph-like objects are created with"
   ]
  },
  {
   "cell_type": "code",
   "execution_count": 2,
   "metadata": {
    "collapsed": true
   },
   "outputs": [],
   "source": [
    "G = nx.Graph()\n",
    "G = nx.DiGraph()\n",
    "G = nx.MultiGraph()\n",
    "G = nx.MultiDiGraph()"
   ]
  },
  {
   "cell_type": "markdown",
   "metadata": {},
   "source": [
    "### Design Paradigms    \n",
    "- All graph classes allow **any hashable object as a node**. Hashable objects include strings, tuples, integers, and more. \n",
    "- Arbitrary **edge attributes** such as weights and labels **can be associated with an edge**.\n",
    "- The graph internal data structures are based on an **adjacency list** representation and implemented using **Python dictionary datastructures**.\n",
    "    - The **graph adjacency structure** is implemented as a **Python dictionary of dictionaries**;\n",
    "    - the outer dictionary is keyed by nodes to values that are themselves dictionaries keyed by neighboring node to the edge attributes associated with that edge.\n",
    "    - This **“dict-of-dicts” structure allows fast** addition, deletion, and lookup of nodes and neighbors in large graphs. \n",
    "\n",
    "- The underlying datastructure is accessed directly by **methods** (the programming interface “API”) in the class definitions. \n",
    "- **All functions**, on the other hand, manipulate graph-like objects solely **via those API methods** and **not by acting directly on the datastructure**. This design allows for possible replacement of the ‘dicts-of-dicts’-based datastructure with an alternative datastructure that implements the same methods.\n",
    "\n",
    "## Graphs \n",
    "### what type of graph object to use.\n",
    "The first choice to be made when using NetworkX is what type of graph object to use. \n",
    "- Directed: Are the edges directed? Does the order of the edge pairs (u,v)(u,v) matter? A directed graph is specified by the “Di” prefix in the class name, e.g. DiGraph(). \n",
    "- Multi-edges: Are multiple edges allowed between each pair of nodes? We provide a standard data structure and interface for this type of graph using the prefix “Multi”, e.g., MultiGraph().\n",
    "\n",
    "### what kinds of nodes and edges to use\n",
    "The next choice you have to make when specifying a graph is what kinds of nodes and edges to use.\n",
    "\n",
    "If the **topology of the network** is all you care about then using integers or strings as the nodes makes sense and you need not worry about edge data. \n",
    "\n",
    "If you have a data structure already in place to describe nodes you can simply use that structure as your nodes provided it is hashable.\n",
    "\n",
    "Edges often have data associated with them. **Arbitrary data can be associated with edges as an edge attribute** which can beassigned to an edge by **using keyword/value pairs when adding edges**. \n",
    "\n",
    "If the data is numeric and the intent is to represent a weighted graph then use the ‘weight’ keyword for the attribute. Some of the graph algorithms, such as Dijkstra’s shortest path algorithm, use this attribute name by default to get the weight for each edge.\n",
    "\n",
    "Once you’ve decided how to encode the nodes and edges, and whether you have an undirected/directed graph with or without multiedges you are ready to build your network.\n",
    "\n",
    "\n",
    "## Data Structure\n",
    "\n",
    "NetworkX uses a **“dictionary of dictionaries of dictionaries”** as the basic network data structure. \n",
    "\n",
    "This allows fast lookup with reasonable storage for large sparse networks. \n",
    "\n",
    "The keys are nodes so `G[u]` returns an adjacency dictionary keyed by neighbor to the edge attribute dictionary. A view of the adjacency data structure is provided by the dict-like object `G.adj` as e.g. `for node, nbrsdict in G.adj.items():`. \n",
    "\n",
    "The expression `G[u][v]` returns the edge attribute dictionary itself. \n",
    "  \n",
    "**A dictionary of lists would have also been possible, but not allow fast edge detection nor convenient storage of edge data.**\n",
    "\n",
    "Advantages of dict-of-dicts-of-dicts data structure:\n",
    "\n",
    "- Find edges and remove edges with two dictionary look-ups.\n",
    "- Prefer to “lists” because of fast lookup with sparse storage.\n",
    "- Prefer to “sets” since data can be attached to edge.\n",
    "- `G[u][v]` returns the edge attribute dictionary.\n",
    "- `n in G` tests if node `n` is in graph `G`.\n",
    "- `for n in G`: iterates through the graph.\n",
    "- `for nbr in G[n]`: iterates through neighbors.\n",
    "\n",
    "As an example, here is a representation of an undirected graph with the edges (A,B) and (B,C)."
   ]
  },
  {
   "cell_type": "code",
   "execution_count": 3,
   "metadata": {
    "scrolled": true
   },
   "outputs": [
    {
     "data": {
      "text/plain": [
       "AdjacencyView({'A': {'B': {'weight': '0.7', 'color': 'red'}}, 'B': {'A': {'weight': '0.7', 'color': 'red'}, 'C': {}}, 'C': {'B': {}}})"
      ]
     },
     "execution_count": 3,
     "metadata": {},
     "output_type": "execute_result"
    }
   ],
   "source": [
    "G = nx.Graph()\n",
    "G.add_edge('A', 'B', weight='0.7', color='red')\n",
    "G.add_edge('B', 'C')\n",
    "G.adj"
   ]
  },
  {
   "cell_type": "code",
   "execution_count": 4,
   "metadata": {},
   "outputs": [
    {
     "data": {
      "text/plain": [
       "AtlasView({'B': {'weight': '0.7', 'color': 'red'}})"
      ]
     },
     "execution_count": 4,
     "metadata": {},
     "output_type": "execute_result"
    }
   ],
   "source": [
    "G['A']"
   ]
  },
  {
   "cell_type": "code",
   "execution_count": 5,
   "metadata": {
    "scrolled": true
   },
   "outputs": [
    {
     "data": {
      "text/plain": [
       "{'color': 'red', 'weight': '0.7'}"
      ]
     },
     "execution_count": 5,
     "metadata": {},
     "output_type": "execute_result"
    }
   ],
   "source": [
    "G['A']['B']"
   ]
  },
  {
   "cell_type": "code",
   "execution_count": 6,
   "metadata": {},
   "outputs": [
    {
     "data": {
      "text/plain": [
       "{'color': 'red', 'weight': '0.7'}"
      ]
     },
     "execution_count": 6,
     "metadata": {},
     "output_type": "execute_result"
    }
   ],
   "source": [
    "# Graphs provide two interfaces to the edge data attributes: adjacency and edges. \n",
    "# So G[u][v]['width'] is the same as G.edges[u, v]['width'].\n",
    "G.edges['A', 'B']  # This is equivalent to G[u][v]"
   ]
  },
  {
   "cell_type": "code",
   "execution_count": 7,
   "metadata": {},
   "outputs": [
    {
     "name": "stdout",
     "output_type": "stream",
     "text": [
      "A : {'B': {'weight': '0.7', 'color': 'red'}}\n",
      "B : {'A': {'weight': '0.7', 'color': 'red'}, 'C': {}}\n",
      "C : {'B': {}}\n"
     ]
    },
    {
     "data": {
      "text/plain": [
       "networkx.classes.coreviews.AdjacencyView"
      ]
     },
     "execution_count": 7,
     "metadata": {},
     "output_type": "execute_result"
    }
   ],
   "source": [
    "for node, nbrsdict in G.adj.items():\n",
    "    print(node, \":\", nbrsdict)\n",
    "type(G.adj)"
   ]
  },
  {
   "cell_type": "markdown",
   "metadata": {
    "collapsed": true
   },
   "source": [
    "The data structure gets morphed slightly for each base graph class. \n",
    "\n",
    "- For DiGraph two dict-of-dicts-of-dicts structures are provided, one for successors (G.succ) and one for predecessors (G.pred). \n",
    "- For MultiGraph/MultiDiGraph we use a dict-of-dicts-of-dicts-of-dicts  where the third dictionary is keyed by an edge key identifier to the fourth dictionary which contains the edge attributes for that edge between the two nodes."
   ]
  },
  {
   "cell_type": "markdown",
   "metadata": {},
   "source": [
    "## Graph Creation\n",
    "\n",
    "NetworkX graph objects can be created in one of three ways:\n",
    "\n",
    "- [Graph generators](https://networkx.github.io/documentation/stable/reference/generators.html) — standard algorithms to create network topologies.\n",
    "- [Importing data from pre-existing (usually file) sources.](https://networkx.github.io/documentation/stable/reference/convert.html)\n",
    "- Adding edges and nodes explicitly.\n",
    "\n",
    "Explicit addition and removal of nodes/edges is the easiest to describe. Each graph object supplies methods to manipulate the graph. For example,"
   ]
  },
  {
   "cell_type": "code",
   "execution_count": 8,
   "metadata": {
    "collapsed": true
   },
   "outputs": [],
   "source": [
    "G = nx.Graph()\n",
    "\n",
    "nlist = [i for i in range(5)]\n",
    "elist = [(u, v) for u in range(5) for v in range(5)]\n",
    "\n",
    "G.add_nodes_from(nlist)\n",
    "G.add_node(5)\n",
    "\n",
    "G.add_edges_from(elist, weight=0.5)\n",
    "G.add_edge(1, 5, weight=0.9)\n",
    "G.add_edge(5, 6, weight=0.1)"
   ]
  },
  {
   "cell_type": "markdown",
   "metadata": {},
   "source": [
    "## Graph Reporting\n",
    "\n",
    "Class views provide basic reporting of **nodes, neighbors, edges and degree**. These views provide iteration over the properties as well as membership queries and data attribute lookup. "
   ]
  },
  {
   "cell_type": "code",
   "execution_count": 9,
   "metadata": {},
   "outputs": [
    {
     "name": "stdout",
     "output_type": "stream",
     "text": [
      "(0, 0)\n",
      "(0, 1)\n",
      "(0, 2)\n",
      "(0, 3)\n",
      "(0, 4)\n",
      "(1, 1)\n",
      "(1, 2)\n",
      "(1, 3)\n",
      "(1, 4)\n",
      "(1, 5)\n",
      "(2, 2)\n",
      "(2, 3)\n",
      "(2, 4)\n",
      "(3, 3)\n",
      "(3, 4)\n",
      "(4, 4)\n",
      "(5, 6)\n"
     ]
    }
   ],
   "source": [
    "for e in list(G.edges):\n",
    "    print(e)"
   ]
  },
  {
   "cell_type": "code",
   "execution_count": 10,
   "metadata": {},
   "outputs": [
    {
     "name": "stdout",
     "output_type": "stream",
     "text": [
      "(0, 0) : {'weight': 0.5}\n",
      "(0, 1) : {'weight': 0.5}\n",
      "(0, 2) : {'weight': 0.5}\n",
      "(0, 3) : {'weight': 0.5}\n",
      "(0, 4) : {'weight': 0.5}\n",
      "(1, 1) : {'weight': 0.5}\n",
      "(1, 2) : {'weight': 0.5}\n",
      "(1, 3) : {'weight': 0.5}\n",
      "(1, 4) : {'weight': 0.5}\n",
      "(1, 5) : {'weight': 0.9}\n",
      "(2, 2) : {'weight': 0.5}\n",
      "(2, 3) : {'weight': 0.5}\n",
      "(2, 4) : {'weight': 0.5}\n",
      "(3, 3) : {'weight': 0.5}\n",
      "(3, 4) : {'weight': 0.5}\n",
      "(4, 4) : {'weight': 0.5}\n",
      "(5, 6) : {'weight': 0.1}\n"
     ]
    }
   ],
   "source": [
    "for e, datadict in G.edges.items():\n",
    "    print(e, ':', datadict)"
   ]
  },
  {
   "cell_type": "code",
   "execution_count": 11,
   "metadata": {},
   "outputs": [
    {
     "name": "stdout",
     "output_type": "stream",
     "text": [
      "(0, 0, 0.5)\n",
      "(0, 1, 0.5)\n",
      "(0, 2, 0.5)\n",
      "(0, 3, 0.5)\n",
      "(0, 4, 0.5)\n",
      "(1, 1, 0.5)\n",
      "(1, 2, 0.5)\n",
      "(1, 3, 0.5)\n",
      "(1, 4, 0.5)\n",
      "(1, 5, 0.9)\n",
      "(2, 2, 0.5)\n",
      "(2, 3, 0.5)\n",
      "(2, 4, 0.5)\n",
      "(3, 3, 0.5)\n",
      "(3, 4, 0.5)\n",
      "(4, 4, 0.5)\n",
      "(5, 6, 0.1)\n"
     ]
    }
   ],
   "source": [
    "for e_weight in G.edges.data('weight'):\n",
    "    print(e_weight)"
   ]
  },
  {
   "cell_type": "code",
   "execution_count": 12,
   "metadata": {},
   "outputs": [
    {
     "data": {
      "image/png": "[encoded data removed]",
      "text/plain": [
       "<matplotlib.figure.Figure at 0x7fb0aa2e0898>"
      ]
     },
     "metadata": {},
     "output_type": "display_data"
    }
   ],
   "source": [
    "nx.draw(G, pos=nx.circular_layout(G), with_labels=True)\n",
    "plt.show()"
   ]
  },
  {
   "cell_type": "markdown",
   "metadata": {},
   "source": [
    "## Drawing\n",
    "\n",
    "While NetworkX is not designed as a network drawing tool, we provide a simple interface to **drawing packages and some simple layout algorithms**. \n",
    "\n",
    "- We interface to the excellent **Graphviz layout tools** like dot and neato with the (suggested) pygraphviz package or the pydot interface. \n",
    "- Drawing can be done using external programs or the **Matplotlib Python package**. Interactive GUI interfaces are possible, though not provided. \n",
    "\n",
    "The drawing tools are provided in the **module drawing**.\n",
    "\n",
    "The basic drawing functions essentially place the nodes on a **scatterplot** using the positions you provide via a dictionary or the positions are computed with a layout function. The edges are lines between those dots."
   ]
  },
  {
   "cell_type": "code",
   "execution_count": 13,
   "metadata": {},
   "outputs": [
    {
     "data": {
      "image/png": "[encoded data removed]",
      "text/plain": [
       "<matplotlib.figure.Figure at 0x7fb0aa2e02e8>"
      ]
     },
     "metadata": {},
     "output_type": "display_data"
    }
   ],
   "source": [
    "G = nx.cubical_graph()\n",
    "plt.subplot(121)\n",
    "nx.draw(G)   # default spring_layout\n",
    "\n",
    "plt.subplot(122)\n",
    "nx.draw(G, pos=nx.circular_layout(G), nodecolor='r', edge_color='b')\n",
    "\n",
    "plt.show()"
   ]
  },
  {
   "cell_type": "markdown",
   "metadata": {},
   "source": [
    "## Algorithms\n",
    "\n",
    "A number of graph algorithms are provided with NetworkX. \n",
    "\n",
    "As an example here is code to use Dijkstra’s algorithm to find the shortest weighted path:"
   ]
  },
  {
   "cell_type": "code",
   "execution_count": 14,
   "metadata": {},
   "outputs": [
    {
     "name": "stdout",
     "output_type": "stream",
     "text": [
      "The shortest path from 'a' to 'd' is : ['a', 'c', 'd']\n"
     ]
    },
    {
     "data": {
      "image/png": "[encoded data removed]",
      "text/plain": [
       "<matplotlib.figure.Figure at 0x7fb0a21e5908>"
      ]
     },
     "metadata": {},
     "output_type": "display_data"
    }
   ],
   "source": [
    "G = nx.Graph()\n",
    "e = [('a', 'b', 0.3), ('b', 'c', 0.9), ('a', 'c', 0.5), ('c', 'd', 1.2)]\n",
    "G.add_weighted_edges_from(e)\n",
    "print(\"The shortest path from 'a' to 'd' is :\", nx.dijkstra_path(G, 'a', 'd'))\n",
    "pos = nx.spring_layout(G)\n",
    "# nodes\n",
    "nx.draw_networkx_nodes(G, pos,\n",
    "                       nodelist=['a', 'c', 'd'],\n",
    "                       node_color='g',\n",
    "                       node_size=500,\n",
    "                       alpha=0.8)\n",
    "nx.draw_networkx_nodes(G, pos,\n",
    "                       nodelist=['b'],\n",
    "                       node_color='r',\n",
    "                       node_size=500,\n",
    "                       alpha=0.8)\n",
    "# edges\n",
    "nx.draw_networkx_edges(G, pos, width=1.0, alpha=0.5)\n",
    "nx.draw_networkx_edges(G, pos,\n",
    "                       edgelist=[('a', 'c'), ('c', 'd')],\n",
    "                       width=6, alpha=0.5, edge_color='g')\n",
    "nx.draw_networkx_edges(G, pos,\n",
    "                       edgelist=[('a', 'b'), ('b', 'c')],\n",
    "                       width=6, alpha=0.5, edge_color='r')\n",
    "# some labels\n",
    "labels = {}\n",
    "labels['a'] = 'a'\n",
    "labels['b'] = 'b'\n",
    "labels['c'] = 'c'\n",
    "labels['d'] = 'd'\n",
    "nx.draw_networkx_labels(G, pos, labels, font_size=16)\n",
    "\n",
    "plt.axis('off')\n",
    "plt.show()"
   ]
  }
 ],
 "metadata": {
  "kernelspec": {
   "display_name": "Python 3",
   "language": "python",
   "name": "python3"
  },
  "language_info": {
   "codemirror_mode": {
    "name": "ipython",
    "version": 3
   },
   "file_extension": ".py",
   "mimetype": "text/x-python",
   "name": "python",
   "nbconvert_exporter": "python",
   "pygments_lexer": "ipython3",
   "version": "3.6.3"
  }
 },
 "nbformat": 4,
 "nbformat_minor": 2
}
