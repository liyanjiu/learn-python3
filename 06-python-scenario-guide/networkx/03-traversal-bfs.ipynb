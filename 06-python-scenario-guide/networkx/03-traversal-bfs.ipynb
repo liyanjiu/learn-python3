{
 "cells": [
  {
   "cell_type": "markdown",
   "metadata": {},
   "source": [
    "# BFS in NetworkX\n",
    "\n",
    "Basic algorithms for breadth-first searching the nodes of a graph.\n",
    "\n",
    "Function|Description\n",
    ":-------|:----------\n",
    "bfs_edges(G, source[, reverse])|\tIterate over edges in a breadth-first-search starting at source.\n",
    "bfs_tree(G, source[, reverse])|\tReturn an oriented tree constructed from of a breadth-first-search starting at source.\n",
    "bfs_predecessors(G, source)|\tReturns an iterator of predecessors in breadth-first-search from source.\n",
    "bfs_successors(G, source)|\tReturns an iterator of successors in breadth-first-search from source."
   ]
  }
 ],
 "metadata": {
  "kernelspec": {
   "display_name": "Python 3",
   "language": "python",
   "name": "python3"
  },
  "language_info": {
   "codemirror_mode": {
    "name": "ipython",
    "version": 3
   },
   "file_extension": ".py",
   "mimetype": "text/x-python",
   "name": "python",
   "nbconvert_exporter": "python",
   "pygments_lexer": "ipython3",
   "version": "3.6.3"
  }
 },
 "nbformat": 4,
 "nbformat_minor": 2
}
