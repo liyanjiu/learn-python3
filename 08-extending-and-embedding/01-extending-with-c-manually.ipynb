{
 "cells": [
  {
   "cell_type": "markdown",
   "metadata": {},
   "source": [
    "# Extending Python with C Manually"
   ]
  },
  {
   "cell_type": "markdown",
   "metadata": {},
   "source": [
    "Such extension modules can do two things that can’t be done directly in Python:\n",
    "- they can implement new built-in object types.\n",
    "- they can call C library functions and system calls.\n",
    "\n",
    "The Python API is incorporated in a C source file by including the header `\"Python.h\"`."
   ]
  },
  {
   "cell_type": "markdown",
   "metadata": {},
   "source": [
    "## Create a C Module\n",
    "### Writing C header and source file "
   ]
  },
  {
   "cell_type": "code",
   "execution_count": 1,
   "metadata": {},
   "outputs": [
    {
     "name": "stdout",
     "output_type": "stream",
     "text": [
      "Overwriting fact.h\n"
     ]
    }
   ],
   "source": [
    "%%file fact.h\n",
    "#ifndef FACT_H\n",
    "#define FACT_h\n",
    "\n",
    "int fact(int n);\n",
    "\n",
    "#endif"
   ]
  },
  {
   "cell_type": "code",
   "execution_count": 2,
   "metadata": {
    "scrolled": true
   },
   "outputs": [
    {
     "name": "stdout",
     "output_type": "stream",
     "text": [
      "Overwriting fact.c\n"
     ]
    }
   ],
   "source": [
    "%%file fact.c\n",
    "#include \"fact.h\"\n",
    "    \n",
    "int fact(int n) {\n",
    "    if (n <= 1) {\n",
    "        return 1;\n",
    "    }\n",
    "    else {\n",
    "        return n * fact(n - 1);\n",
    "    }\n",
    "}"
   ]
  },
  {
   "cell_type": "markdown",
   "metadata": {},
   "source": [
    "### Writing C wrap function"
   ]
  },
  {
   "cell_type": "code",
   "execution_count": 3,
   "metadata": {},
   "outputs": [
    {
     "name": "stdout",
     "output_type": "stream",
     "text": [
      "Overwriting fact_wrap.c\n"
     ]
    }
   ],
   "source": [
    "%%file fact_wrap.c\n",
    "\n",
    "/* Must include Python.h before any standard headers*/\n",
    "#include <Python.h>\n",
    "#include \"fact.h\"\n",
    "static PyObject* wrap_fact(PyObject *self, PyObject *args)\n",
    "{\n",
    "    /* Python->C data conversion */\n",
    "    int n, result;\n",
    "    // the string i here means there is only one integer\n",
    "    if (!PyArg_ParseTuple(args, \"i\", &n))\n",
    "        return NULL;\n",
    "    \n",
    "    /* C Function Call */\n",
    "    result = fact(n);\n",
    "    \n",
    "    /* C->Python data conversion */\n",
    "    return Py_BuildValue(\"i\", result);\n",
    "}\n",
    "\n",
    "/* Method table declaring the names of functions exposed to Python*/\n",
    "static PyMethodDef ExampleMethods[] = {\n",
    "    {\"fact\",  wrap_fact, METH_VARARGS, \"Calculate the factorial of n\"},\n",
    "    {NULL, NULL, 0, NULL}        /* Sentinel */\n",
    "};\n",
    "\n",
    "/* Module initialization function called at \"import example\"*/\n",
    "PyMODINIT_FUNC \n",
    "initexample(void)\n",
    "{\n",
    "    (void) Py_InitModule(\"example\", ExampleMethods);\n",
    "}"
   ]
  },
  {
   "cell_type": "markdown",
   "metadata": {},
   "source": [
    "## Compile the C  Module\n",
    "### Compile with gcc manually\n",
    "### Compile with setup.py"
   ]
  },
  {
   "cell_type": "code",
   "execution_count": 4,
   "metadata": {},
   "outputs": [
    {
     "name": "stdout",
     "output_type": "stream",
     "text": [
      "Overwriting setup.py\n"
     ]
    }
   ],
   "source": [
    "%%file setup.py\n",
    "from distutils.core import setup, Extension\n",
    "\n",
    "ext = Extension(name='example', sources=['fact_wrap.c', 'fact.c'])\n",
    "\n",
    "setup(name='example', ext_modules=[ext])"
   ]
  },
  {
   "cell_type": "code",
   "execution_count": 5,
   "metadata": {},
   "outputs": [
    {
     "name": "stdout",
     "output_type": "stream",
     "text": [
      "running build_ext\n",
      "building 'example' extension\n",
      "gcc -pthread -B /home/liyj/anaconda3/compiler_compat -Wl,--sysroot=/ -Wsign-compare -DNDEBUG -g -fwrapv -O3 -Wall -Wstrict-prototypes -fPIC -I/home/liyj/anaconda3/include/python3.6m -c fact_wrap.c -o build/temp.linux-x86_64-3.6/fact_wrap.o\n",
      "\u001b[01m\u001b[Kfact_wrap.c:\u001b[m\u001b[K In function ‘\u001b[01m\u001b[Kinitexample\u001b[m\u001b[K’:\n",
      "\u001b[01m\u001b[Kfact_wrap.c:30:12:\u001b[m\u001b[K \u001b[01;35m\u001b[Kwarning: \u001b[m\u001b[Kimplicit declaration of function ‘\u001b[01m\u001b[KPy_InitModule\u001b[m\u001b[K’ [-Wimplicit-function-declaration]\n",
      "     (void) Py_InitModule(\"example\", ExampleMethods);\n",
      "\u001b[01;32m\u001b[K            ^\u001b[m\u001b[K\n",
      "\u001b[01m\u001b[Kfact_wrap.c:31:1:\u001b[m\u001b[K \u001b[01;35m\u001b[Kwarning: \u001b[m\u001b[Kcontrol reaches end of non-void function [-Wreturn-type]\n",
      " }\n",
      "\u001b[01;32m\u001b[K ^\u001b[m\u001b[K\n",
      "gcc -pthread -B /home/liyj/anaconda3/compiler_compat -Wl,--sysroot=/ -Wsign-compare -DNDEBUG -g -fwrapv -O3 -Wall -Wstrict-prototypes -fPIC -I/home/liyj/anaconda3/include/python3.6m -c fact.c -o build/temp.linux-x86_64-3.6/fact.o\n",
      "gcc -pthread -shared -B /home/liyj/anaconda3/compiler_compat -L/home/liyj/anaconda3/lib -Wl,-rpath=/home/liyj/anaconda3/lib -Wl,--no-as-needed -Wl,--sysroot=/ build/temp.linux-x86_64-3.6/fact_wrap.o build/temp.linux-x86_64-3.6/fact.o -L/home/liyj/anaconda3/lib -lpython3.6m -o /home/liyj/git/learn-python3/08-extending-and-embedding/example.cpython-36m-x86_64-linux-gnu.so\n"
     ]
    }
   ],
   "source": [
    "!python setup.py build_ext --inplace"
   ]
  },
  {
   "cell_type": "markdown",
   "metadata": {},
   "source": [
    "### Using compiled module"
   ]
  },
  {
   "cell_type": "code",
   "execution_count": 6,
   "metadata": {},
   "outputs": [
    {
     "ename": "ImportError",
     "evalue": "/home/liyj/git/learn-python3/08-extending-and-embedding/example.cpython-36m-x86_64-linux-gnu.so: undefined symbol: Py_InitModule",
     "output_type": "error",
     "traceback": [
      "\u001b[0;31m---------------------------------------------------------------------------\u001b[0m",
      "\u001b[0;31mImportError\u001b[0m                               Traceback (most recent call last)",
      "\u001b[0;32m<ipython-input-6-cee56316c29b>\u001b[0m in \u001b[0;36m<module>\u001b[0;34m()\u001b[0m\n\u001b[0;32m----> 1\u001b[0;31m \u001b[0;32mimport\u001b[0m \u001b[0mexample\u001b[0m\u001b[0;34m\u001b[0m\u001b[0m\n\u001b[0m\u001b[1;32m      2\u001b[0m \u001b[0mdir\u001b[0m\u001b[0;34m(\u001b[0m\u001b[0mexample\u001b[0m\u001b[0;34m)\u001b[0m\u001b[0;34m\u001b[0m\u001b[0m\n",
      "\u001b[0;31mImportError\u001b[0m: /home/liyj/git/learn-python3/08-extending-and-embedding/example.cpython-36m-x86_64-linux-gnu.so: undefined symbol: Py_InitModule"
     ]
    }
   ],
   "source": [
    "import example\n",
    "dir(example)"
   ]
  },
  {
   "cell_type": "code",
   "execution_count": null,
   "metadata": {
    "collapsed": true
   },
   "outputs": [],
   "source": []
  }
 ],
 "metadata": {
  "kernelspec": {
   "display_name": "Python 3",
   "language": "python",
   "name": "python3"
  },
  "language_info": {
   "codemirror_mode": {
    "name": "ipython",
    "version": 3
   },
   "file_extension": ".py",
   "mimetype": "text/x-python",
   "name": "python",
   "nbconvert_exporter": "python",
   "pygments_lexer": "ipython3",
   "version": "3.6.3"
  }
 },
 "nbformat": 4,
 "nbformat_minor": 2
}
