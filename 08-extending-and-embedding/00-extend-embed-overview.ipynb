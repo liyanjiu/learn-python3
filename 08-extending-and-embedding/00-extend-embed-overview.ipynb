{
 "cells": [
  {
   "cell_type": "markdown",
   "metadata": {},
   "source": [
    "# Extending and Embedding Overview"
   ]
  },
  {
   "cell_type": "markdown",
   "metadata": {},
   "source": [
    "Official document describes: \n",
    "- **how to write modules in C or C++ to extend the Python interpreter with new modules.**\n",
    "- **how to embed the Python interpreter in another application**, for use as an extension language. \n",
    "- **how to compile and link extension modules** so that they can be loaded dynamically (at run time) into the interpreter, if the underlying operating system supports this feature.\n",
    "\n",
    "Such extension modules can do two things that can’t be done directly in Python:\n",
    "- they can implement new built-in object types.\n",
    "- they can call C library functions and system calls."
   ]
  },
  {
   "cell_type": "markdown",
   "metadata": {},
   "source": [
    "## Creating extensions without third party tools\n",
    "1. Extending Python with C or C++    \n",
    "2. Defining New Types\n",
    "3. Building C and C++ Extensions\n",
    "4. Building C and C++ Extensions on Windows\n",
    "\n",
    "## Recommended third party tools\n",
    "- **Cython**\n",
    "- cffi\n",
    "- SWIG\n",
    "- Numba"
   ]
  }
 ],
 "metadata": {
  "kernelspec": {
   "display_name": "Python 3",
   "language": "python",
   "name": "python3"
  },
  "language_info": {
   "codemirror_mode": {
    "name": "ipython",
    "version": 3
   },
   "file_extension": ".py",
   "mimetype": "text/x-python",
   "name": "python",
   "nbconvert_exporter": "python",
   "pygments_lexer": "ipython3",
   "version": "3.6.3"
  }
 },
 "nbformat": 4,
 "nbformat_minor": 2
}
