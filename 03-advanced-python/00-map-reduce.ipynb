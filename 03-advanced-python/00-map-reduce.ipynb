{
 "cells": [
  {
   "cell_type": "markdown",
   "metadata": {},
   "source": [
    "#  Map and Reduce"
   ]
  },
  {
   "cell_type": "code",
   "execution_count": 1,
   "metadata": {
    "collapsed": true
   },
   "outputs": [],
   "source": [
    "from functools import reduce\n",
    "from itertools import starmap"
   ]
  },
  {
   "cell_type": "markdown",
   "metadata": {},
   "source": [
    "## Map\n",
    "\n",
    "### `map(function, iterable, ...)`\n",
    "\n",
    "Return an iterator that applies function to every item of iterable, yielding the results. \n",
    "\n",
    "If additional iterable arguments are passed, function must take that many arguments and is applied to the items from all iterables in parallel. **With multiple iterables, the iterator stops when the shortest iterable is exhausted.**\n",
    "\n",
    "For cases where the function inputs are already arranged into argument tuples, see itertools.starmap()."
   ]
  },
  {
   "cell_type": "code",
   "execution_count": 2,
   "metadata": {},
   "outputs": [
    {
     "data": {
      "text/plain": [
       "<map at 0x7f3d282dd5c0>"
      ]
     },
     "execution_count": 2,
     "metadata": {},
     "output_type": "execute_result"
    }
   ],
   "source": [
    "m = map(lambda x: x**2, [ x for x in range(10)])\n",
    "m"
   ]
  },
  {
   "cell_type": "code",
   "execution_count": 3,
   "metadata": {},
   "outputs": [
    {
     "data": {
      "text/plain": [
       "[0, 1, 4, 9, 16, 25, 36, 49, 64, 81]"
      ]
     },
     "execution_count": 3,
     "metadata": {},
     "output_type": "execute_result"
    }
   ],
   "source": [
    "list(m)"
   ]
  },
  {
   "cell_type": "code",
   "execution_count": 4,
   "metadata": {},
   "outputs": [
    {
     "data": {
      "text/plain": [
       "[0, 1, 4, 9, 16]"
      ]
     },
     "execution_count": 4,
     "metadata": {},
     "output_type": "execute_result"
    }
   ],
   "source": [
    "mm = map(lambda x, y: x*y, [i for i in range(5)], [j for j in range(10)])\n",
    "list(mm)"
   ]
  },
  {
   "cell_type": "markdown",
   "metadata": {},
   "source": [
    "### `itertools.starmap(function, iterable)`\n",
    "\n",
    "Make an iterator that computes the function using arguments obtained from the iterable.\n",
    "\n",
    "- Used instead of map() when **argument parameters are already grouped in tuples from a single iterable** (the data has been “pre-zipped”). \n",
    "\n",
    "- The difference between map() and starmap() parallels the distinction between function(a,b) and function(*c). \n",
    "\n",
    "Equivalent to:\n",
    "```python\n",
    "def starmap(function, iterable):\n",
    "    # starmap(pow, [(2,5), (3,2), (10,3)]) --> 32 9 1000\n",
    "    for args in iterable:\n",
    "        yield function(*args)\n",
    "```"
   ]
  },
  {
   "cell_type": "code",
   "execution_count": 5,
   "metadata": {},
   "outputs": [
    {
     "data": {
      "text/plain": [
       "[32, 9, 1000]"
      ]
     },
     "execution_count": 5,
     "metadata": {},
     "output_type": "execute_result"
    }
   ],
   "source": [
    "sm = starmap(pow, [(2,5), (3,2), (10,3)])\n",
    "list(sm)"
   ]
  },
  {
   "cell_type": "markdown",
   "metadata": {},
   "source": [
    "## Reduce\n",
    "\n",
    "### `functools.reduce(function, iterable[, initializer])`\n",
    "\n",
    "Apply function of two arguments cumulatively to the items of sequence, from left to right, so as to reduce the sequence to a single value.\n",
    "\n",
    "For example, reduce(lambda x, y: x+y, [1, 2, 3, 4, 5]) calculates ((((1+2)+3)+4)+5). The left argument, x, is the accumulated value and the right argument, y, is the update value from the sequence. If the optional initializer is present, it is placed before the items of the sequence in the calculation, and serves as a default when the sequence is empty. If initializer is not given and sequence contains only one item, the first item is returned.\n",
    "\n",
    "Roughly equivalent to:\n",
    "\n",
    "```python\n",
    "def reduce(function, iterable, initializer=None):\n",
    "    it = iter(iterable)\n",
    "    if initializer is None:\n",
    "        value = next(it)\n",
    "    else:\n",
    "        value = initializer\n",
    "    for element in it:\n",
    "        value = function(value, element)\n",
    "    return value\n",
    "```"
   ]
  },
  {
   "cell_type": "code",
   "execution_count": 6,
   "metadata": {},
   "outputs": [
    {
     "data": {
      "text/plain": [
       "45"
      ]
     },
     "execution_count": 6,
     "metadata": {},
     "output_type": "execute_result"
    }
   ],
   "source": [
    "r = reduce(lambda x, y: x + y, [i for i in range(10)])\n",
    "r"
   ]
  },
  {
   "cell_type": "markdown",
   "metadata": {},
   "source": [
    "### Exercise\n",
    "\n",
    "Using map and reduce make a `str2float` function that converts string format to float format, for example, '123.456'-> 123.456"
   ]
  },
  {
   "cell_type": "code",
   "execution_count": 7,
   "metadata": {
    "collapsed": true
   },
   "outputs": [],
   "source": [
    "def str2float(str):\n",
    "    DIGITS = {'0': 0, '1': 1, '2': 2, '3': 3, '4': 4, '5': 5, '6': 6, '7': 7, '8': 8, '9': 9}\n",
    "    integer, digit = str.split('.')\n",
    "    integer = reduce(lambda x, y: x*10 + y, map(lambda i: DIGITS[i], integer))\n",
    "    digit = reduce(lambda x, y: x/10 +y, map(lambda d: DIGITS[d], reversed(digit))) / 10\n",
    "    return integer + digit"
   ]
  },
  {
   "cell_type": "code",
   "execution_count": 8,
   "metadata": {
    "scrolled": true
   },
   "outputs": [
    {
     "data": {
      "text/plain": [
       "123.456"
      ]
     },
     "execution_count": 8,
     "metadata": {},
     "output_type": "execute_result"
    }
   ],
   "source": [
    "str2float('123.456')"
   ]
  }
 ],
 "metadata": {
  "kernelspec": {
   "display_name": "Python 3",
   "language": "python",
   "name": "python3"
  },
  "language_info": {
   "codemirror_mode": {
    "name": "ipython",
    "version": 3
   },
   "file_extension": ".py",
   "mimetype": "text/x-python",
   "name": "python",
   "nbconvert_exporter": "python",
   "pygments_lexer": "ipython3",
   "version": "3.6.3"
  }
 },
 "nbformat": 4,
 "nbformat_minor": 2
}
