{
 "cells": [
  {
   "cell_type": "markdown",
   "metadata": {},
   "source": [
    "# Let's Build A Simple Interpreter"
   ]
  },
  {
   "cell_type": "markdown",
   "metadata": {},
   "source": [
    "- Github Project: [Let's Build A Simple Interpreter](https://github.com/rspivak/lsbasi)\n",
    "- Origin \n",
    "    - Series Blog: [Let's Build A Simple Interpreter](https://ruslanspivak.com/lsbasi-part1/)\n",
    "    - Author: Ruslan\n",
    "- Translation\n",
    "    - Series Blog: [动手搭建简易解释器](http://liyanjiu.top/blog)\n",
    "    - Translator: Yanjiu Li"
   ]
  },
  {
   "cell_type": "markdown",
   "metadata": {},
   "source": [
    "# 第一章\n",
    "\n",
    ">如果你不明白编译器是如何工作的，那么你不会明白计算机是如何工作的。如果你不是百分百确定你懂，那么你就是不懂。 —— Steve Yegge\n",
    "\n",
    "看到了吗？想一想吧。你是一个新人还是一个经验老道的软件开发者并不重要。如果你不懂编译器和解释器是如何工作的，那么你不会明白计算机是如何工作的。就这么简单。\n",
    "\n",
    "那么，你明白编译器和解释器是如何工作的吗？我的意思是说，你是否百分百确定你懂它们？不懂?或是正为此着急？\n",
    "![i_dont_know](https://ruslanspivak.com/lsbasi-part1/lsbasi_part1_i_dont_know.png)\n",
    "别着急，如果你坚持跟着我学习这一系列知识，并且制作一个自己的编译器和解释器，你最后一定会恍然大悟的。你将会在这个问题上变得自信和满足。至少我希望如此。\n",
    "![i_know](https://ruslanspivak.com/lsbasi-part1/lsbasi_part1_i_know.png)\n",
    "我们为什么需要学习解释器和编译器呢？我认为有以下三个原因：\n",
    "\n",
    "1. 写一个解释器或一个编译器你需要将大量的知识结合起来，这将会提高你的编程水平。同时，这些知识将会用在任何软件中，而不只是编译器和解释器中。\n",
    "2. 你渴望明白计算机是如何工作的。大多数时候，编译器和解释器就像魔术一样，但你想解密搭建编译器和解释器的过程，并了解他们内部的工作原理，完全掌握他们。\n",
    "3. 你想创建你自己的编程语言或者特定语言领域。如果你创造了一门编程语言，那么你同样需要编写你自己的解释器和编译器。\n",
    "\n",
    "好了，但是什么是解释器和编译器呢？\n",
    "\n",
    "一个解释器或者一个编译器的目标就是：将一些高级语言编写的源代码翻译为一些其他的形式。有些模糊，对吧？相信我，在接下来的学习中，你将会明白到底这些源代码被翻译成了什么。\n",
    "\n",
    "现在，你一定想知道解释器和编译器有什么不同。我们称，如果一个翻译器将源代码翻译成机器代码，那么就称之为编译器，如果只是执行程序，但没有先翻译成机器代码，就称之为解释器。看起来就像下面这样：\n",
    "\n",
    "![compiler_interpreter](https://ruslanspivak.com/lsbasi-part1/lsbasi_part1_compiler_interpreter.png)\n",
    "\n",
    "我希望，现在你可以确信你想要学习如何搭建编译器和解释器。你希望在本系列中学到什么呢？\n",
    "\n",
    "这就是干货，你和我将会创造一个对于Pascal语言的解释器，在本系列完成后，你会有一个可以工作的Pascal解释器和一个源码级的调试器，就像Python的pdb一样。\n",
    "\n",
    "你可能会问，为什么是Pascal呢？第一点，这不是一个为了教程而临时人造的语言，这是一种真正的编程语言，有非常多重要的语言结构。一些经典的计算机科学书籍会用Pascal语言作为他们的例子。（我明白对于建造一个解释器而言，那不是一个特别强迫的原因，但是我认为学一门非主流语言是一次非常酷的挑战。）\n",
    "\n",
    "这是一个用Pascal语言编写的求解阶乘的函数，接下来你将会用你自己的解释器和交互式源码级调试器解释它。\n",
    "\n",
    "```Pascal\n",
    "program factorial;\n",
    "\n",
    "function factorial(n: integer): longint;\n",
    "begin\n",
    "    if n = 0 then\n",
    "        factorial := 1\n",
    "    else\n",
    "        factorial := n * factorial(n - 1);\n",
    "end;\n",
    "\n",
    "var\n",
    "    n: integer;\n",
    "\n",
    "begin\n",
    "    for n := 0 to 16 do\n",
    "        writeln(n, '! = ', factorial(n));\n",
    "end.\n",
    "```\n",
    "\n",
    "我们使用Python来实现Pascal语言解释器，但是你可以用任何你想用的语言来实现，因为我们提出的想法不会依赖于任何特定的实现语言。好了，让我们准备大干一场吧！\n",
    "\n",
    "我们的第一个任务将会从写一个简单的算术表达式开始，也就是计算器。今天我们的目标非常的"
   ]
  }
 ],
 "metadata": {
  "kernelspec": {
   "display_name": "Python 3",
   "language": "python",
   "name": "python3"
  },
  "language_info": {
   "codemirror_mode": {
    "name": "ipython",
    "version": 3
   },
   "file_extension": ".py",
   "mimetype": "text/x-python",
   "name": "python",
   "nbconvert_exporter": "python",
   "pygments_lexer": "ipython3",
   "version": "3.6.3"
  }
 },
 "nbformat": 4,
 "nbformat_minor": 2
}
